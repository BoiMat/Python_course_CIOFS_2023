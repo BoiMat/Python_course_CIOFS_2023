{
  "nbformat": 4,
  "nbformat_minor": 0,
  "metadata": {
    "colab": {
      "provenance": []
    },
    "kernelspec": {
      "name": "python3",
      "display_name": "Python 3"
    },
    "language_info": {
      "name": "python"
    }
  },
  "cells": [
    {
      "cell_type": "markdown",
      "source": [
        "[![Open in Colab](https://colab.research.google.com/assets/colab-badge.svg)](https://colab.research.google.com/github/BoiMat/Python_course_CIOFS_2023/blob/main/Lezione_1/Lezione_1.ipynb)"
      ],
      "metadata": {
        "id": "DUpP1emNYJcJ"
      }
    },
    {
      "cell_type": "markdown",
      "source": [
        "# La Funzione `print`\n",
        "\n",
        "La funzione `print` è uno strumento fondamentale che consente di visualizzare output a schermo. È ampiamente utilizzata durante lo sviluppo e il debugging dei programmi per mostrare informazioni, risultati di calcoli, variabili, e altro ancora.\n",
        "\n",
        "## Sintassi di Base:\n",
        "\n",
        "La sintassi di base della funzione `print` è la seguente:"
      ],
      "metadata": {
        "id": "OE2wXaW8VE55"
      }
    },
    {
      "cell_type": "code",
      "source": [
        "print(espressione1, espressione2, ..., espressioneN)"
      ],
      "metadata": {
        "id": "ppKSAsRyVShN"
      },
      "execution_count": null,
      "outputs": []
    },
    {
      "cell_type": "markdown",
      "source": [
        "Le espressioni possono essere variabili, stringhe o qualsiasi altro tipo di dato che si desidera visualizzare.\n",
        "\n",
        "### Esempi:"
      ],
      "metadata": {
        "id": "t_vatmdsVS5g"
      }
    },
    {
      "cell_type": "code",
      "source": [
        "print(\"Ciao, mondo!\")"
      ],
      "metadata": {
        "id": "kQHMugrTVpwM"
      },
      "execution_count": null,
      "outputs": []
    },
    {
      "cell_type": "code",
      "source": [
        "nome = \"Alice\"\n",
        "eta = 25\n",
        "\n",
        "print(\"Ciao,\", nome + \"!\", \"Hai\", eta, \"anni.\")"
      ],
      "metadata": {
        "id": "pde7-pArVpRF"
      },
      "execution_count": null,
      "outputs": []
    },
    {
      "cell_type": "markdown",
      "source": [
        "Output:\n",
        "```\n",
        "Ciao, Alice! Hai 25 anni.\n",
        "```\n",
        "\n",
        "## Separatore (`sep`):\n",
        "\n",
        "È possibile specificare un separatore tra le diverse espressioni passate a `print` utilizzando il parametro `sep`. Il valore predefinito è uno spazio.\n",
        "\n",
        "### Esempio:"
      ],
      "metadata": {
        "id": "yWZcyD3FVi9M"
      }
    },
    {
      "cell_type": "code",
      "source": [
        "nome = \"Bob\"\n",
        "eta = 30\n",
        "\n",
        "print(nome, eta, sep=\"-\")"
      ],
      "metadata": {
        "id": "zKW1TJCAV2vr"
      },
      "execution_count": null,
      "outputs": []
    },
    {
      "cell_type": "markdown",
      "source": [
        "Output:\n",
        "```\n",
        "Bob-30\n",
        "```\n",
        "\n",
        "## Fine Linea (`end`):\n",
        "\n",
        "Il parametro `end` consente di specificare quale carattere deve essere utilizzato alla fine della stampa. Il valore predefinito è una nuova riga (`'\\n'`), ma è possibile cambiarlo a piacimento.\n",
        "\n",
        "### Esempio:"
      ],
      "metadata": {
        "id": "b1QuOJWVV1AI"
      }
    },
    {
      "cell_type": "code",
      "source": [
        "print(\"Questo\", end=\" \")\n",
        "print(\"è\", end=\" \")\n",
        "print(\"un esempio.\")"
      ],
      "metadata": {
        "id": "NM6-dQi9WM4J"
      },
      "execution_count": null,
      "outputs": []
    },
    {
      "cell_type": "markdown",
      "source": [
        "Output:\n",
        "```\n",
        "Questo è un esempio.\n",
        "```\n",
        "\n",
        "## Formattazione Avanzata:\n",
        "\n",
        "La funzione `print` supporta anche formattazione avanzata utilizzando le f-string o il metodo `format`.\n",
        "\n",
        "### Esempio con f-string:"
      ],
      "metadata": {
        "id": "oj4YgnvlWLZZ"
      }
    },
    {
      "cell_type": "code",
      "source": [
        "nome = \"Charlie\"\n",
        "eta = 22\n",
        "\n",
        "print(f\"Ciao, {nome}! Hai {eta} anni.\")"
      ],
      "metadata": {
        "id": "WdDgoIukWTl1"
      },
      "execution_count": null,
      "outputs": []
    },
    {
      "cell_type": "markdown",
      "source": [
        "### Esempio con `format`:"
      ],
      "metadata": {
        "id": "EytD1GwOWSvG"
      }
    },
    {
      "cell_type": "code",
      "source": [
        "nome = \"David\"\n",
        "eta = 35\n",
        "\n",
        "print(\"Ciao, {}! Hai {} anni.\".format(nome, eta))"
      ],
      "metadata": {
        "id": "XCUVIKfZWa3p"
      },
      "execution_count": null,
      "outputs": []
    },
    {
      "cell_type": "markdown",
      "source": [
        "Entrambi gli esempi produrranno lo stesso output:\n",
        "```\n",
        "Ciao, David! Hai 35 anni.\n",
        "```\n",
        "\n",
        "## Conclusioni:\n",
        "\n",
        "La funzione `print` è uno strumento versatile in Python che può essere utilizzato in modo semplice o avanzato per visualizzare informazioni a schermo."
      ],
      "metadata": {
        "id": "-1-W28ODWbds"
      }
    },
    {
      "cell_type": "code",
      "source": [
        "help(print)"
      ],
      "metadata": {
        "colab": {
          "base_uri": "https://localhost:8080/"
        },
        "id": "Ds99v1crYqwl",
        "outputId": "cb1d78a9-2e7b-4fd7-fb8d-96d79f91e95d"
      },
      "execution_count": null,
      "outputs": [
        {
          "output_type": "stream",
          "name": "stdout",
          "text": [
            "Help on built-in function print in module builtins:\n",
            "\n",
            "print(...)\n",
            "    print(value, ..., sep=' ', end='\\n', file=sys.stdout, flush=False)\n",
            "    \n",
            "    Prints the values to a stream, or to sys.stdout by default.\n",
            "    Optional keyword arguments:\n",
            "    file:  a file-like object (stream); defaults to the current sys.stdout.\n",
            "    sep:   string inserted between values, default a space.\n",
            "    end:   string appended after the last value, default a newline.\n",
            "    flush: whether to forcibly flush the stream.\n",
            "\n"
          ]
        }
      ]
    },
    {
      "cell_type": "markdown",
      "source": [
        "# La funzione `input`\n",
        "\n",
        "La funzione `input` è utilizzata per ottenere l'input dell'utente da tastiera durante l'esecuzione di un programma.\n",
        "\n",
        "## Utilizzo di Base:\n",
        "\n",
        "La sintassi di base della funzione `input` è la seguente:"
      ],
      "metadata": {
        "id": "6fYHTPgRW59Y"
      }
    },
    {
      "cell_type": "code",
      "source": [
        "variabile = input(\"Prompt: \")"
      ],
      "metadata": {
        "id": "0NBhr7uNXDb5"
      },
      "execution_count": null,
      "outputs": []
    },
    {
      "cell_type": "markdown",
      "source": [
        "Dove:\n",
        "- `\"Prompt: \"` è il messaggio che viene mostrato all'utente, solitamente una stringa che fornisce indicazioni su cosa inserire.\n",
        "- La funzione `input` restituisce una stringa che rappresenta ciò che l'utente ha inserito.\n",
        "\n",
        "### Esempio:"
      ],
      "metadata": {
        "id": "NbqWn_JWXD2j"
      }
    },
    {
      "cell_type": "code",
      "source": [
        "nome = input(\"Inserisci il tuo nome: \")\n",
        "print(\"Ciao,\", nome + \"!\")"
      ],
      "metadata": {
        "id": "QxSZsS8WXKvO"
      },
      "execution_count": null,
      "outputs": []
    },
    {
      "cell_type": "markdown",
      "source": [
        "Questo programma chiede all'utente di inserire il proprio nome e quindi saluta l'utente utilizzando il nome inserito.\n",
        "\n",
        "## Conversione di Tipi:\n",
        "\n",
        "Poiché la funzione `input` restituisce sempre una stringa, se si desidera ottenere un tipo di dato diverso (ad esempio, un numero intero), è necessario convertire esplicitamente la stringa.\n",
        "\n",
        "### Esempio:"
      ],
      "metadata": {
        "id": "ecXJZ7ajXJTJ"
      }
    },
    {
      "cell_type": "code",
      "source": [
        "eta_str = input(\"Quanti anni hai? \")\n",
        "eta = int(eta_str)\n",
        "print(f\"Hai {eta + 1} anni il prossimo anno.\")"
      ],
      "metadata": {
        "id": "Sx_MyUesXNWO"
      },
      "execution_count": null,
      "outputs": []
    },
    {
      "cell_type": "markdown",
      "source": [
        "In questo esempio, `eta_str` è una stringa che rappresenta l'età inserita dall'utente. La conversione con `int(eta_str)` la trasforma in un numero intero, consentendo quindi di eseguire operazioni matematiche.\n",
        "\n",
        "## Conclusioni:\n",
        "\n",
        "La funzione `input` è uno strumento utile per interagire con l'utente e ottenere dati da tastiera. Bisogna assicurarsi di gestire correttamente la conversione di tipi, specialmente se ci si aspetta input numerici."
      ],
      "metadata": {
        "id": "MEs0bbSTXR7K"
      }
    },
    {
      "cell_type": "markdown",
      "source": [],
      "metadata": {
        "id": "450NOWD1YIT8"
      }
    },
    {
      "cell_type": "markdown",
      "source": [
        "# I Tipi di Dati\n",
        "\n",
        "Python è un linguaggio di programmazione fortemente tipizzato, il che significa che ogni variabile deve avere un tipo di dato specifico.\n",
        "\n",
        "## Tipi di Dati Fondamentali:\n",
        "\n",
        "### 1. Intero (`int`):\n",
        "\n",
        "Gli interi rappresentano numeri interi senza parte decimale."
      ],
      "metadata": {
        "id": "chYq95AiZXIx"
      }
    },
    {
      "cell_type": "code",
      "source": [
        "numero_intero = 42"
      ],
      "metadata": {
        "id": "fDXADsA-ZeZk"
      },
      "execution_count": null,
      "outputs": []
    },
    {
      "cell_type": "markdown",
      "source": [
        "### 2. Numero a Virgola Mobile (`float`):\n",
        "\n",
        "I numeri a virgola mobile rappresentano numeri reali con parte decimale."
      ],
      "metadata": {
        "id": "PTbeRNBQZezi"
      }
    },
    {
      "cell_type": "code",
      "source": [
        "numero_float = 3.14"
      ],
      "metadata": {
        "id": "JDPm1eo6ZkvD"
      },
      "execution_count": null,
      "outputs": []
    },
    {
      "cell_type": "markdown",
      "source": [
        "### 3. Stringa (`str`):\n",
        "\n",
        "Le stringhe rappresentano sequenze di caratteri, e sono definite tra virgolette singole o doppie."
      ],
      "metadata": {
        "id": "OgGGeRCdZlPS"
      }
    },
    {
      "cell_type": "code",
      "source": [
        "testo = \"Ciao, mondo!\""
      ],
      "metadata": {
        "id": "EozXuD5SZuS5"
      },
      "execution_count": null,
      "outputs": []
    },
    {
      "cell_type": "markdown",
      "source": [
        "### 4. Booleano (`bool`):\n",
        "\n",
        "I booleani rappresentano i valori di verità True o False."
      ],
      "metadata": {
        "id": "tmpcDy_TZuv_"
      }
    },
    {
      "cell_type": "code",
      "source": [
        "vero_o_falso = True"
      ],
      "metadata": {
        "id": "BISPVQfSZzG_"
      },
      "execution_count": null,
      "outputs": []
    },
    {
      "cell_type": "markdown",
      "source": [
        "## Tipi di Dati Speciali:\n",
        "\n",
        "### 9. NoneType:\n",
        "\n",
        "Il tipo di dato `NoneType` ha un unico valore, `None`, che rappresenta l'assenza di valore."
      ],
      "metadata": {
        "id": "-IkU_eQOZznj"
      }
    },
    {
      "cell_type": "code",
      "source": [
        "valore_nullo = None"
      ],
      "metadata": {
        "id": "xlqLIAkXZ4oz"
      },
      "execution_count": null,
      "outputs": []
    },
    {
      "cell_type": "markdown",
      "source": [
        "## Conversione di Tipi (cast):\n",
        "\n",
        "È possibile convertire esplicitamente un tipo di dato in un altro utilizzando le funzioni di conversione come `int()`, `float()`, `str()`, ecc."
      ],
      "metadata": {
        "id": "UhvkXu0iZ8C7"
      }
    },
    {
      "cell_type": "code",
      "source": [
        "numero_intero = int(3.14)\n",
        "numero_virgola_mobile = float(\"42.75\")\n",
        "testo = str(123)"
      ],
      "metadata": {
        "id": "2c0PPoZwaB4U"
      },
      "execution_count": null,
      "outputs": []
    },
    {
      "cell_type": "markdown",
      "source": [
        "## Conclusioni:\n",
        "\n",
        "Comprendere i tipi di dati è essenziale per scrivere codice Python efficace. Sperimenta con diversi tipi di dati per ottenere familiarità con le operazioni che puoi eseguire su ciascun tipo e come convertirli quando necessario"
      ],
      "metadata": {
        "id": "Bjim1EvwaCbG"
      }
    }
  ]
}