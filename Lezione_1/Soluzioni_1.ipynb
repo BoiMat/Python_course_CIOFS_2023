{
  "cells": [
    {
      "cell_type": "markdown",
      "metadata": {},
      "source": [
        "[![Open in Colab](https://colab.research.google.com/assets/colab-badge.svg)](https://colab.research.google.com/github/BoiMat/Python_course_CIOFS_2023/blob/main/Lezione_1/Soluzioni_1.ipynb)"
      ]
    },
    {
      "cell_type": "markdown",
      "metadata": {},
      "source": [
        "# 1. Esercizio: Calcolo dell'Area del Rettangolo\n",
        "\n",
        "- Scrivi un programma Python che calcoli e stampi l'area di un rettangolo. Lunghezza * larghezza\n",
        "- Chiedi all'utente di inserire la lunghezza e la larghezza del rettangolo."
      ]
    },
    {
      "cell_type": "code",
      "execution_count": null,
      "metadata": {
        "id": "bASNQ03uzISy"
      },
      "outputs": [],
      "source": [
        "lunghezza = float(input(\"Inserisci la lunghezza del rettangolo: \"))\n",
        "larghezza = float(input(\"Inserisci la larghezza del rettangolo: \"))\n",
        "area = lunghezza * larghezza\n",
        "print(f\"L'area del rettangolo è: {area}\")"
      ]
    },
    {
      "cell_type": "markdown",
      "metadata": {},
      "source": [
        "# 2. Esercizio: Conversione delle Temperature\n",
        "\n",
        "- Scrivi un programma Python che converte la temperatura da Celsius a Fahrenheit.\n",
        "$$ T_F = (T_C * 9/5) + 32 $$\n",
        "- Chiedi all'utente di inserire la temperatura in gradi Celsius e stampa il risultato in Fahrenheit."
      ]
    },
    {
      "cell_type": "code",
      "execution_count": null,
      "metadata": {
        "id": "W5uMGrqyzMjK"
      },
      "outputs": [],
      "source": [
        "celsius = float(input(\"Inserisci la temperatura in gradi Celsius: \"))\n",
        "fahrenheit = (celsius * 9/5) + 32\n",
        "print(f\"La temperatura in gradi Fahrenheit è: {fahrenheit}\")"
      ]
    },
    {
      "cell_type": "markdown",
      "metadata": {},
      "source": [
        "# 3. Esercizio: Calcolo della Media\n",
        "- Scrivi un programma Python che calcoli la media di tre numeri. \n",
        "$$ \\frac{(x1 + x2 + x3)}{3} $$\n",
        "- Chiedi all'utente di inserire i tre numeri e stampa il risultato."
      ]
    },
    {
      "cell_type": "code",
      "execution_count": null,
      "metadata": {
        "id": "mqWop4CrzzJJ"
      },
      "outputs": [],
      "source": [
        "num1 = float(input(\"Inserisci il primo numero: \"))\n",
        "num2 = float(input(\"Inserisci il secondo numero: \"))\n",
        "num3 = float(input(\"Inserisci il terzo numero: \"))\n",
        "media = (num1 + num2 + num3) / 3\n",
        "print(f\"La media dei tre numeri è: {media}\")"
      ]
    },
    {
      "cell_type": "markdown",
      "metadata": {},
      "source": [
        "# 4. Esercizio: Somma e Prodotto\n",
        "- Scrivi un programma Python che calcoli la somma e il prodotto di due numeri.\n",
        "- Chiedi all'utente di inserire i due numeri e stampa i risultati."
      ]
    },
    {
      "cell_type": "code",
      "execution_count": null,
      "metadata": {
        "id": "byRWGBeJzz-P"
      },
      "outputs": [],
      "source": [
        "num1 = float(input(\"Inserisci il primo numero: \"))\n",
        "num2 = float(input(\"Inserisci il secondo numero: \"))\n",
        "somma = num1 + num2\n",
        "prodotto = num1 * num2\n",
        "print(f\"La somma è: {somma}\")\n",
        "print(f\"Il prodotto è: {prodotto}\")"
      ]
    },
    {
      "cell_type": "markdown",
      "metadata": {},
      "source": [
        "# 5. Esercizio: Stringhe e Concatenazione\n",
        "- Scrivi un programma Python che chieda all'utente il suo nome e il suo cognome separatamente.\n",
        "- Stampa un messaggio di saluto che includa sia il nome che il cognome."
      ]
    },
    {
      "cell_type": "code",
      "execution_count": null,
      "metadata": {
        "id": "z2g0g8UGz3gO"
      },
      "outputs": [],
      "source": [
        "nome = input(\"Inserisci il tuo nome: \")\n",
        "cognome = input(\"Inserisci il tuo cognome: \")\n",
        "saluto = f\"Ciao, {nome} {cognome}!\"\n",
        "print(saluto)"
      ]
    },
    {
      "cell_type": "markdown",
      "metadata": {},
      "source": [
        "# 6. Esercizio: Calcolo dell'Età Futura\n",
        "- Scrivi un programma Python che chieda all'utente di inserire la propria età.\n",
        "- Calcola e stampa l'età che avranno gli utenti fra 10 anni."
      ]
    },
    {
      "cell_type": "code",
      "execution_count": null,
      "metadata": {
        "id": "dcI3tKWtz8_y"
      },
      "outputs": [],
      "source": [
        "eta_corrente = int(input(\"Inserisci la tua età attuale: \"))\n",
        "eta_futura = eta_corrente + 10\n",
        "print(f\"Tra 10 anni avrai {eta_futura} anni.\")"
      ]
    },
    {
      "cell_type": "markdown",
      "metadata": {},
      "source": [
        "# 7. Esercizio: Calcolo del BMI\n",
        "- Scrivi un programma Python che calcoli l'Indice di Massa Corporea (BMI). \n",
        "$$ BMI = \\frac{peso}{altezza^2} $$\n",
        "- Chiedi all'utente di inserire il proprio peso in kg e l'altezza in metri, quindi calcola e stampa il BMI."
      ]
    },
    {
      "cell_type": "code",
      "execution_count": null,
      "metadata": {
        "id": "YGCb5nOy0ABE"
      },
      "outputs": [],
      "source": [
        "peso = float(input(\"Inserisci il tuo peso in kg: \"))\n",
        "altezza = float(input(\"Inserisci la tua altezza in metri: \"))\n",
        "bmi = peso / (altezza ** 2)\n",
        "print(f\"Il tuo BMI è: {bmi}\")"
      ]
    },
    {
      "cell_type": "markdown",
      "metadata": {},
      "source": [
        "# 8. Esercizio: Operazioni con Variabili\n",
        "- Scrivi un programma Python che utilizzi tre variabili per memorizzare un numero intero, un numero decimale e una stringa.\n",
        "- Esegui operazioni tra le variabili e stampa i risultati."
      ]
    },
    {
      "cell_type": "code",
      "execution_count": null,
      "metadata": {
        "id": "jzD_sX_w0EQ8"
      },
      "outputs": [],
      "source": [
        "num_intero = 5\n",
        "num_decimale = 2.5\n",
        "stringa = \"Hello\"\n",
        "risultato1 = num_intero + num_decimale\n",
        "risultato2 = stringa + \" World\"\n",
        "print(f\"Risultato somma: {risultato1}\")\n",
        "print(f\"Risultato concatenazione: {risultato2}\")"
      ]
    }
  ],
  "metadata": {
    "colab": {
      "provenance": []
    },
    "kernelspec": {
      "display_name": "Python 3",
      "name": "python3"
    },
    "language_info": {
      "name": "python"
    }
  },
  "nbformat": 4,
  "nbformat_minor": 0
}
