{
  "cells": [
    {
      "cell_type": "markdown",
      "source": [
        "[Open in Colab](https://colab.research.google.com/github/BoiMat/Python_course_CIOFS_2023/blob/tree/main/Lezione_1/colab.ipynb)"
      ],
      "metadata": {
        "id": "iRFa_CtQ4vu8"
      }
    },
    {
      "cell_type": "markdown",
      "metadata": {
        "id": "PB5SbbdB4Qku"
      },
      "source": [
        "# Funzionalità Principali di Google Colab\n",
        "\n",
        "**1. Interfaccia Utente:**\n",
        "   - Google Colab è un ambiente di sviluppo basato su browser.\n",
        "   - È simile a Jupyter Notebook e offre un'interfaccia interattiva per scrivere e eseguire codice Python."
      ]
    },
    {
      "cell_type": "markdown",
      "metadata": {
        "id": "-aMR2f784Qkx"
      },
      "source": [
        "**2. Documenti Colab:**\n",
        "   - I documenti Colab sono basati su cloud e memorizzati su Google Drive.\n",
        "   - Puoi creare nuovi documenti Colab direttamente da Google Drive.\n",
        "\n",
        "**3. Codice Interattivo:**\n",
        "   - Puoi scrivere e eseguire codice Python in cellule individuali all'interno di un documento Colab.\n",
        "   - Per eseguire una cella, premi Shift+Invio."
      ]
    },
    {
      "cell_type": "markdown",
      "metadata": {
        "id": "Z0_BRujE4Qky"
      },
      "source": [
        "\n",
        "**4. Text Cells:**\n",
        "   - Puoi inserire cellule di testo formattato (markdown) per documentazione, spiegazioni e istruzioni.\n"
      ]
    },
    {
      "cell_type": "markdown",
      "metadata": {
        "id": "K-4opAbe4Qky"
      },
      "source": [
        "**5. Code Cells:**\n",
        "   - Le cellule di codice consentono di scrivere e eseguire codice Python.\n",
        "   - Le uscite vengono visualizzate direttamente sotto la cella."
      ]
    },
    {
      "cell_type": "code",
      "execution_count": null,
      "metadata": {
        "id": "6mC--pA_4Qky"
      },
      "outputs": [],
      "source": [
        "x = [1, 2, 3, 4]\n",
        "y = [2, 4, 6, 8]"
      ]
    },
    {
      "cell_type": "markdown",
      "metadata": {
        "id": "6x1hex0P4Qk0"
      },
      "source": [
        "**6. Visualizzazione di Output:**\n",
        "   - Google Colab supporta la visualizzazione di grafici, immagini, tabelle e altri tipi di output direttamente nel documento."
      ]
    },
    {
      "cell_type": "code",
      "execution_count": null,
      "metadata": {
        "id": "W_iFHUWk4Qk0"
      },
      "outputs": [],
      "source": [
        "import matplotlib.pyplot as plt\n",
        "plt.plot(x, y)"
      ]
    },
    {
      "cell_type": "markdown",
      "metadata": {
        "id": "3LEXRR_z4Qk0"
      },
      "source": [
        "**7. Integrazione con Google Drive:**\n",
        "   - Puoi accedere e salvare documenti direttamente in Google Drive.\n",
        "   - Questo consente di memorizzare i tuoi progressi e condividere facilmente con gli altri.\n",
        "\n",
        "**8. Installazione di Pacchetti Python:**\n",
        "   - Puoi installare pacchetti Python usando il comando `!pip install nome_pacchetto` all'interno di una cella di codice."
      ]
    },
    {
      "cell_type": "code",
      "execution_count": null,
      "metadata": {
        "id": "giX0bTnx4Qk0"
      },
      "outputs": [],
      "source": [
        "!pip install numpy"
      ]
    },
    {
      "cell_type": "markdown",
      "metadata": {
        "id": "UzKuOmLH4Qk1"
      },
      "source": [
        "**9. Accelerazione Hardware:**\n",
        "   - Google Colab offre l'accesso a unità di elaborazione grafica (GPU) e unità di elaborazione tensoriale (TPU) per accelerare il training di modelli di machine learning.\n",
        "\n",
        "**10. Esportazione in Diversi Formati:**\n",
        "   - Puoi esportare i documenti Colab in vari formati, tra cui PDF, Markdown e file Jupyter Notebook.\n",
        "\n",
        "**11. Collaborazione in Tempo Reale:**\n",
        "   - Più utenti possono collaborare su un documento Colab contemporaneamente e vedere le modifiche in tempo reale.\n",
        "\n",
        "**12. Pubblicazione:**\n",
        "   - Puoi condividere i tuoi documenti Colab con altre persone o pubblicarli online per accesso pubblico."
      ]
    },
    {
      "cell_type": "markdown",
      "metadata": {
        "id": "gYnMhjDZ4Qk1"
      },
      "source": [
        "# Shortcuts di Google Colab\n",
        "\n",
        "Ecco alcune delle shortcuts più utili in Google Colab:\n",
        "\n",
        "1. **Comandi di Editing:**\n",
        "   - `Ctrl + M, B`: Aggiungi una cella sotto.\n",
        "   - `Ctrl + M, A`: Aggiungi una cella sopra.\n",
        "   - `Ctrl + M, D`: Elimina la cella selezionata.\n",
        "   - `Ctrl + M, M`: Converti la cella selezionata in una cella di testo (Markdown).\n",
        "   - `Ctrl + M, Y`: Converti la cella selezionata in una cella di codice.\n",
        "\n",
        "2. **Navigazione:**\n",
        "   - `Ctrl + M, J`: Seleziona la cella successiva.\n",
        "   - `Ctrl + M, K`: Seleziona la cella precedente.\n",
        "   - `Shift + Enter`: Esegui la cella e sposta il cursore nella cella successiva.\n",
        "   - `Ctrl + Enter`: Esegui la cella selezionata.\n",
        "   - `Alt + Enter`: Esegui la cella e inserisci una nuova cella sotto.\n",
        "\n",
        "3. **Operazioni sulla Cellula:**\n",
        "   - `Ctrl + /`: Commenta o decommenta le righe selezionate nella cella di codice.\n",
        "   - `Ctrl + Shift + -`: Separa la cella alla posizione del cursore.\n",
        "   - `Ctrl + M, Z`: Annulla la rimozione o l'aggiunta di celle.\n",
        "\n",
        "4. **Comandi di Visualizzazione:**\n",
        "   - `Ctrl + M, L`: Attiva/disattiva il numero di riga nella cella di codice.\n",
        "   - `Ctrl + M, H`: Mostra la lista completa delle shortcuts.\n",
        "   - `Ctrl + M, F`: Attiva/disattiva la barra laterale dei file.\n",
        "   - `Ctrl + M, P`: Apri la barra laterale delle impostazioni del notebook.\n",
        "\n",
        "5. **Operazioni su File:**\n",
        "   - `Ctrl + S`: Salva il notebook.\n",
        "   - `Ctrl + Shift + S`: Salva una copia del notebook.\n",
        "   - `Ctrl + M, O`: Apri un nuovo notebook.\n",
        "   - `Ctrl + M, F`: Carica un notebook dal tuo computer.\n",
        "\n",
        "6. **Altre Utilità:**\n",
        "   - `Ctrl + Shift + C`: Copia celle selezionate.\n",
        "   - `Ctrl + Shift + V`: Incolla celle selezionate.\n",
        "   - `Ctrl + F9`: Esegui tutte le celle nel notebook.\n",
        "\n",
        "Queste sono solo alcune delle shortcuts più comuni. Puoi trovarne molte altre esplorando il menu delle shortcuts in Colab (`Strumenti -> Comandi di Completamento Rapido`), che offre una panoramica completa di tutte le opzioni disponibili."
      ]
    },
    {
      "cell_type": "markdown",
      "metadata": {
        "id": "marLVnsc4Qk1"
      },
      "source": [
        "# Introduzione a Python"
      ]
    },
    {
      "cell_type": "markdown",
      "metadata": {
        "id": "mVJpBcXo4Qk1"
      },
      "source": [
        "### Primi passi con Python: sintassi, variabili, output\n",
        "\n",
        "**1. Sintassi di Base di Python:**\n",
        "\n",
        "Python è noto per la sua sintassi chiara e leggibile. È un linguaggio molto intuitivo, il che lo rende ideale per i principianti. Vedremo alcuni esempi di base per iniziare."
      ]
    },
    {
      "cell_type": "code",
      "execution_count": null,
      "metadata": {
        "id": "Oaq1YQKn4Qk2"
      },
      "outputs": [],
      "source": [
        "# Esempio di stampa di un messaggio\n",
        "print(\"Ciao, mondo!\")"
      ]
    },
    {
      "cell_type": "markdown",
      "metadata": {
        "id": "YciRjCqe4Qk2"
      },
      "source": [
        "**2. Dichiarazione di Variabili:**\n",
        "\n",
        "Le variabili sono fondamentali in qualsiasi linguaggio di programmazione. In Python, è facile dichiarare variabili e assegnare loro valori."
      ]
    },
    {
      "cell_type": "code",
      "execution_count": null,
      "metadata": {
        "id": "3_la0h3U4Qk2"
      },
      "outputs": [],
      "source": [
        "nome = \"Alice\"\n",
        "età = 30"
      ]
    },
    {
      "cell_type": "markdown",
      "metadata": {
        "id": "91OfWUyR4Qk2"
      },
      "source": [
        "**3. Concatenazione di Stringhe:**\n",
        "\n",
        "Le stringhe possono essere concatenate utilizzando l'operatore \"+\". Anche l'output può contenere variabili."
      ]
    },
    {
      "cell_type": "code",
      "execution_count": null,
      "metadata": {
        "id": "DxeSqzie4Qk2"
      },
      "outputs": [],
      "source": [
        "saluto = \"Ciao, sono \" + nome + \" e ho \" + str(età) + \" anni.\""
      ]
    },
    {
      "cell_type": "markdown",
      "metadata": {
        "id": "JrPTB58X4Qk2"
      },
      "source": [
        "**4. Input dall'Utente:**\n",
        "\n",
        "Python consente di ottenere input dall'utente utilizzando la funzione input(). L'input è solitamente salvato in una variabile."
      ]
    },
    {
      "cell_type": "code",
      "execution_count": null,
      "metadata": {
        "id": "n3fG0xWb4Qk3"
      },
      "outputs": [],
      "source": [
        "print(\"Inserisci il tuo nome: \")\n",
        "input_utente = input()\n",
        "\n",
        "#input_utente = input(\"Inserisci il tuo nome: \")\n",
        "\n",
        "print(\"Ciao, \" + input_utente + \"!\")"
      ]
    },
    {
      "cell_type": "markdown",
      "metadata": {
        "id": "QAa1zD-c4Qk3"
      },
      "source": [
        "**5. Tipi di Dati:**\n",
        "\n",
        "Python supporta vari tipi di dati, tra cui interi, decimali, stringhe e booleani. È importante comprendere i diversi tipi di dati."
      ]
    },
    {
      "cell_type": "code",
      "execution_count": null,
      "metadata": {
        "id": "8BlW5Y1H4Qk3"
      },
      "outputs": [],
      "source": [
        "intero = 42\n",
        "decimale = 3.14\n",
        "testo = \"Questo è un testo\"\n",
        "booleano = True"
      ]
    },
    {
      "cell_type": "markdown",
      "metadata": {
        "id": "AeTBalEb4Qk3"
      },
      "source": [
        "**6. Esecuzione Condizionale:**\n",
        "\n",
        "Le istruzioni condizionali (if-else) consentono di eseguire il codice in base a una condizione."
      ]
    },
    {
      "cell_type": "code",
      "execution_count": null,
      "metadata": {
        "id": "a58YQrL94Qk3"
      },
      "outputs": [],
      "source": [
        "numero = 10\n",
        "if numero > 5:\n",
        "    print(\"Il numero è maggiore di 5.\")\n",
        "else:\n",
        "    print(\"Il numero è minore o uguale a 5.\")"
      ]
    },
    {
      "cell_type": "markdown",
      "metadata": {
        "id": "iwr72hjO4Qk3"
      },
      "source": [
        "**7. Cicli:**\n",
        "\n",
        "I cicli, come il ciclo for e il ciclo while, sono utilizzati per iterare su sequenze di dati."
      ]
    },
    {
      "cell_type": "code",
      "execution_count": null,
      "metadata": {
        "id": "R2nXTvxB4Qk3"
      },
      "outputs": [],
      "source": [
        "for i in range(5):\n",
        "    print(i)\n",
        "\n",
        "contatore = 0\n",
        "while contatore < 5:\n",
        "    print(\"Iterazione \" + str(contatore))\n",
        "    contatore += 1"
      ]
    },
    {
      "cell_type": "markdown",
      "metadata": {
        "id": "oFTNZz5e4Qk3"
      },
      "source": [
        "**Conclusioni:**\n",
        "\n",
        "Questi sono i concetti di base di Python che affronteremo nel corso. Python è un linguaggio versatile e potente, e queste competenze costituiscono la base per diventare un programmatore Python esperto. Nelle prossime lezioni, esploreremo ulteriormente Python e impareremo a creare applicazioni più complesse."
      ]
    }
  ],
  "metadata": {
    "kernelspec": {
      "display_name": "global",
      "language": "python",
      "name": "python3"
    },
    "language_info": {
      "codemirror_mode": {
        "name": "ipython",
        "version": 3
      },
      "file_extension": ".py",
      "mimetype": "text/x-python",
      "name": "python",
      "nbconvert_exporter": "python",
      "pygments_lexer": "ipython3",
      "version": "3.11.5"
    },
    "colab": {
      "provenance": []
    }
  },
  "nbformat": 4,
  "nbformat_minor": 0
}