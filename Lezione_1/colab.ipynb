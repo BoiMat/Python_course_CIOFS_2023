{
 "cells": [
  {
   "cell_type": "markdown",
   "metadata": {},
   "source": [
    "# Funzionalità Principali di Google Colab\n",
    "\n",
    "**1. Interfaccia Utente:**\n",
    "   - Google Colab è un ambiente di sviluppo basato su browser.\n",
    "   - È simile a Jupyter Notebook e offre un'interfaccia interattiva per scrivere e eseguire codice Python."
   ]
  },
  {
   "cell_type": "markdown",
   "metadata": {},
   "source": [
    "**2. Documenti Colab:**\n",
    "   - I documenti Colab sono basati su cloud e memorizzati su Google Drive.\n",
    "   - Puoi creare nuovi documenti Colab direttamente da Google Drive.\n",
    "\n",
    "**3. Codice Interattivo:**\n",
    "   - Puoi scrivere e eseguire codice Python in cellule individuali all'interno di un documento Colab.\n",
    "   - Per eseguire una cella, premi Shift+Invio."
   ]
  },
  {
   "cell_type": "markdown",
   "metadata": {},
   "source": [
    "\n",
    "**4. Text Cells:**\n",
    "   - Puoi inserire cellule di testo formattato (markdown) per documentazione, spiegazioni e istruzioni.\n"
   ]
  },
  {
   "cell_type": "markdown",
   "metadata": {},
   "source": [
    "**5. Code Cells:**\n",
    "   - Le cellule di codice consentono di scrivere e eseguire codice Python.\n",
    "   - Le uscite vengono visualizzate direttamente sotto la cella."
   ]
  },
  {
   "cell_type": "code",
   "execution_count": 4,
   "metadata": {},
   "outputs": [],
   "source": [
    "x = [1, 2, 3, 4]\n",
    "y = [2, 4, 6, 8]"
   ]
  },
  {
   "cell_type": "markdown",
   "metadata": {},
   "source": [
    "**6. Visualizzazione di Output:**\n",
    "   - Google Colab supporta la visualizzazione di grafici, immagini, tabelle e altri tipi di output direttamente nel documento."
   ]
  },
  {
   "cell_type": "code",
   "execution_count": null,
   "metadata": {},
   "outputs": [],
   "source": [
    "import matplotlib.pyplot as plt\n",
    "plt.plot(x, y)"
   ]
  },
  {
   "cell_type": "markdown",
   "metadata": {},
   "source": [
    "**7. Integrazione con Google Drive:**\n",
    "   - Puoi accedere e salvare documenti direttamente in Google Drive.\n",
    "   - Questo consente di memorizzare i tuoi progressi e condividere facilmente con gli altri.\n",
    "\n",
    "**8. Installazione di Pacchetti Python:**\n",
    "   - Puoi installare pacchetti Python usando il comando `!pip install nome_pacchetto` all'interno di una cella di codice."
   ]
  },
  {
   "cell_type": "code",
   "execution_count": null,
   "metadata": {},
   "outputs": [],
   "source": [
    "!pip install dadapy"
   ]
  },
  {
   "cell_type": "markdown",
   "metadata": {},
   "source": [
    "**9. Accelerazione Hardware:**\n",
    "   - Google Colab offre l'accesso a unità di elaborazione grafica (GPU) e unità di elaborazione tensoriale (TPU) per accelerare il training di modelli di machine learning.\n",
    "\n",
    "**10. Esportazione in Diversi Formati:**\n",
    "   - Puoi esportare i documenti Colab in vari formati, tra cui PDF, Markdown e file Jupyter Notebook.\n",
    "\n",
    "**11. Collaborazione in Tempo Reale:**\n",
    "   - Più utenti possono collaborare su un documento Colab contemporaneamente e vedere le modifiche in tempo reale.\n",
    "\n",
    "**12. Pubblicazione:**\n",
    "   - Puoi condividere i tuoi documenti Colab con altre persone o pubblicarli online per accesso pubblico."
   ]
  },
  {
   "cell_type": "markdown",
   "metadata": {},
   "source": [
    "# Introduzione a Python"
   ]
  },
  {
   "cell_type": "markdown",
   "metadata": {},
   "source": [
    "### Primi passi con Python: sintassi, variabili, output\n",
    "\n",
    "**1. Sintassi di Base di Python:**\n",
    "\n",
    "Python è noto per la sua sintassi chiara e leggibile. È un linguaggio molto intuitivo, il che lo rende ideale per i principianti. Vedremo alcuni esempi di base per iniziare."
   ]
  },
  {
   "cell_type": "code",
   "execution_count": null,
   "metadata": {},
   "outputs": [],
   "source": [
    "# Esempio di stampa di un messaggio\n",
    "print(\"Ciao, mondo!\")"
   ]
  },
  {
   "cell_type": "markdown",
   "metadata": {},
   "source": [
    "**2. Dichiarazione di Variabili:**\n",
    "\n",
    "Le variabili sono fondamentali in qualsiasi linguaggio di programmazione. In Python, è facile dichiarare variabili e assegnare loro valori."
   ]
  },
  {
   "cell_type": "code",
   "execution_count": 3,
   "metadata": {},
   "outputs": [],
   "source": [
    "nome = \"Alice\"\n",
    "età = 30"
   ]
  },
  {
   "cell_type": "markdown",
   "metadata": {},
   "source": [
    "**3. Concatenazione di Stringhe:**\n",
    "\n",
    "Le stringhe possono essere concatenate utilizzando l'operatore \"+\". Anche l'output può contenere variabili."
   ]
  },
  {
   "cell_type": "code",
   "execution_count": null,
   "metadata": {},
   "outputs": [],
   "source": [
    "saluto = \"Ciao, sono \" + nome + \" e ho \" + str(età) + \" anni.\""
   ]
  },
  {
   "cell_type": "markdown",
   "metadata": {},
   "source": [
    "**4. Input dall'Utente:**\n",
    "\n",
    "Python consente di ottenere input dall'utente utilizzando la funzione input(). L'input è solitamente salvato in una variabile."
   ]
  },
  {
   "cell_type": "code",
   "execution_count": null,
   "metadata": {},
   "outputs": [],
   "source": [
    "print(\"Inserisci il tuo nome: \")\n",
    "input_utente = input()\n",
    "\n",
    "#input_utente = input(\"Inserisci il tuo nome: \")\n",
    "\n",
    "print(\"Ciao, \" + input_utente + \"!\")"
   ]
  },
  {
   "cell_type": "markdown",
   "metadata": {},
   "source": [
    "**5. Tipi di Dati:**\n",
    "\n",
    "Python supporta vari tipi di dati, tra cui interi, decimali, stringhe e booleani. È importante comprendere i diversi tipi di dati."
   ]
  },
  {
   "cell_type": "code",
   "execution_count": null,
   "metadata": {},
   "outputs": [],
   "source": [
    "intero = 42\n",
    "decimale = 3.14\n",
    "testo = \"Questo è un testo\"\n",
    "booleano = True"
   ]
  },
  {
   "cell_type": "markdown",
   "metadata": {},
   "source": [
    "**6. Esecuzione Condizionale:**\n",
    "\n",
    "Le istruzioni condizionali (if-else) consentono di eseguire il codice in base a una condizione."
   ]
  },
  {
   "cell_type": "code",
   "execution_count": null,
   "metadata": {},
   "outputs": [],
   "source": [
    "numero = 10\n",
    "if numero > 5:\n",
    "    print(\"Il numero è maggiore di 5.\")\n",
    "else:\n",
    "    print(\"Il numero è minore o uguale a 5.\")"
   ]
  },
  {
   "cell_type": "markdown",
   "metadata": {},
   "source": [
    "**7. Cicli:**\n",
    "\n",
    "I cicli, come il ciclo for e il ciclo while, sono utilizzati per iterare su sequenze di dati."
   ]
  },
  {
   "cell_type": "code",
   "execution_count": null,
   "metadata": {},
   "outputs": [],
   "source": [
    "for i in range(5):\n",
    "    print(i)\n",
    "\n",
    "contatore = 0\n",
    "while contatore < 5:\n",
    "    print(\"Iterazione \" + str(contatore))\n",
    "    contatore += 1"
   ]
  },
  {
   "cell_type": "markdown",
   "metadata": {},
   "source": [
    "**Conclusioni:**\n",
    "\n",
    "Questi sono i concetti di base di Python che affronteremo nella nostra prima lezione. Python è un linguaggio versatile e potente, e queste competenze costituiscono la base per diventare un programmatore Python esperto. Nelle prossime lezioni, esploreremo ulteriormente Python e impareremo a creare applicazioni più complesse."
   ]
  },
  {
   "cell_type": "markdown",
   "metadata": {},
   "source": [
    "# Esercizio\n",
    "### Calcolare l'Età Futura - Parte 1\n",
    "\n",
    "**Obiettivo:** Scrivere un programma Python che chieda all'utente il proprio nome e l'età attuale.\n",
    "\n",
    "**Istruzioni:**\n",
    "\n",
    "1. Utilizzare la funzione input() per ottenere il nome dell'utente e salvarlo in una variabile.\n",
    "2. Utilizzare nuovamente la funzione input() per ottenere l'età attuale dell'utente e salvarla in una variabile.\n",
    "\n",
    "**Esempio di Output:**\n",
    "\n",
    "```python\n",
    "Inserisci il tuo nome: Alice\n",
    "Inserisci la tua età attuale: 30\n",
    "```"
   ]
  },
  {
   "cell_type": "code",
   "execution_count": null,
   "metadata": {},
   "outputs": [],
   "source": [
    "# Soluzione della Parte 1:\n",
    "#### DA FARE ####"
   ]
  },
  {
   "cell_type": "markdown",
   "metadata": {},
   "source": [
    "### Calcolare l'Età Futura - Parte 2\n",
    "\n",
    "**Obiettivo:** Scrivere un programma Python che chieda all'utente il numero di anni in futuro e quindi calcoli l'età futura dell'utente.\n",
    "\n",
    "**Istruzioni:**\n",
    "\n",
    "1. Utilizzare la funzione input() per ottenere il numero di anni in futuro che si desidera calcolare e salvarlo in una variabile.\n",
    "3. Calcolare l'età futura sommando l'età attuale e il numero di anni in futuro.\n",
    "4. Stampare un messaggio che includa il nome dell'utente e la loro età futura.\n",
    "\n",
    "**Esempio di Output:**\n",
    "\n",
    "```python\n",
    "Inserisci il tuo nome: Alice\n",
    "Inserisci la tua età attuale: 30\n",
    "Inserisci il numero di anni in futuro: 10\n",
    "Alice avrà 40 anni tra 10 anni.\n",
    "```"
   ]
  },
  {
   "cell_type": "code",
   "execution_count": 6,
   "metadata": {},
   "outputs": [],
   "source": [
    "# Soluzione della Parte 2:\n",
    "#### DA FARE ####"
   ]
  }
 ],
 "metadata": {
  "kernelspec": {
   "display_name": "global",
   "language": "python",
   "name": "python3"
  },
  "language_info": {
   "codemirror_mode": {
    "name": "ipython",
    "version": 3
   },
   "file_extension": ".py",
   "mimetype": "text/x-python",
   "name": "python",
   "nbconvert_exporter": "python",
   "pygments_lexer": "ipython3",
   "version": "3.11.5"
  }
 },
 "nbformat": 4,
 "nbformat_minor": 2
}
