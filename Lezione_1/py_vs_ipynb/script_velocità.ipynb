{
  "cells": [
    {
      "cell_type": "markdown",
      "metadata": {
        "id": "G_aDaixDDaiP"
      },
      "source": [
        "[![Open in Colab](https://colab.research.google.com/assets/colab-badge.svg)](https://colab.research.google.com/github/BoiMat/Python_course_CIOFS_2023/blob/main/Lezione_1/py_vs_ipynb/script_velocità.ipynb)"
      ]
    },
    {
      "cell_type": "markdown",
      "metadata": {
        "id": "x_7LeT24DZ05"
      },
      "source": [
        "# Jupyter Notebook\n",
        "### Esempio per la misurazione della velocità di esecuzione di un programma"
      ]
    },
    {
      "cell_type": "code",
      "execution_count": 8,
      "metadata": {
        "id": "Ra9u3RbFDZ07"
      },
      "outputs": [],
      "source": [
        "import time\n",
        "\n",
        "def count_to_ten_million():\n",
        "    for i in range(1, 100000001):\n",
        "        pass\n",
        "\n",
        "def main():\n",
        "    start_time = time.time()\n",
        "\n",
        "    count_to_ten_million()\n",
        "\n",
        "    end_time = time.time()\n",
        "    elapsed_time = end_time - start_time\n",
        "\n",
        "    print(f\"Tempo di esecuzione del notebook: {elapsed_time:.4f} secondi\")"
      ]
    },
    {
      "cell_type": "code",
      "execution_count": null,
      "metadata": {
        "id": "ZPqEHcRvDZ09"
      },
      "outputs": [],
      "source": [
        "if __name__ == \"__main__\":\n",
        "    main()"
      ]
    }
  ],
  "metadata": {
    "colab": {
      "provenance": []
    },
    "kernelspec": {
      "display_name": "global",
      "language": "python",
      "name": "python3"
    },
    "language_info": {
      "codemirror_mode": {
        "name": "ipython",
        "version": 3
      },
      "file_extension": ".py",
      "mimetype": "text/x-python",
      "name": "python",
      "nbconvert_exporter": "python",
      "pygments_lexer": "ipython3",
      "version": "3.11.2"
    }
  },
  "nbformat": 4,
  "nbformat_minor": 0
}
