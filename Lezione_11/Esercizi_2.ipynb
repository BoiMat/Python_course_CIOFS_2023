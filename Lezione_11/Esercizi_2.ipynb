{
  "nbformat": 4,
  "nbformat_minor": 0,
  "metadata": {
    "colab": {
      "provenance": []
    },
    "kernelspec": {
      "name": "python3",
      "display_name": "Python 3"
    },
    "language_info": {
      "name": "python"
    }
  },
  "cells": [
    {
      "cell_type": "markdown",
      "source": [
        "### Esercizio 1: Inverti una Stringa\n",
        "Scrivi una funzione `inverte_stringa` che prenda una stringa in input e restituisca l'inverso di quella stringa. Ad esempio, se l'input è \"ciao,\" la funzione dovrebbe restituire \"oaic.\""
      ],
      "metadata": {
        "id": "6-ZUEFDV4c4i"
      }
    },
    {
      "cell_type": "code",
      "source": [],
      "metadata": {
        "id": "_T1iIwed5yYQ"
      },
      "execution_count": null,
      "outputs": []
    },
    {
      "cell_type": "markdown",
      "source": [
        "\n",
        "### Esercizio 2: Conta le Vocali\n",
        "Scrivi una funzione `conta_vocali` che prenda una stringa in input e restituisca il conteggio delle vocali in quella stringa."
      ],
      "metadata": {
        "id": "oEBGLzOn5yrg"
      }
    },
    {
      "cell_type": "code",
      "source": [],
      "metadata": {
        "id": "yHg-8n9c50_1"
      },
      "execution_count": null,
      "outputs": []
    },
    {
      "cell_type": "markdown",
      "source": [
        "\n",
        "### Esercizio 3: Verifica Palindromo\n",
        "Scrivi una funzione `è_palindromo` che verifichi se una data stringa è un palindromo. Un palindromo è una parola, una frase o una sequenza che si legge allo stesso modo da sinistra a destra e da destra a sinistra."
      ],
      "metadata": {
        "id": "0aTNBtFh51TH"
      }
    },
    {
      "cell_type": "code",
      "source": [],
      "metadata": {
        "id": "ynxXKTUp53W5"
      },
      "execution_count": null,
      "outputs": []
    },
    {
      "cell_type": "markdown",
      "source": [
        "### Esercizio 4: Numeri Primi\n",
        "Scrivi una funzione `è_numero_primo` che verifichi se un dato numero è un numero primo."
      ],
      "metadata": {
        "id": "YcLmENoT53mc"
      }
    },
    {
      "cell_type": "code",
      "source": [],
      "metadata": {
        "id": "HtPnqikt56EZ"
      },
      "execution_count": null,
      "outputs": []
    },
    {
      "cell_type": "markdown",
      "source": [
        "### Esercizio 5: Verifica Anno Bisestile\n",
        "Scrivi una funzione `è_anno_bisestile` che verifichi se un dato anno è un anno bisestile. Un anno bisestile è divisibile per 4 ma non per 100, tranne negli anni divisibili per 400."
      ],
      "metadata": {
        "id": "Y_dyi_zw56YU"
      }
    },
    {
      "cell_type": "code",
      "source": [],
      "metadata": {
        "id": "A-4t6mKA58o2"
      },
      "execution_count": null,
      "outputs": []
    },
    {
      "cell_type": "markdown",
      "source": [
        "### Esercizio 6: Manipolazione di Liste\n",
        "Scrivi una funzione `rimuovi_duplicati` che prenda una lista in input e restituisca una nuova lista con gli elementi duplicati rimossi."
      ],
      "metadata": {
        "id": "VxYRdKHh58-C"
      }
    },
    {
      "cell_type": "code",
      "source": [],
      "metadata": {
        "id": "64jL7rFb6DmX"
      },
      "execution_count": null,
      "outputs": []
    },
    {
      "cell_type": "markdown",
      "source": [
        "\n",
        "### Esercizio 7: Trova il Numero Mancante\n",
        "Scrivi una funzione `trova_numero_mancante` che prenda una lista di numeri sequenziali da 1 a N ma con un numero mancante e restituisca il numero mancante."
      ],
      "metadata": {
        "id": "QiLj1rlx6EUG"
      }
    },
    {
      "cell_type": "code",
      "source": [],
      "metadata": {
        "id": "RvwvQY-26DeZ"
      },
      "execution_count": null,
      "outputs": []
    },
    {
      "cell_type": "markdown",
      "source": [
        "\n",
        "### Esercizio 8: Unisci Liste Ordinate\n",
        "Scrivi una funzione `unisci_liste_ordinate` che prenda due liste ordinate come input e restituisca una nuova lista contenente tutti gli elementi in ordine.\n"
      ],
      "metadata": {
        "id": "03CIOHRZ6F0y"
      }
    },
    {
      "cell_type": "code",
      "source": [],
      "metadata": {
        "id": "UhmVOT7b6DcM"
      },
      "execution_count": null,
      "outputs": []
    },
    {
      "cell_type": "markdown",
      "source": [
        "\n",
        "### Esercizio 9: Calcolatrice Semplice\n",
        "Scrivi un programma di calcolatrice semplice che prenda due numeri e un operatore (+, -, *, /) come input e esegua l'operazione corrispondente."
      ],
      "metadata": {
        "id": "xoUi8YoJ6HJ1"
      }
    },
    {
      "cell_type": "code",
      "source": [],
      "metadata": {
        "id": "MoWYkW_76DZ-"
      },
      "execution_count": null,
      "outputs": []
    },
    {
      "cell_type": "markdown",
      "source": [
        "\n",
        "### Esercizio 10: Lista delle Attività da Svolgere\n",
        "Scrivi un programma per una lista delle attività da fare. Gli utenti dovrebbero poter aggiungere attività, contrassegnare attività come completate e visualizzare la loro lista delle attività da fare.\n",
        "Per finire, salvala in un file, contrassegnando le attività completate."
      ],
      "metadata": {
        "id": "8mS55ZbU6IvL"
      }
    },
    {
      "cell_type": "code",
      "source": [],
      "metadata": {
        "id": "QNmGjOjs6Jd4"
      },
      "execution_count": null,
      "outputs": []
    }
  ]
}