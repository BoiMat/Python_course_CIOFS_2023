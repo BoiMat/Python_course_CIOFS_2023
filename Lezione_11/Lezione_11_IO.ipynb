{
  "nbformat": 4,
  "nbformat_minor": 0,
  "metadata": {
    "colab": {
      "provenance": []
    },
    "kernelspec": {
      "name": "python3",
      "display_name": "Python 3"
    },
    "language_info": {
      "name": "python"
    }
  },
  "cells": [
    {
      "cell_type": "markdown",
      "source": [
        "[![Open in Colab](https://colab.research.google.com/assets/colab-badge.svg)](https://colab.research.google.com/github/BoiMat/Python_course_CIOFS_2023/blob/main/Lezione_11/Lezione_11_IO.ipynb)"
      ],
      "metadata": {
        "id": "rRxEeZhJyd-d"
      }
    },
    {
      "cell_type": "markdown",
      "source": [
        "# Lezione: Operazioni di Input/Output in Python\n",
        "\n",
        "## Introduzione alle Operazioni di IO in Python\n",
        "Le operazioni di Input e Output sono cruciali per qualsiasi linguaggio di programmazione, consentendo ai programmi di interagire con gli utenti, file o altri sistemi. In Python, le operazioni di IO consentono al tuo programma di leggere da e scrivere su file sul tuo computer, fornendo un modo per salvare i dati in modo persistente.\n",
        "\n",
        "## Lavorare con i File\n",
        "La gestione dei file è una parte critica delle operazioni di IO, consentendo ai programmi di salvare e recuperare dati.\n",
        "\n",
        "### Aprire File\n",
        "La funzione `open()` viene utilizzata per aprire un file. Richiede due argomenti: il percorso del file e la modalità (`r` per la lettura, `w` per la scrittura, `a` per l'append)."
      ],
      "metadata": {
        "id": "sXeUKDC4t3Md"
      }
    },
    {
      "cell_type": "code",
      "execution_count": null,
      "metadata": {
        "id": "iVjT8vP8t0R5"
      },
      "outputs": [],
      "source": [
        "file = open(\"esempio.txt\", \"w\")"
      ]
    },
    {
      "cell_type": "markdown",
      "source": [
        "### Scrivere su File\n",
        "Dopo aver aperto un file in modalità di scrittura, è possibile scrivere testo su di esso utilizzando il metodo `write()`."
      ],
      "metadata": {
        "id": "nQNBxwyduVMB"
      }
    },
    {
      "cell_type": "code",
      "source": [
        "file.write(\"Ciao, mondo!\")\n",
        "file.close()"
      ],
      "metadata": {
        "id": "jtJbxsAtubBv"
      },
      "execution_count": null,
      "outputs": []
    },
    {
      "cell_type": "markdown",
      "source": [
        "### Leggere da File\n",
        "Per leggere da un file, aprirlo in modalità di lettura (`r`). È possibile leggere l'intero file come una stringa o iterare attraverso le righe."
      ],
      "metadata": {
        "id": "vyABVZVYub7N"
      }
    },
    {
      "cell_type": "code",
      "source": [
        "file = open(\"esempio.txt\", \"r\")\n",
        "contenuto = file.read()\n",
        "print(contenuto)\n",
        "file.close()"
      ],
      "metadata": {
        "id": "LDpT36xCugi6"
      },
      "execution_count": null,
      "outputs": []
    },
    {
      "cell_type": "markdown",
      "source": [
        "## L'Istruzione `with`\n",
        "Usare `with` per le operazioni sui file è raccomandato poiché assicura una corretta gestione delle risorse, chiudendo automaticamente il file dopo l'esecuzione del blocco."
      ],
      "metadata": {
        "id": "QUnEuAvAug9w"
      }
    },
    {
      "cell_type": "code",
      "source": [
        "with open(\"esempio.txt\", \"r\") as file:\n",
        "    for riga in file:\n",
        "        print(riga.rstrip())"
      ],
      "metadata": {
        "id": "xE75bKNfuwCe"
      },
      "execution_count": null,
      "outputs": []
    },
    {
      "cell_type": "markdown",
      "source": [
        "# Lavorare con File CSV in Python\n",
        "\n",
        "### Introduzione alla Libreria CSV\n",
        "Il formato CSV (Comma-Separated Values, Valori Separati da Virgola) è un formato comune di importazione ed esportazione per fogli di calcolo e database. Python fornisce il modulo `csv` per gestire i file CSV, facilitando la lettura e la scrittura di file CSV, essenziali per la manipolazione e l'analisi dei dati.\n",
        "\n",
        "### Lettura di File CSV\n",
        "Per leggere da un file CSV, si può utilizzare l'oggetto `csv.reader`. Consente di iterare sulle righe nel file CSV."
      ],
      "metadata": {
        "id": "p4yJMfj4vKMF"
      }
    },
    {
      "cell_type": "code",
      "source": [
        "import csv\n",
        "\n",
        "with open('data.csv', 'r') as file:\n",
        "    lettore_csv = csv.reader(file)\n",
        "\n",
        "    # Salta l'intestazione\n",
        "    next(lettore_csv)\n",
        "\n",
        "    for riga in lettore_csv:\n",
        "        print(riga)"
      ],
      "metadata": {
        "id": "Kp_tYicrvUK4"
      },
      "execution_count": null,
      "outputs": []
    },
    {
      "cell_type": "markdown",
      "source": [
        "### Scrittura su File CSV\n",
        "Per scrivere su un file CSV, si può utilizzare l'oggetto `csv.writer`. Fornisce un modo per scrivere le righe nel file CSV."
      ],
      "metadata": {
        "id": "2H5MfQAAvQgn"
      }
    },
    {
      "cell_type": "code",
      "source": [
        "import csv\n",
        "\n",
        "dati = [\n",
        "    ['Nome', 'Età'],\n",
        "    ['John Doe', 30],\n",
        "    ['Jane Doe', 25]\n",
        "]\n",
        "\n",
        "with open('output.csv', 'w', newline='') as file:\n",
        "    scrittore_csv = csv.writer(file)\n",
        "    scrittore_csv.writerows(dati)"
      ],
      "metadata": {
        "id": "AYklDNkVvgFt"
      },
      "execution_count": null,
      "outputs": []
    },
    {
      "cell_type": "markdown",
      "source": [
        "\n",
        "### Lettura di File CSV come Dizionari\n",
        "L'oggetto `csv.DictReader` legge il file in un dizionario, permettendo di accedere ai dati tramite i nomi delle colonne, che può essere più intuitivo."
      ],
      "metadata": {
        "id": "xzogMvU4vboB"
      }
    },
    {
      "cell_type": "code",
      "source": [
        "import csv\n",
        "\n",
        "with open('data.csv', 'r') as file:\n",
        "    lettore_csv = csv.DictReader(file)\n",
        "\n",
        "    for riga in lettore_csv:\n",
        "        print(riga['Nome'], riga['Età'])"
      ],
      "metadata": {
        "id": "d3MnuWzzvlkB"
      },
      "execution_count": null,
      "outputs": []
    },
    {
      "cell_type": "markdown",
      "source": [
        "### Scrittura di File CSV da Dizionari\n",
        "L'oggetto `csv.DictWriter` permette di scrivere dizionari in un file CSV, fornendo un modo flessibile di scrivere dati specificando i nomi dei campi."
      ],
      "metadata": {
        "id": "dXNOiRxWvmEG"
      }
    },
    {
      "cell_type": "code",
      "source": [
        "import csv\n",
        "\n",
        "dati = [\n",
        "    {'Nome': 'John Doe', 'Età': 30},\n",
        "    {'Nome': 'Jane Doe', 'Età': 25}\n",
        "]\n",
        "\n",
        "with open('output.csv', 'w', newline='') as file:\n",
        "    nomi_campi = ['Nome', 'Età']\n",
        "    scrittore_csv = csv.DictWriter(file, fieldnames=nomi_campi)\n",
        "\n",
        "    scrittore_csv.writeheader()\n",
        "    scrittore_csv.writerows(dati)"
      ],
      "metadata": {
        "id": "m4_sjeuKvr2L"
      },
      "execution_count": null,
      "outputs": []
    },
    {
      "cell_type": "markdown",
      "source": [
        "# La libreria `Pillow` per creare una GIF\n",
        "\n",
        "La lettura e scrittura di file tramite Python non si ferma solo ai file di testo.\n",
        "\n",
        "Python, con l'aiuto della libreria PIL (Python Imaging Library), conosciuta anche come Pillow, rende creare una GIF (Graphics Interchange Format) animata un processo relativamente semplice.\n",
        "\n",
        "### Passo 1: Installare Pillow\n",
        "\n",
        "Per iniziare, è necessario avere Pillow installato nel tuo ambiente Python. Se non l'hai già fatto, puoi installarlo tramite pip:\n",
        "\n",
        "```bash\n",
        "pip install Pillow\n",
        "```\n",
        "\n",
        "### Passo 2: Preparare le Immagini\n",
        "\n",
        "Assicurati di avere due immagini che vuoi trasformare in una GIF. Per questo tutorial, chiameremo le immagini `mano_penna1.png` e `mano_penna2.png`. Le immagini dovrebbero rappresentare due fasi consecutive dell'azione che vuoi animare.\n",
        "\n",
        "### Passo 3: Creare la GIF\n",
        "\n",
        "Una volta che hai le tue immagini e Pillow installato, puoi scrivere uno script Python per combinare le immagini in una GIF."
      ],
      "metadata": {
        "id": "TsPsZwSnEwsc"
      }
    },
    {
      "cell_type": "code",
      "source": [
        "from PIL import Image\n",
        "\n",
        "# Caricare le immagini\n",
        "immagine1 = Image.open(\"mano_penna1.png\")\n",
        "immagine2 = Image.open(\"mano_penna2.png\")\n",
        "\n",
        "# Creare la lista delle immagini\n",
        "immagini = [immagine1, immagine2]\n",
        "\n",
        "# Salvare le immagini come GIF\n",
        "immagine1.save(\"animazione_mano_penna.gif\",\n",
        "               save_all=True, append_images=immagini[1:],\n",
        "               duration=500, loop=0)"
      ],
      "metadata": {
        "id": "1P66A4CLFv3J"
      },
      "execution_count": null,
      "outputs": []
    },
    {
      "cell_type": "markdown",
      "source": [
        "### Spiegazione del Codice:\n",
        "\n",
        "- **Caricare le immagini**: Usa `Image.open` per caricare ogni immagine che vuoi includere nella GIF.\n",
        "- **Creare la lista delle immagini**: Crea una lista delle immagini in ordine di animazione.\n",
        "- **Salvare la GIF**: Usa il metodo `save` sull'una delle immagini, passando alcuni argomenti chiave:\n",
        "  - `save_all=True` indica che tutte le immagini nella lista devono essere incluse nella GIF.\n",
        "  - `append_images=immagini[1:]` aggiunge tutte le immagini nella lista dopo la prima all'animazione.\n",
        "  - `duration=500` imposta la durata di ogni frame in millisecondi.\n",
        "  - `loop=0` indica che l'animazione deve ripetersi all'infinito.\n",
        "\n",
        "### Passo 4: Goditi la tua GIF\n",
        "\n",
        "Dopo aver eseguito lo script, troverai una nuova GIF chiamata `animazione_mano_penna.gif` nella stessa directory delle tue immagini originali. Questa GIF alternerà le due immagini, creando un'animazione semplice ma efficace."
      ],
      "metadata": {
        "id": "Ccj_SDn3FwCv"
      }
    },
    {
      "cell_type": "markdown",
      "source": [
        "### Conclusione\n",
        "La libreria CSV in Python semplifica il lavoro con i file CSV. Leggendo e scrivendo file CSV, è possibile importare facilmente dati per l'analisi, esportare dati per condividerli con altri o manipolare dati all'interno dei propri programmi Python.\n",
        "\n",
        "Comprendere e utilizzare le operazioni di IO in Python è essenziale per creare applicazioni interattive e basate sui dati."
      ],
      "metadata": {
        "id": "9yiDBSNvvsGy"
      }
    }
  ]
}