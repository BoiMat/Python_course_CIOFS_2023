{
  "nbformat": 4,
  "nbformat_minor": 0,
  "metadata": {
    "colab": {
      "provenance": []
    },
    "kernelspec": {
      "name": "python3",
      "display_name": "Python 3"
    },
    "language_info": {
      "name": "python"
    }
  },
  "cells": [
    {
      "cell_type": "markdown",
      "source": [
        "## Esercizio 1: Definizione e Uso di una Classe\n",
        "\n",
        "1. **Crea una Classe `Libro`**: Definisci una classe denominata `Libro` con proprietà per `titolo`, `autore` e `anno_di_pubblicazione`. Includi un metodo `__init__` per inizializzare queste proprietà e un metodo `descrizione_libro()` che stampa informazioni sul libro.\n",
        "2. **Instanzia Oggetti**: Crea due istanze della classe `Libro` con i dettagli dei tuoi libri preferiti. Chiama il metodo `descrizione_libro()` per ogni istanza."
      ],
      "metadata": {
        "id": "M7eBS6VyTexl"
      }
    },
    {
      "cell_type": "code",
      "source": [
        "class Libro:\n",
        "    def __init__(self, titolo, autore, anno_di_pubblicazione):\n",
        "        self.titolo = titolo\n",
        "        self.autore = autore\n",
        "        self.anno_di_pubblicazione = anno_di_pubblicazione\n",
        "\n",
        "    def descrizione_libro(self):\n",
        "        print(f\"{self.titolo} di {self.autore}, pubblicato nel {self.anno_di_pubblicazione}\")\n",
        "\n",
        "# Instanzia oggetti\n",
        "libro1 = Libro(\"Il buio oltre la siepe\", \"Harper Lee\", 1960)\n",
        "libro2 = Libro(\"1984\", \"George Orwell\", 1949)\n",
        "\n",
        "# Chiama il metodo descrizione_libro\n",
        "libro1.descrizione_libro()\n",
        "libro2.descrizione_libro()"
      ],
      "metadata": {
        "id": "E4VODECdTtsR"
      },
      "execution_count": null,
      "outputs": []
    },
    {
      "cell_type": "markdown",
      "source": [
        "\n",
        "## Esercizio 2: Ereditarietà\n",
        "\n",
        "1. **Estendi la Classe `Libro`**: Crea una sottoclasse di `Libro` chiamata `EBook` che aggiunge una nuova proprietà chiamata `dimensione_file` (in MB). Sovrascrivi il metodo `descrizione_libro()` per includere informazioni sulla dimensione del file.\n",
        "2. **Crea un'Istanza di `EBook`**: Istanzia un oggetto della classe `EBook` con i dettagli di un ebook, inclusa la sua dimensione del file. Chiama il metodo `descrizione_libro()` per dimostrare la funzionalità sovrascritta.\n",
        "\n"
      ],
      "metadata": {
        "id": "WlXeCFZJTukf"
      }
    },
    {
      "cell_type": "code",
      "source": [
        "class EBook(Libro):\n",
        "    def __init__(self, titolo, autore, anno_di_pubblicazione, dimensione_file):\n",
        "        super().__init__(titolo, autore, anno_di_pubblicazione)\n",
        "        self.dimensione_file = dimensione_file\n",
        "\n",
        "    def descrizione_libro(self):\n",
        "        super().descrizione_libro()\n",
        "        print(f\"Dimensione del file: {self.dimensione_file}MB\")\n",
        "\n",
        "# Crea un'istanza di EBook\n",
        "ebook = EBook(\"Sapiens\", \"Yuval Noah Harari\", 2011, 5)\n",
        "ebook.descrizione_libro()"
      ],
      "metadata": {
        "id": "wD6FfDk5Tv-O"
      },
      "execution_count": null,
      "outputs": []
    },
    {
      "cell_type": "markdown",
      "source": [
        "## Esercizio 3: Incapsulamento e Proprietà\n",
        "\n",
        "1. **Attributi Privati**: Modifica la classe `Libro` per rendere l'attributo `anno_di_pubblicazione` privato (`__anno_di_pubblicazione`). Aggiungi una proprietà per ottenere e impostare l'anno con una validazione di base nel setter per impedire l'impostazione dell'anno a una data futura.\n",
        "2. **Testa la Proprietà**: Istanzia un oggetto `Libro` e prova a impostare `anno_di_pubblicazione` a un anno valido e a uno non valido. Assicurati che la logica di validazione funzioni come previsto."
      ],
      "metadata": {
        "id": "YeuHlKgjTwb5"
      }
    },
    {
      "cell_type": "code",
      "source": [
        "class Libro:\n",
        "    def __init__(self, titolo, autore, anno_di_pubblicazione):\n",
        "        self.titolo = titolo\n",
        "        self.autore = autore\n",
        "        self.__anno_di_pubblicazione = anno_di_pubblicazione\n",
        "\n",
        "    @property\n",
        "    def anno_di_pubblicazione(self):\n",
        "        return self.__anno_di_pubblicazione\n",
        "\n",
        "    @anno_di_pubblicazione.setter\n",
        "    def anno_di_pubblicazione(self, valore):\n",
        "        if valore > 2021:\n",
        "            print(\"L'anno non può essere nel futuro\")\n",
        "        else:\n",
        "            self.__anno_di_pubblicazione = valore\n",
        "\n",
        "    def descrizione_libro(self):\n",
        "        print(f\"{self.titolo} di {self.autore}, pubblicato nel {self.__anno_di_pubblicazione}\")\n",
        "\n",
        "# Testa la proprietà\n",
        "libro = Libro(\"Una terra promessa\", \"Barack Obama\", 2020)\n",
        "libro.anno_di_pubblicazione = 2025  # Dovrebbe stampare un avviso\n",
        "libro.descrizione_libro()"
      ],
      "metadata": {
        "id": "EQXUSf_VTyxs"
      },
      "execution_count": null,
      "outputs": []
    },
    {
      "cell_type": "markdown",
      "source": [
        "## Esercizio 4: Metodi di Classe e Metodi Statici\n",
        "\n",
        "1. **Aggiungi un Metodo di Classe**: Aggiungi alla classe `Libro` un metodo di classe chiamato `da_stringa()` che accetta una stringa formattata come \"titolo - autore - anno\" e restituisce un'istanza di `Libro` costruita da questa stringa.\n",
        "2. **Aggiungi un Metodo Statico**: Aggiungi alla classe `Libro` un metodo statico chiamato `isbn_valido(isbn)` che verifica se l'ISBN fornito è valido (per semplicità, supponiamo che gli ISBN siano validi se hanno 13 caratteri). Dimostra di chiamare questo metodo senza creare un'istanza di `Libro`."
      ],
      "metadata": {
        "id": "XYYBtfzgTzMl"
      }
    },
    {
      "cell_type": "code",
      "source": [
        "class Libro:\n",
        "    def __init__(self, titolo, autore, anno_di_pubblicazione):\n",
        "        self.titolo = titolo\n",
        "        self.autore = autore\n",
        "        self.anno_di_pubblicazione = anno_di_pubblicazione\n",
        "\n",
        "    @classmethod\n",
        "    def da_stringa(cls, stringa_libro):\n",
        "        titolo, autore, anno = stringa_libro.split(\" - \")\n",
        "        return cls(titolo, autore, int(anno))\n",
        "\n",
        "    @staticmethod\n",
        "    def isbn_valido(isbn):\n",
        "        return len(isbn) == 13\n",
        "\n",
        "# Testa il metodo di classe\n",
        "stringa_libro = \"L'alchimista - Paulo Coelho - 1988\"\n",
        "libro = Libro.da_stringa(stringa_libro)\n",
        "libro.descrizione_libro()\n",
        "\n",
        "# Testa il metodo statico\n",
        "print(Libro.isbn_valido(\"1234567890123\"))  # True"
      ],
      "metadata": {
        "id": "5MHTbRibT0mW"
      },
      "execution_count": null,
      "outputs": []
    },
    {
      "cell_type": "markdown",
      "source": [
        "## Esercizio 5: Composizione vs Ereditarietà\n",
        "\n",
        "1. **Crea una Classe `Biblioteca`**: Invece di estendere la classe `Libro`, crea una nuova classe chiamata `Biblioteca` che può contenere più istanze di `Libro`. Implementa metodi per aggiungere un libro alla biblioteca, rimuovere un libro per titolo e elencare tutti i libri.\n",
        "2. **Testa la Classe `Biblioteca`**: Crea un'istanza della classe `Biblioteca`. Aggiungi diversi libri alla biblioteca e poi elenca tutti i libri. Rimuovi un libro e elenca di nuovo per mostrare la collezione aggiornata."
      ],
      "metadata": {
        "id": "k01y-9-4T1Lc"
      }
    },
    {
      "cell_type": "code",
      "source": [
        "class Biblioteca:\n",
        "    def __init__(self):\n",
        "        self.libri = []\n",
        "\n",
        "    def aggiungi_libro(self, libro):\n",
        "        self.libri.append(libro)\n",
        "\n",
        "    def rimuovi_libro(self, titolo):\n",
        "        self.libri = [libro for libro in self.libri if libro.titolo != titolo]\n",
        "\n",
        "    def elenca_libri(self):\n",
        "        for libro in self.libri:\n",
        "            libro.descrizione_libro()\n",
        "\n",
        "biblioteca = Biblioteca()\n",
        "biblioteca.aggiungi_libro(libro1)\n",
        "biblioteca.aggiungi_libro(ebook)\n",
        "biblioteca.elenca_libri()\n",
        "biblioteca.rimuovi_libro(\"1984\")\n",
        "print(\"Dopo aver rimosso un libro:\")\n",
        "biblioteca.elenca_libri()"
      ],
      "metadata": {
        "id": "E_pU-HO_T2Hk"
      },
      "execution_count": null,
      "outputs": []
    },
    {
      "cell_type": "markdown",
      "source": [
        "## Esercizio 6: Polimorfismo\n",
        "\n",
        "1. **Definisci un'Altra Sottoclasse di `Libro`**: Crea una sottoclasse di `Libro` chiamata `Audiolibro` che ha una proprietà aggiuntiva `durata` (in minuti). Implementa il metodo `descrizione_libro()` per includere informazioni sulla durata.\n",
        "2. **Dimostra il Polimorfismo**: Crea una lista che contiene istanze di `Libro`, `EBook`, e `Audiolibro`. Scorri la lista e chiama il metodo `descrizione_libro()` su ogni oggetto, dimostrando come lo stesso metodo possa fare cose diverse in base alla classe dell'oggetto."
      ],
      "metadata": {
        "id": "O4AEUZFpT2vx"
      }
    },
    {
      "cell_type": "code",
      "source": [
        "class Audiolibro(Libro):\n",
        "    def __init__(self, titolo, autore, anno_di_pubblicazione, durata):\n",
        "        super().__init__(titolo, autore, anno_di_pubblicazione)\n",
        "        self.durata = durata\n",
        "\n",
        "    def descrizione_libro(self):\n",
        "        super().descrizione_libro()\n",
        "        print(f\"Durata: {self.durata} minuti\")\n",
        "\n",
        "# Dimostra il polimorfismo\n",
        "audiolibro = Audiolibro(\"Diventare\", \"Michelle Obama\", 2018, 1140)\n",
        "libri = [libro1, ebook, audiolibro]\n",
        "\n",
        "for libro in libri:\n",
        "    libro.descrizione_libro()"
      ],
      "metadata": {
        "id": "aVDBf7QvT3YL"
      },
      "execution_count": null,
      "outputs": []
    }
  ]
}