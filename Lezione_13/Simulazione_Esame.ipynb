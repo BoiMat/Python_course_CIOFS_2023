{
  "nbformat": 4,
  "nbformat_minor": 0,
  "metadata": {
    "colab": {
      "provenance": []
    },
    "kernelspec": {
      "name": "python3",
      "display_name": "Python 3"
    },
    "language_info": {
      "name": "python"
    }
  },
  "cells": [
    {
      "cell_type": "markdown",
      "source": [
        "### Esercizi sui Tipi di Dato\n",
        "1. **Conversione tra Tipi**: Dato un elenco di valori `['123', '42', '3.14', '1024']`, scrivi un programma che converte ogni elemento in un intero e stampa la somma totale.\n",
        "2. **Manipolazione Stringhe**: Data la stringa `\"Python 2023\"`, scrivi una funzione che aggiunge un anno per automatizzare il processo di creare il titolo del corso per l'anno successivo."
      ],
      "metadata": {
        "id": "IuICBnpvxA3t"
      }
    },
    {
      "cell_type": "markdown",
      "source": [
        "### Esercizi sulle Liste\n",
        "1. **Operazioni di Lista**: Data la lista `numeri = [10, 20, 30, 40, 50]`, scrivi un programma che:\n",
        "   - Aggiunge un nuovo elemento `60` alla fine della lista.\n",
        "   - Rimuove il secondo elemento della lista.\n",
        "   - Stampa la lista finale.\n",
        "2. **Ricerca in Lista**: Data la lista `nomi = ['Alice', 'Bob', 'Charlie', 'Diana']`, scrivi un programma che chiede all'utente di inserire un nome e verifica se è presente nella lista. Stampa un messaggio appropriato in entrambi i casi."
      ],
      "metadata": {
        "id": "XGvH7WwoynAh"
      }
    },
    {
      "cell_type": "markdown",
      "source": [
        "### Esercizi sulle Funzioni\n",
        "1. **Funzione di Ordinamento**: Scrivi una funzione `ordina_lista` che accetta una lista di numeri e restituisce la lista ordinata in ordine crescente. Non utilizzare funzioni di ordinamento predefinite."
      ],
      "metadata": {
        "id": "8QDugtsEysVL"
      }
    },
    {
      "cell_type": "markdown",
      "source": [
        "### Esercizi sui Condizionali\n",
        "1. **Controllo del Voto**: Scrivi un programma che chiede all'utente di inserire un voto (da 1 a 10). Stampa \"Promosso\" se il voto è maggiore o uguale a 6, \"Rimandato\" se il voto è tra 4 e 5, e \"Bocciato\" se il voto è inferiore a 4.\n",
        "2. **Calcolatrice Semplice**: Scrivi una funzione con parametri un'operazione tra `addizione`, `sottrazione`, `moltiplicazione`, e `divisione`, e due numeri e esegue l'operazione scelta. Gestisci eventuali errori, come la divisione per zero."
      ],
      "metadata": {
        "id": "UvZ9ajvRyylL"
      }
    }
  ]
}