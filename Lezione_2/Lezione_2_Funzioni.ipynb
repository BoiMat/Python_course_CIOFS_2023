{
  "nbformat": 4,
  "nbformat_minor": 0,
  "metadata": {
    "colab": {
      "provenance": []
    },
    "kernelspec": {
      "name": "python3",
      "display_name": "Python 3"
    },
    "language_info": {
      "name": "python"
    }
  },
  "cells": [
    {
      "cell_type": "markdown",
      "source": [
        "[![Open in Colab](https://colab.research.google.com/assets/colab-badge.svg)](https://colab.research.google.com/github/BoiMat/Python_course_CIOFS_2023/blob/main/Lezione_2/Lezione_2_Funzioni.ipynb)"
      ],
      "metadata": {
        "id": "TlBmlI3J01Ap"
      }
    },
    {
      "cell_type": "markdown",
      "source": [
        "# Funzioni\n",
        "\n",
        "Nome associato ad un gruppo di istruzioni con lo scopo di dividere in blocchi logici il programma, e poter riutilizzare le stesse linee di codice in diversi punti senza doverle riscrivere.\n",
        "\n",
        "### Sintassi\n",
        "\n",
        "- la keyword **def**\n",
        "- il **nome** assegnato alla funzione, con stesse regole delle variabili\n",
        "- parentesi tonde che racchiudono i **parametri** (se necessari) che useremo dentro la funzione\n",
        "- il token **:** che indica l’inizio del corpo della funzione"
      ],
      "metadata": {
        "id": "eDQvF06KQgOd"
      }
    },
    {
      "cell_type": "code",
      "execution_count": null,
      "metadata": {
        "id": "dhSgQXdfQc69"
      },
      "outputs": [],
      "source": [
        "# definizione di una funzione con 2 parametri\n",
        "def nome_funzione( param_1, param_2 ):\n",
        "    # CORPO\n",
        "\n",
        "# fine della funzione alla prima istruzione NON indentata"
      ]
    },
    {
      "cell_type": "code",
      "source": [
        "# chiamata della funzione\n",
        "nome_funzione( argm_1, argm_2 )"
      ],
      "metadata": {
        "id": "Xv7JVhHrW7Ox"
      },
      "execution_count": null,
      "outputs": []
    },
    {
      "cell_type": "markdown",
      "source": [
        "- il corpo della funzione (body) contiene le istruzioni da eseguire ogni volta che si chiama la funzione\n",
        "\n",
        "- tutte le istruzioni nel body saranno eseguiti ad ogni chiamata\n",
        "\n",
        "- gli statements del body devono essere indentati di 4 spazi (PEP8) rispetto alla keyword def, perchè sono un nuovo blocco di istruzioni\n",
        "\n",
        "- le istruzioni dentro la funzione “finiscono” alla prima istruzione allineata col blocco precedente (rientro dall’indentazione)\n",
        "\n",
        "- le variabili create dentro la funzione esistono solo dentro la funzione (scope)\n",
        "\n",
        "- si possono creare quante funzioni si vuole in un programma\n",
        "\n",
        "- le funzioni possono avere quanti parametri vogliamo, anche zero"
      ],
      "metadata": {
        "id": "ttuTnyRwXER7"
      }
    },
    {
      "cell_type": "code",
      "source": [
        "def ciao():\n",
        "    print(\"Ciao.\")\n",
        "\n",
        "ciao()"
      ],
      "metadata": {
        "id": "FR_xzf7gXUVl"
      },
      "execution_count": null,
      "outputs": []
    },
    {
      "cell_type": "markdown",
      "source": [
        "## Definizione e Chiamata\n",
        "\n",
        "### Definizione:\n",
        "Processo di creazione della struttura di una funzione. Specifichiamo il nome della funzione, i parametri che accetta (se ce ne sono), e il blocco di codice che deve essere eseguito quando la funzione viene chiamata."
      ],
      "metadata": {
        "id": "gnvU1vURc1un"
      }
    },
    {
      "cell_type": "code",
      "source": [
        "def nome_funzione(parametri):\n",
        "    # blocco di codice\n",
        "    # ...\n",
        "    return risultato   # (opzionale)"
      ],
      "metadata": {
        "id": "loltZ91mdklF"
      },
      "execution_count": null,
      "outputs": []
    },
    {
      "cell_type": "markdown",
      "source": [
        "### Chiamata:\n",
        "Processo di esecuzione effettiva della funzione. Durante la chiamata, forniamo i valori effettivi (noti come \"argomenti\") per i parametri dichiarati nella definizione della funzione. Quando una funzione viene chiamata, il flusso di esecuzione del programma si sposta nel blocco di codice della funzione e torna al punto in cui la funzione è stata chiamata una volta che il suo blocco di codice è stato eseguito."
      ],
      "metadata": {
        "id": "iheklbXyeSJx"
      }
    },
    {
      "cell_type": "code",
      "source": [
        "risultato = nome_funzione(arg1, arg2, ...)"
      ],
      "metadata": {
        "id": "gOOOxXl_eWcu"
      },
      "execution_count": null,
      "outputs": []
    },
    {
      "cell_type": "markdown",
      "source": [
        "## Parametrizzazione di una funzione\n",
        "\n",
        "Personalizzazione della funzione con l'aggiunta di parametri. I parametri sono variabili che fungono da segnaposto per i dati che verranno passati alla funzione quando essa viene chiamata. I parametri consentono alle funzioni di accettare input esterni, rendendole flessibili e riutilizzabili in diverse situazioni."
      ],
      "metadata": {
        "id": "0BYJDw-YcLjp"
      }
    },
    {
      "cell_type": "code",
      "source": [
        "def ciao(username): # \"username\" è un parametro\n",
        "  print(\"ciao,\", username)"
      ],
      "metadata": {
        "id": "N4SkAiMJcOnl"
      },
      "execution_count": null,
      "outputs": []
    },
    {
      "cell_type": "code",
      "source": [
        "nome = input(\"Come ti chiami? \")\n",
        "ciao(nome)"
      ],
      "metadata": {
        "id": "wwmBtCv7cRuW"
      },
      "execution_count": null,
      "outputs": []
    },
    {
      "cell_type": "markdown",
      "source": [
        "## Default values\n",
        "\n",
        "Valori assegnati ai parametri di una funzione nel caso in cui non vengano forniti argomenti corrispondenti durante la chiamata della funzione. Questi valori predefiniti offrono una flessibilità aggiuntiva, consentendo alle funzioni di funzionare anche quando alcuni argomenti non sono specificati."
      ],
      "metadata": {
        "id": "4a3zvEb5cb7h"
      }
    },
    {
      "cell_type": "code",
      "source": [
        "def ciao(username = \"mondo\"):\n",
        "  print(\"ciao,\", username)"
      ],
      "metadata": {
        "id": "ZLEzwkuncsAR"
      },
      "execution_count": null,
      "outputs": []
    },
    {
      "cell_type": "code",
      "source": [
        "nome = input(\"Come ti chiami? \")\n",
        "ciao()"
      ],
      "metadata": {
        "id": "1XMwnDyecwwR"
      },
      "execution_count": null,
      "outputs": []
    },
    {
      "cell_type": "markdown",
      "source": [
        "## Scope\n",
        "\n",
        "Area in cui una variabile è accessibile e può essere utilizzata. In Python, lo scope di una variabile è determinato dalla posizione in cui viene definita all'interno del codice. Gli oggetti, come le variabili, hanno una visibilità limitata all'interno di specifici blocchi di codice o funzioni\n",
        "\n",
        "Esistono principalmente due tipi di scope in Python:\n",
        "\n",
        "1. **Global Scope** (Ambito Globale): Le variabili definite al di fuori di qualsiasi funzione o blocco di codice hanno uno scope globale. Queste variabili sono accessibili da qualsiasi parte del programma."
      ],
      "metadata": {
        "id": "xQBo90_rlBCt"
      }
    },
    {
      "cell_type": "code",
      "source": [
        "variabile_globale = 10\n",
        "\n",
        "def funzione():\n",
        "    print(variabile_globale)  # Accessibile in quanto globale\n",
        "\n",
        "funzione()"
      ],
      "metadata": {
        "id": "bPk1plOblCF7"
      },
      "execution_count": null,
      "outputs": []
    },
    {
      "cell_type": "markdown",
      "source": [
        "2. **Local Scope** (Ambito Locale): Le variabili definite all'interno di una funzione o di un blocco di codice hanno uno scope locale. Sono accessibili solo all'interno della funzione o del blocco in cui sono state definite."
      ],
      "metadata": {
        "id": "ksAdGFtWlX9c"
      }
    },
    {
      "cell_type": "code",
      "source": [
        "def funzione():\n",
        "    variabile_locale = 5\n",
        "    print(variabile_locale)  # Accessibile all'interno della funzione\n",
        "\n",
        "funzione()"
      ],
      "metadata": {
        "id": "_fnU9Liklbus"
      },
      "execution_count": null,
      "outputs": []
    },
    {
      "cell_type": "markdown",
      "source": [
        "## Composizione di funzioni\n",
        "\n",
        "Una funzione può chiamare un'altra funzione come parte del suo blocco di codice, incorporando il comportamento di quest'ultima all'interno del suo flusso di esecuzione."
      ],
      "metadata": {
        "id": "UjzM8nGLmUo4"
      }
    },
    {
      "cell_type": "code",
      "source": [
        "def quadrato(x):\n",
        "    # Calcola il quadrato di un numero.\n",
        "    return x ** 2\n",
        "\n",
        "def somma_dei_quadrati(a, b):\n",
        "    # Calcola la somma dei quadrati di due numeri.\n",
        "    quadrato_a = quadrato(a)\n",
        "    quadrato_b = quadrato(b)\n",
        "    somma = quadrato_a + quadrato_b\n",
        "    return somma\n",
        "\n",
        "# Utilizzo delle funzioni\n",
        "numero1 = 3\n",
        "numero2 = 4\n",
        "\n",
        "risultato = somma_dei_quadrati(numero1, numero2)\n",
        "print(f\"La somma dei quadrati di {numero1} e {numero2} è {risultato}\")\n"
      ],
      "metadata": {
        "id": "ieHhVhB-m90b"
      },
      "execution_count": null,
      "outputs": []
    },
    {
      "cell_type": "markdown",
      "source": [
        "In questo esempio:\n",
        "\n",
        "- La funzione `quadrato` accetta un argomento `x` e restituisce il suo quadrato.\n",
        "- La funzione `somma_dei_quadrati` accetta due argomenti `a` e `b` e calcola la somma dei quadrati utilizzando la funzione `quadrato`.\n",
        "\n",
        "Quando chiamiamo `somma_dei_quadrati(numero1, numero2)`, essa chiama internamente la funzione `quadrato` due volte per ottenere i quadrati dei numeri dati e quindi calcola la somma di questi quadrati.\n",
        "\n",
        "Questo è un esempio di composizione di funzioni, dove funzioni più piccole vengono utilizzate per costruire funzioni più complesse. Questa pratica rende il codice più modulare, leggibile e facilmente modificabile."
      ],
      "metadata": {
        "id": "OUJ51NL5nRni"
      }
    },
    {
      "cell_type": "markdown",
      "source": [
        "## Funzioni che ritornano valori\n",
        "Funzioni che, al termine della loro esecuzione, restituiscono un valore specifico. Questo valore può essere utilizzato o assegnato a una variabile quando la funzione viene chiamata. La parola chiave `return` viene utilizzata per specificare il valore che la funzione restituirà."
      ],
      "metadata": {
        "id": "Q1YpnbwpnvzG"
      }
    },
    {
      "cell_type": "code",
      "source": [
        "def somma(a, b):\n",
        "    # Restituisce la somma di due numeri.z\n",
        "    risultato = a + b\n",
        "    return risultato\n",
        "\n",
        "# Chiamata alla funzione e assegnamento del risultato a una variabile\n",
        "risultato_somma = somma(3, 4)\n",
        "\n",
        "# Stampa del risultato\n",
        "print(f\"Il risultato della somma è: {risultato_somma}\")"
      ],
      "metadata": {
        "id": "Cdb26uSGnTYK"
      },
      "execution_count": null,
      "outputs": []
    },
    {
      "cell_type": "markdown",
      "source": [
        "In questo esempio, la funzione `somma` accetta due argomenti `a` e `b`, calcola la loro somma e restituisce il risultato utilizzando la parola chiave `return`.\n",
        "\n",
        "### Utilizzo di Valori Restituiti:\n",
        "\n",
        "Quando si chiama una funzione che restituisce un valore, è possibile assegnare quel valore a una variabile o utilizzarlo direttamente in un'espressione:"
      ],
      "metadata": {
        "id": "RjD-Xi8moKPe"
      }
    },
    {
      "cell_type": "code",
      "source": [
        "# Assegnamento del risultato a una variabile\n",
        "risultato_somma = somma(3, 4)\n",
        "\n",
        "# Utilizzo diretto del risultato in un'espressione\n",
        "prodotto = somma(2, 5) * 10"
      ],
      "metadata": {
        "id": "mJqcPaSPoZ7y"
      },
      "execution_count": null,
      "outputs": []
    },
    {
      "cell_type": "markdown",
      "source": [
        "Le funzioni possono restituire qualsiasi tipo di dato, inclusi numeri, stringhe, liste, oggetti personalizzati, e altro ancora. Ad esempio:"
      ],
      "metadata": {
        "id": "K2lSYEp4oas6"
      }
    },
    {
      "cell_type": "code",
      "source": [
        "def saluta(nome):\n",
        "    # Restituisce una stringa di saluto.\n",
        "    saluto = f\"Ciao, {nome}!\"\n",
        "    return saluto\n",
        "\n",
        "# Chiamata alla funzione e utilizzo del valore restituito\n",
        "messaggio_di_saluto = saluta(\"Alice\")\n",
        "print(messaggio_di_saluto)"
      ],
      "metadata": {
        "id": "EWHPeZXxohMD"
      },
      "execution_count": null,
      "outputs": []
    },
    {
      "cell_type": "markdown",
      "source": [
        "In questo caso, la funzione `saluta` restituisce una stringa di saluto che può essere utilizzata o stampata come necessario."
      ],
      "metadata": {
        "id": "SMYLXxY1oj4q"
      }
    },
    {
      "cell_type": "markdown",
      "source": [
        "## Funzioni ricorsive\n",
        "Funzioni che si chiamano direttamente o indirettamente da sole. In altre parole, una funzione ricorsiva è una funzione che si risolve risolvendo versioni più piccole dello stesso problema. Le funzioni ricorsive sono spesso utilizzate per risolvere problemi che possono essere suddivisi in sottoproblemi simili.\n",
        "\n",
        "Esempio classico di una funzione ricorsiva: il calcolo del fattoriale di un numero."
      ],
      "metadata": {
        "id": "SpMMOEY8pPnR"
      }
    },
    {
      "cell_type": "code",
      "source": [
        "def fattoriale(n):\n",
        "    # Calcola il fattoriale di un numero.\n",
        "    if n == 0 or n == 1:\n",
        "        return 1\n",
        "    else:\n",
        "        return n * fattoriale(n - 1)\n",
        "\n",
        "# Esempi di chiamate alla funzione ricorsiva\n",
        "risultato1 = fattoriale(5)\n",
        "risultato2 = fattoriale(3)\n",
        "\n",
        "print(f\"Il fattoriale di 5 è: {risultato1}\")\n",
        "print(f\"Il fattoriale di 3 è: {risultato2}\")"
      ],
      "metadata": {
        "id": "yMM-dugJpZq9"
      },
      "execution_count": null,
      "outputs": []
    },
    {
      "cell_type": "markdown",
      "source": [
        "In questo esempio:\n",
        "\n",
        "- La funzione `fattoriale` restituisce 1 quando il suo argomento `n` è 0 o 1.\n",
        "- Altrimenti, restituisce `n * fattoriale(n - 1)`, richiamando se stessa con un argomento più piccolo.\n",
        "\n",
        "È importante includere una condizione di base (in questo caso, `n == 0 or n == 1`) per evitare che la ricorsione proceda indefinitamente. Ogni chiamata alla funzione deve avvicinarsi a un caso base, in modo che l'esecuzione si fermi.\n",
        "\n",
        "Le funzioni ricorsive possono essere utili per risolvere problemi in modo elegante, ma è importante utilizzarle con cautela, poiché una ricorsione eccessiva può portare a un esaurimento della pila e causare un errore \"RuntimeError: maximum recursion depth exceeded\". In alcuni casi, è possibile ottimizzare le funzioni ricorsive utilizzando tecniche come la memorizzazione delle chiamate (memoization) o la conversione della ricorsione in un approccio iterativo."
      ],
      "metadata": {
        "id": "bMjvXXR3pdQm"
      }
    },
    {
      "cell_type": "markdown",
      "source": [
        "## Commenti\n",
        "I commenti sono annotazioni nel codice sorgente che non vengono eseguite dal programma, ma forniscono spiegazioni o informazioni utili per chi legge il codice.\n",
        "\n",
        "Per commentare una funzione in Python, oltre ai classici commenti con \"#\", puoi utilizzare il triplo apice (\"\"\") per creare un blocco di testo multilinea noto come \"docstring\". Questo blocco di testo viene collocato subito dopo la definizione della funzione e fornisce una descrizione completa della funzione, compresi i parametri che accetta, il suo comportamento e il valore restituito (se presente)."
      ],
      "metadata": {
        "id": "y6Hc4l46poXj"
      }
    },
    {
      "cell_type": "code",
      "source": [
        "def somma(a, b):\n",
        "    \"\"\"\n",
        "    Calcola la somma di due numeri.\n",
        "\n",
        "    Parameters:\n",
        "    - a (int): Il primo numero.\n",
        "    - b (int): Il secondo numero.\n",
        "\n",
        "    Returns:\n",
        "    int: La somma di a e b.\n",
        "    \"\"\"\n",
        "    risultato = a + b\n",
        "    return risultato\n",
        "\n",
        "# Utilizzo del risultato della funzione\n",
        "risultato_somma = somma(3, 4)\n",
        "print(f\"Il risultato della somma è: {risultato_somma}\")"
      ],
      "metadata": {
        "id": "y6f2E2mNqJ9F"
      },
      "execution_count": null,
      "outputs": []
    },
    {
      "cell_type": "markdown",
      "source": [
        "- La docstring è inserita tra triple apici (`\"\"\"`) subito dopo la definizione della funzione `somma`.\n",
        "- La docstring fornisce una descrizione chiara della funzione, specificando i parametri `a` e `b` e il valore restituito.\n",
        "- I commenti all'interno della docstring aiutano a documentare il codice, rendendo più facile la comprensione per chi legge il codice.\n",
        "\n",
        "Le docstring sono particolarmente utili perché possono essere recuperate interattivamente durante l'esecuzione del programma. Ad esempio, è possibile ottenere la docstring di una funzione utilizzando la funzione `help()` o visualizzando la documentazione attraverso l'IDE o l'ambiente di sviluppo in uso."
      ],
      "metadata": {
        "id": "M38Mp0DUqOtx"
      }
    }
  ]
}
