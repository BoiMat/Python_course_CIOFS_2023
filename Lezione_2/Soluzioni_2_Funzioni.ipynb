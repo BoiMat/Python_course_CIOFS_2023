{
  "nbformat": 4,
  "nbformat_minor": 0,
  "metadata": {
    "colab": {
      "provenance": []
    },
    "kernelspec": {
      "name": "python3",
      "display_name": "Python 3"
    },
    "language_info": {
      "name": "python"
    }
  },
  "cells": [
    {
      "cell_type": "code",
      "source": [
        "def saluto(nome):\n",
        "    return f\"Ciao, {nome}!\"\n",
        "\n",
        "# Chiamata alla funzione\n",
        "risultato_saluto = saluto(\"Mario\")\n",
        "print(risultato_saluto)"
      ],
      "metadata": {
        "id": "4_iYVkhbwat1"
      },
      "execution_count": null,
      "outputs": []
    },
    {
      "cell_type": "code",
      "execution_count": null,
      "metadata": {
        "id": "SOnfe--lwSLf"
      },
      "outputs": [],
      "source": [
        "import math\n",
        "\n",
        "def area_cerchio(raggio):\n",
        "    return math.pi * raggio**2\n",
        "\n",
        "# Chiamata alla funzione\n",
        "risultato_area = area_cerchio(5)\n",
        "print(f\"L'area del cerchio è: {risultato_area}\")"
      ]
    },
    {
      "cell_type": "code",
      "source": [
        "def saluto(nome, saluto=\"Ciao\"):\n",
        "    return f\"{saluto}, {nome}!\"\n",
        "\n",
        "# Chiamata senza specificare il saluto\n",
        "risultato_saluto1 = saluto(\"Luca\")\n",
        "print(risultato_saluto1)\n",
        "\n",
        "# Chiamata con un saluto personalizzato\n",
        "risultato_saluto2 = saluto(\"Anna\", saluto=\"Buongiorno\")\n",
        "print(risultato_saluto2)"
      ],
      "metadata": {
        "id": "gUKhx7TXwctf"
      },
      "execution_count": null,
      "outputs": []
    },
    {
      "cell_type": "code",
      "source": [
        "def verifica_pari(numero):\n",
        "    return numero % 2 == 0\n",
        "\n",
        "# Chiamate alla funzione\n",
        "risultato1 = verifica_pari(10)\n",
        "print(f\"10 è pari? {risultato1}\")\n",
        "\n",
        "risultato2 = verifica_pari(7)\n",
        "print(f\"7 è pari? {risultato2}\")"
      ],
      "metadata": {
        "id": "O9vhsMZCwie_"
      },
      "execution_count": null,
      "outputs": []
    },
    {
      "cell_type": "code",
      "source": [
        "def fibonacci(n):\n",
        "    if n <= 0:\n",
        "        return 0\n",
        "    elif n == 1:\n",
        "        return 1\n",
        "    else:\n",
        "        return fibonacci(n - 1) + fibonacci(n - 2)\n",
        "\n",
        "# Chiamate alla funzione\n",
        "risultato1 = fibonacci(0)\n",
        "print(f\"Il termine 0 della sequenza di Fibonacci è: {risultato1}\")\n",
        "\n",
        "risultato2 = fibonacci(5)\n",
        "print(f\"Il termine 5 della sequenza di Fibonacci è: {risultato2}\")\n",
        "\n",
        "risultato3 = fibonacci(8)\n",
        "print(f\"Il termine 8 della sequenza di Fibonacci è: {risultato3}\")"
      ],
      "metadata": {
        "id": "8S9dmLVqwgH0"
      },
      "execution_count": null,
      "outputs": []
    },
    {
      "cell_type": "code",
      "source": [
        "def mia_funzione(parametro1, parametro2):\n",
        "    \"\"\"\n",
        "    Questa funzione fa qualcosa con i parametri dati.\n",
        "\n",
        "    Parameters:\n",
        "    - parametro1: Descrizione di parametro1.\n",
        "    - parametro2: Descrizione di parametro2.\n",
        "\n",
        "    Returns:\n",
        "    Tipo di ritorno: Descrizione del risultato restituito.\n",
        "    \"\"\"\n",
        "    # Corpo della funzione\n",
        "    return risultato"
      ],
      "metadata": {
        "id": "blZNdKUfwkv1"
      },
      "execution_count": null,
      "outputs": []
    }
  ]
}