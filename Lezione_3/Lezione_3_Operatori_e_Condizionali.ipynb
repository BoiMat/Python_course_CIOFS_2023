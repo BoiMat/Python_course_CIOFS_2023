{
  "nbformat": 4,
  "nbformat_minor": 0,
  "metadata": {
    "colab": {
      "provenance": []
    },
    "kernelspec": {
      "name": "python3",
      "display_name": "Python 3"
    },
    "language_info": {
      "name": "python"
    }
  },
  "cells": [
    {
      "cell_type": "markdown",
      "source": [
        "[![Open in Colab](https://colab.research.google.com/assets/colab-badge.svg)](https://colab.research.google.com/github/BoiMat/Python_course_CIOFS_2023/blob/main/Lezione_3/Lezione_3_Operatori_e_Condizionali.ipynb)"
      ],
      "metadata": {
        "id": "TlBmlI3J01Ap"
      }
    },
    {
      "cell_type": "markdown",
      "source": [
        "# Operatori di controllo\n",
        "Gli operatori di confronto, sono utilizzati per confrontare due valori e restituire un risultato booleano (True o False) in base alla condizione specificata. Ecco gli operatori di controllo più comuni in Python:\n",
        "\n",
        "1. **Uguaglianza (`==`):**\n",
        "   Restituisce True se i due valori sono uguali, altrimenti False.\n",
        "\n",
        "2. **Diversità (`!=`):**\n",
        "   Restituisce True se i due valori sono diversi, altrimenti False.\n",
        "\n",
        "3. **Maggiore (`>`):**\n",
        "   Restituisce True se il valore a sinistra è maggiore del valore a destra, altrimenti False.\n",
        "\n",
        "4. **Maggiore o Uguale (`>=`):**\n",
        "   Restituisce True se il valore a sinistra è maggiore o uguale al valore a destra, altrimenti False.\n",
        "\n",
        "5. **Minore (`<`):**\n",
        "   Restituisce True se il valore a sinistra è minore del valore a destra, altrimenti False.\n",
        "\n",
        "6. **Minore o Uguale (`<=`):**\n",
        "   Restituisce True se il valore a sinistra è minore o uguale al valore a destra, altrimenti False."
      ],
      "metadata": {
        "id": "uTdoPnz2iWBe"
      }
    },
    {
      "cell_type": "code",
      "execution_count": null,
      "metadata": {
        "id": "xc9FaUUxh0FM"
      },
      "outputs": [],
      "source": [
        "x = 5\n",
        "y = 7\n",
        "print(x == y)  # Stampa False"
      ]
    },
    {
      "cell_type": "code",
      "source": [
        "print(x != y)  # Stampa True"
      ],
      "metadata": {
        "id": "nbOEPlSoijd9"
      },
      "execution_count": null,
      "outputs": []
    },
    {
      "cell_type": "code",
      "source": [
        "print(x > y)  # Stampa False"
      ],
      "metadata": {
        "id": "WawHBht_inzQ"
      },
      "execution_count": null,
      "outputs": []
    },
    {
      "cell_type": "code",
      "source": [
        "x = 5\n",
        "y = 5\n",
        "print(x >= y)  # Stampa True"
      ],
      "metadata": {
        "id": "F8KmO-Ljiv9T"
      },
      "execution_count": null,
      "outputs": []
    },
    {
      "cell_type": "code",
      "source": [
        "x = 5\n",
        "y = 7\n",
        "print(x < y)  # Stampa True"
      ],
      "metadata": {
        "id": "OQNFmqIii0g3"
      },
      "execution_count": null,
      "outputs": []
    },
    {
      "cell_type": "code",
      "source": [
        "x = 5\n",
        "y = 5\n",
        "print(x <= y)  # Stampa True"
      ],
      "metadata": {
        "id": "Lbi6J0Ayi4Fv"
      },
      "execution_count": null,
      "outputs": []
    },
    {
      "cell_type": "markdown",
      "source": [
        "Questi operatori di confronto sono spesso utilizzati nelle istruzioni condizionali (come `if`, `elif`, e `else`) per controllare il flusso del programma in base alle condizioni specificate."
      ],
      "metadata": {
        "id": "nrLm3H1ki4l7"
      }
    },
    {
      "cell_type": "markdown",
      "source": [
        "# Condizionali **IF**, **ELIF**, **ELSE**\n",
        "\n",
        "In Python, l'istruzione `if` viene utilizzata per eseguire un blocco di codice solo se una determinata condizione è vera. La sintassi generale di un'istruzione `if` è la seguente:"
      ],
      "metadata": {
        "id": "E4BFMOAEmUSw"
      }
    },
    {
      "cell_type": "code",
      "source": [
        "if condizione:\n",
        "    # Blocco di codice da eseguire se la condizione è vera\n",
        "    # Può contenere una o più istruzioni"
      ],
      "metadata": {
        "id": "2rFzICzFi7Kd"
      },
      "execution_count": null,
      "outputs": []
    },
    {
      "cell_type": "markdown",
      "source": [
        "Nel flusso delle istruzioni eseguite nel programma, una condizione corrisponde a cambiare il ramo della lista di istruzioni da eseguire:\n",
        "\n",
        "![if_condition (1).png](data:image/png;base64,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)"
      ],
      "metadata": {
        "id": "VsMHl2OdHZrD"
      }
    },
    {
      "cell_type": "markdown",
      "source": [
        "Ecco un esempio pratico:"
      ],
      "metadata": {
        "id": "YZmAO25pmdJ8"
      }
    },
    {
      "cell_type": "code",
      "source": [
        "x = 10\n",
        "\n",
        "if x > 5:\n",
        "    print(\"x è maggiore di 5\")"
      ],
      "metadata": {
        "id": "ObR6jMIfmpKb"
      },
      "execution_count": null,
      "outputs": []
    },
    {
      "cell_type": "markdown",
      "source": [
        "In questo esempio, il blocco di codice indentato sotto l'istruzione `if` verrà eseguito solo se la condizione `x > 5` è vera. Nel caso di `x = 10`, la condizione è vera, quindi il messaggio \"x è maggiore di 5\" verrà stampato.\n",
        "\n",
        "## Condizioni con alternativa\n",
        "Negli statement condizionali è possibile specificare una alternativa al blocco operazioni eseguito quando la condizione è vera"
      ],
      "metadata": {
        "id": "PSZ1sC4Wmpqt"
      }
    },
    {
      "cell_type": "code",
      "source": [
        "if condizione:\n",
        "    # Blocco di codice da eseguire se la condizione è vera\n",
        "else:\n",
        "    # Blocco di codice da eseguire se la condizione è falsa"
      ],
      "metadata": {
        "id": "P-RAd-DCI9Ej"
      },
      "execution_count": null,
      "outputs": []
    },
    {
      "cell_type": "markdown",
      "source": [
        "Che corrisponde al seguente flusso di istruzioni:\n",
        "\n",
        "![if_else_condition (2).png](data:image/png;base64,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)"
      ],
      "metadata": {
        "id": "I4450R50JT7O"
      }
    },
    {
      "cell_type": "markdown",
      "source": [
        "## Condizioni concatenate\n",
        "Spesso ci sono più di 2 alternative e servono più di due blocchi di istruzioni. Le condizioni concatenate si ottengono con l’aggiunta di blocchi di istruzioni con la keyword **elif**."
      ],
      "metadata": {
        "id": "5_sHKUQOJpwI"
      }
    },
    {
      "cell_type": "code",
      "source": [
        "if condizione_1:\n",
        "    # Blocco di codice da eseguire se la condizione_1 è vera\n",
        "elif condizione_2:\n",
        "    # Blocco di codice da eseguire se la condizione_2 è vera\n",
        "else:\n",
        "    # Blocco di codice da eseguire altrimenti"
      ],
      "metadata": {
        "id": "yS-ajoRUJ1cq"
      },
      "execution_count": null,
      "outputs": []
    },
    {
      "cell_type": "markdown",
      "source": [
        "![if_elif_else_condition (1).png](data:image/png;base64,iVBORw0KGgoAAAANSUhEUgAAApYAAALDCAMAAACYb7B8AAAArlBMVEVHcEwAAAAAAAAHBwcAAAAAAAAAAAAUFBQAAAAAAAAAAAAAAAAAAAAAAAAAAAAAAAABAQEAAAAAAAAAAAAAAAD+/v7////////////////////7+/tISEj////////4+PgAAAAfHx9/f3/9/f05OTnr6+vz8/MTExNfX18wMDBOTk5GRka8vLzR0dHIyMixsbGZmZkmJiakpKTZ2dlWVlZsbGx2dnbf39+Ojo7l5eUZRL5UAAAAHnRSTlMAud38Ct/AAxKUzYmroNUv7HFGHlgJtz/JpXFsy3RX+uhgAAAgAElEQVR42uydCVOczBpGE3GN22j8yluVr+iBZhm2Yd/+/x+7NMyMJtFck2uwR8+pQpuGSWqG48vT0OinT4rrmy8LY6k9xtHF3ekn+Bgc3lz5Tt3Y2tOs8sXnWw7Yh+D00qhiV5p7gGiz4OjuhGP2AWrlpd955t5QVos7Dtr758bopLlH9OHRNUftvXN9UHnmXpFYl5zG332x9OP9stKUDeXy3XPsuHumpRn7pMv3zqKW+6Zlm59z3N45RrNvVppucMlxe+cs7b3T0kNLtERLQEu0BLQEtERLQEtAS7QEtAS0REtAS7QEtAS0REtAS/jgWore+41utIRZtIzz4je60RJm0TJp1k8+qPh0N1oC2RI+qpZllwxL2WZd0Zvmevo1GPHYbcoks7u1QEuYW8vUyMzYb0In8CvXTKMBa9mZqZ+ZssjzyLFsgZYwt5a+0jJIXbc2YlN4npcEQTl2J1ZUen3tp2gJb6GlUW9a6tLQ6KFa6QwlZOK/1jOWaImWv1ctu/ExbvXVLPxGTN21X47PK0YeWsJbaJnttEzyqJ+65cpqlUzOa/2iBLREyz/U0q2seNtNtQQ9tJSd0e26yZagh5axH/bDaFxsRuJhK1xG4vBW1y03Qx65WgZhGEbd2C2LPAi5bglvoGVpr8dlbMmiGSnk2CWTruEuD7yBltwTB7QEtERLQEu0BLQEtERLQEtAS7QEtAS0REtAS7RES7QEtERLQEvYRxZ7+Mf18jOO2zvnqhL7pmVi3XDc3jmXebtvWhaLW47bO+duke1btAy/nHLc3jmnF0G5X1pmBufwd8/J9UG4V6fx1LqgWH4AL+8W0VruzRk8s46/ctA+ArdXVpMmvas97boIjQus/CBcn18trL1g8fmOM/jH4evtzfkrc7b48tr/5M3dNVLC/zfEP3r1ezEnJ3ysoJ2WAGgJaAmAloCWAGgJgJaAlgBoCWgJgJaAlgBoCYCWgJYAaAloCYCWgJYAaAmAloCWAGgJaAmAloCWAGgJgJaAlgBoCWgJgJaAlgBoCYCWgJYAaAloCYCWgJYAaAkwcPL1euTocmrwp0NBAysPL45GlovpO3+UHnTgzji+2XJ+dHDNJwIa8PX4+PTTycin28U5HwjoUS4Xd5vW4cUB0RI0KpcjFEvQr1xSLEHDckmxBP3KJcUSNCyXFEvQr1xSLEHDckmxBP3K5Q3FEvQrlwuKJehXLpdXFEvQjJPTY4olaMft1eUpnwLoVSzvDnzjM3PaQCdOzxdOnPlXtyd8FqDNMPzSWLWmTIPFzSGfBmgSK4992zMHktA4YzgOesTKo7yQ5ohbEzBBl1i5NrcIAiZoEyt3SBkTMEGbWPkgJgET3jpWHuxi5QMETNAnVpoETNAvVhIwQctYScCEN4+VR0/ESgIm6BgrfwiYfFCgQ6wkYIKWsfKHgMkcTNAjVhIwQcdYScAEDWMlARNm5vpFsZKACbPGyoMXxkoCJugYKwmYoGGsJGCClrGSgAlaxkoCJugYKwmYoGGsJGCClrGSgAlaxkoCJugYKwmYoGGsJGCClrGSgAlaxsrvAuYFARP0iJUETNAwVhIwQctYScAELWMlARN0jJUETNAwVhIw4a1jpYxToRYCJrxRrPSSn+0TYeAOS0/AhFfh8OZ3Y2XstE9rWf1CSwImvEKsFJ43VVDpeWL6ppahT3RWItSqUGubzY+0FFMPARNeO1bKeOU4TblpVENmFHW9rh3HdqXtL/Pares0qr1pcyEetBRppV4gCZjw6rEythy7saJeNbos9DNTVHlYd9XSluvI72KvyqOoEw+bt1qmftR1jhUTMOG1Y6UXBsOJPbMKEeZDyeydoBfVMhtaQeSZjd8Olhq2qpFWMsgWDZu3WmbV8ILEr58NmF8ImPAnsdI0y1Err3RLf6WKqW2sRWW1Y4TsN1r6g5Cltdkc77SUntuWiVUJrmDCK8ZKxdq3v2tkRirH8cxo3qRl3qvNzbS52GnZNk4QBMuKK5jwmrFyjJZbLePntQwetCx2Wrpi5dtxElvPaknAhD+IlSNTNhStuwmJ3XCWfkrL8mHzRstkPOu3v9LyLQLmyT8vBTW0jJVTQXOcQbo4yLyx4YV5/6SWXhRMm9utllP97Ja/0vINAub9f17IPW5oGSsnMn+VFk6emIW/iteN38lHWtrLbu1Ol843m225ufnoukGeru0qD2Kh0xzMby+9g4WWesbK7Xk2sKwoVg0nz4POM8XKcU31tTfXgR/2qvHD5nGXNLCCKsksp9VpDub9k29SoOW+xMptPeuTxB1bQ0MJKNtSjl+F6mqnVeXXsHnaIKe+PikHS8tS/M85mDMGzG8yzSYe7tqLVfPz20ZLPWPlXMwbMO89xwhGHn4ghVOh5d7EyvnEnDFgfhNO1I+Ih9klo5a7KSlDAy31jZUzMl/AvBdOuP1fWztywkyMWoqicpx6qKBeFjqR3aOltrFyRmYLmErLzU+jV+VZWvvFqGVs1WkROb20LTvt8pWHlh82Vv4YME8P/zqDlpE3It0unU7gaumsciifhVvm9WBt58f3D6/Bl5ms/LxsPFMvZOIYV3+fldgMeaLSFOsi6/JITtWyKtQ1g9hIxxkA2b+7l5ydYMw8Wp4ZatbZn9EX5VBWyu87Xvrwz/MXi2SaH11c/m3OGuHknSJzvToPVys/HLUUaZjnYWymhpogmlj2v9uXLD6j5YzRMv5DLVM/G5bi8XSO7IUBsnCa57z0unnC5aMhT2p0wpTOVC3V7L0ispJ0Uy27XbY8Rsv5uLuyCvHHWrrrR4+QfbfyqzJbW8tQPLfNuPg6w9v+R2XLzZCnUxNFE2vUUibJaGMx1MnxVmq81fIELWe9bPnZaNwna9r2TDs05PhImdz1yeG70lIK1TcixpWnd39oqA11UOTPaJlEi/N5Llx+e9ByqJZtvMqD0hu0bIK0LG0rlqs8bWMnctFSp4DpdpETql8+oBqRPQzX4yguQqeKh4NZ1k7UFYOWsZOaxXSzJDPXw8qwu7rcN/x76ygddg/V7ptLgFvd09ILntRSxcq7mY79vSqN24uluRMWhRW20cpsV8N7cTJhtvXQWCUSLTUKmN7Kr+1oSI6qkU3PlvlhaDdWXpp95DfdyhmzZWYmauAQLItxxaun3dth9yi07XzYXTT+augLdzVZPq3lFCvn0lKWuytjokz68aa96hpWxlv+qjEMydHyzTj5OWCmfqceJAu91LClmow+VEZDzQHqjMIsjE7NqVxOWk6jncobV2K/kea4Q+w75fj0xLbv0YDoSS37WacQPZ7Y9qubXGipU8Bs1DBATQAaG2ZrreT0uIRyb+pTqm60bB31OKRasY31uHs17N6Mvnbj82aet3n47Fktk8g4n3HC5f1LL6OipT4BU6ysfttQ5zo3j7zp+s/gmZz6Un+r5X/ZOxO2OHEwAK/Fo7ZarbV1d/ssIQTCHe4B/v8f2yQwh0ero9BJ4vfZoeGYqU/zzpeXEAhqZT8RXyFh0EnsxOH9hGXrROImMyumv27EhVZ+/ZPVvvcwYMDy8IKJmjWWY8GPfodlFchuSIklfoQlaS236PnP9ultj7D8U72VO9nynxcGYKmOYJI2ELnTH9BYGGSrXKzTn9y2acSzUo5L32nfhzJG22zpWtmD1PgQy0GDWx8BSwUEUzDHG+fEr0RBdO3ZWyzFaQ9v3qdTHtpMD3IRK9PhXEO3WIo3c/SKbPeUhxxOKwFLbQVz8Moidfkp9JCUVZZHUb2DZYajPHWjKVv2Tsh41ONlH3m4Jw9fY+nHuGd5vH4KEU3zCnt5zsiBtBKw1FcwswbjUiTPrCnLMmbi4VgSS74kVYTLpig5lrgioYVLjPGKyAOy8N7hDHM4a7HNWw82rqMgsIIgCNGBtBKw1FgwaZ11ZN2tTOUjf/3NcsgyiniJr5Eu47kyY9206+Hhw7gt2/Q/oYxl/A8b70gbdHmiBmCpimAuOKhSK60ELJUSzOXp1EMrAUu1BHPh0EUrAUvFBHPRGLR6UBtg+T4EUx+tBCxVEczLpQVTJ60ELN+LYGqllYDlOxHMQb/n/wKWxgumZloJWL4HwdROKwHLdyCY+mklYGm+YA6aTisBWJosmDpqJWBpuGBKrdTzyWeApbGCqalWApZGC+ag82xlgKWhgqmtVgKW5gqmxloJWBormDprJWBpqmAO2k+CC1iaJ5h6ayVgaaRg6nkRHLA0WzC110rAUumKObv98ArB1F8rAUvVBfN0b8E0QCsBS9ME0witBCwNE0wztBKwNEswDdFKwNIowTRFKwFLgwTTHK0ELM0RTIO0ErA0RjBN0krA0hTBNEorAUszBFP3sZWApYmCaZpWApYmCKZxWglYGiCY5mklYKm9YJqolYCl7oJppFYClpoLpplaCVjqLZiGaiVgqWN9rQXTWK0ELDUWTHO1ErDUVzB7c7USsNRXMB1ztRKw1JfL60uzaw2w1DE+npz/BVhCAJaAJQRgCVgCloAlBGAJWAKWgCUEYAlYApaAJQRgCVhCAJZQzYAlYAkBWAKWgCVgCQFYApaApYFE7mIJbAKWalB5e3O8xvL45ha4BCyViJuTSw7m6RGH8uLkBuoasFQiWx5fONeXN6enNxfXzsUx1LXKdfX9fnz8cP5wk0Hp8tpxri1LLCFZKh0//34QLHuw4YcxXIp0OQUkS7XjX9sm937shxvQnVnpUgQkS/WxfCYMwnKTLiFZqt6I59lEX86I6Viu0yUkS8Xj+Gfijc/DSoPe+Gy5TpeQLJVvxItAPteStLjmSyQzJl/KAhJLo7LleDIOyVJ5LOuyFQR2/C9UNUlTUJu2fZGkdufGSZgSo7CU6RKSpfpYkrbsOJYiafZ4Vbl4RagXxW02JFFfNTg3K1vydAnJUocz8TQobJvGCe1Kl/PZ44wmmI2g2r4X+0ZhydMlJEsdsKRJQm2GezsPVnmVu0GFxBYSRgOndFXWZmXLb0cX36Da1ceSp0Vmu2VtV1aUeF6S5ChpkI3iRJyiu0FmlFtenVrW0RXUu/pYduXKj/h5TxXkVASiScNPxRvZc+Rik7KleK5sUeAvMKpNfSxJ6xWYeySTPZdDNmIpgLR5zvQGc7D8OE7zkkbXX8EvVcfSTnHEZdKmTZkPWZP41BNYMhzWQxH05pyJbybFqmPrHARTdSxpbBWytsLIi5KUnwSFoiuz8viqS03B8mxnhhd/BYKpPJZ2x+h4nTFLGa84ktXyYs/AWG3MCKL782EhEEz1sbSJ8SOIPj6cnhoEU30sjR/Y9niuVRBMleO/94Dl2ZMzU4Ngqht3P/65/5On91Z5aH/TxH2t3PnCgWCqWmOPHMy8Ox8faSUIpn51aByWT2glCCZgqaJWgmAClipqJQgmYHm4OP61VoJg6oilEfnjt1oJgqkHkLdXZ2ssj28NuLHgOa0EwdQivp6cX50JLI9vj77oX0vPayUIphZN3ifn5LN42N6F5XzWvo5epJUgmDqkS/HACev62nFOtE+WL9RKEEwt0uUUuifLs6ujF2olCKYe6VKE7sny7PbLi7USBFObdKl5stxTK0Ew9UiXmifLvbUSBFOLdKl1snyNVoJgapAutU6Wr9NKEEz106XOyfLVWgmCqXi61DlZvkErQTDnbLPmjm+fzo9n/1AttBIEc64W6+bzxdHpzHH9Ze5PPLr8evUnyHyrVoJgzlILN0fX2Eti5SPxgpPPy7eKM2glCOYctRD1GSXqB/JZG3xaeqTcLFoJgvnWXPnVajtbkyAk9T4syuVcWgmC+ba4vW6prVFk3qcFk898WnlfMOEp6/v2Lya+rVWkwXL9obNqJQjmG7oXg1wvKm0UflkqXc6slSCYr46jSLNkadu5dbvM/8XsWgmC+do4CZFuWNb4sy5aCYL5yrBWulFp+9ESd6AvpJUgmK8Kx9UOSxpdLqCV52/Xyiyl8vWrLN+AYAKWi2ol6Z6gb4Uz+QLBBCwPo5VdwvbHEgQTsJxDKwnZFMh6fSylQSo3jjum3TtYEkJAMAHLJbRSzDft1lMhzHk2LcK659sGu4qcKPSLkLWhv929wTJbTVtAMAHLmbWy88o2xF5t1x5u3SToCWeuiVex1RLWOG1FVziOWr8Tu+Nx94hlFpWt6wUVCCZgObtWrsR803nQ80LOaYpxba+clto0KTu7sPhO1wkHQlyxmzYTkuKVe7mYADNGIJiA5cxaST0xTyBiNfU8cdZdOZW9EjBK8iYsBZA7uycskY98f/B+ef0MBBOwfG1vZVc2m4I4fUktkTczmUbXWIpVnhXH3e4GS1rEnudZng89mIDlzL2VNQ7XBcmnxFKeZrsbLHG2oZbtYNlbTZWm0W9GG4BgApav660cyoTvIz4dC3buFBOWq3tY+tG93fzlRyJPIu93g2DUE0y17vJ7v1g+cxEcNWIa9C52xwKHkT3MlnKVjLtdvmHCcihj2bPp+fpcIv/+/cePH3+/5M8dYLkkls9eBM+DhrGQn2bnQZjVVdDQnWxZOW5GZbbk/DWsrvC0m79QgvO6aiKc/vbCkRDMj8pweffSi1z/6YPlztWQ/d/zwu0zY/n8RXBURBiXPRKFsizDbmq15bL2Aq8eV1Eld9fb7vQ0wlGSV0HJ9BmD+SSWT9XFzwNhWedTpC/9AqHVdDvQpvCC97ih/+z2LPeXwfJlF8G7NO2m+dDTTBxdy+nS5bJLGVrPnr67e71zsFHGqD5jMO9QNlX7zv2G/RPVeSgsXScYw/PfhuVQ+PtjSbbbea1Z6SJY7ju2kjwq3Esmr877CgnmHQqdUkax/fXCSCEsrYLJyNDbGvG87N7SiPtt6S2D5RxjK2cKZQSTY4lZLcLfjjQZsdx8+2ThcFjuKNGQ5ukgf6c6HVsqm/Imi2QMEcZEDwpbl+xxZXxPZ5MsDAqGGKNMLNeHpqMfUPEJ208Va6LJHEvjP82StFgEywVv2dk/VBFMjmW5To20CpOmoCOW2SqOW0ZskrZx3A8HxHLLQu6VJY4qYlNX5HdRm10TlJ7beD5NxK28NPF8FE/tPRWF6T3IDZyy9ZvEDeJBHiAOo7H4HAd3qImG8VMxP5lAoVd4ZRClttw+VthgVwtguewtO/uHIoIpsJy+q6QP2qIVY084ll2UFH0SZXaOm6IvY/+QWI4PV7GHKGE1i6PO7gO3rvmCkNbq6zQOfoml73n8PU1Z+23AfNTgpGLioBFL0vFmordCJPErrFVWF0GISBjEqeiEQVsseSyQLRe/ZWf/kIJ5dtgYsRxrHfWcSLvhmZJjmYuBKENfj7WdB9W/f/2JnvWnTnmSRkZq18FKNuTUj8RwmP/ZOxO2OJUlDGuITow6o9Ek59x7n2ag2ddhG+D//7Fb1c2s6jkaB4alymgAGx4YXr/+urobuJPUtRgYEwgscYzCCyxLrZD7sLWNMqjEspDEUjRwXTdDVTQtAzcAkiEXxVTfrQ+wPL1afrtRvIz1LDJP+X595vif5SwNHyNivASr5YF4Apah5sWYjshsBKXU1vp2l/uv3WIpT8+LmenburCWoZ2jJXSUKBKnh/1rb6il5dlrsQ8XWOZaibxhAUsWUzFFLbDM7EJqYswdUcxJSt6uWn69/QSWVpCJ74MNn0zTijyYr1xfnjkAS7tYQ+ghX7mG72kSSx77WgIKFSorcd8dfbPHw9W3M1XiLHM02y1CUEdbJA/cKLArJmF8Qy1ZViRinwZLpOxALVeKziWWkRBj0MQUdfgVLNNWKnH3TyvxUFvDt3644V1MBoXv6dlbvxRZoj5U4purcmqVFRJL+LjDla8FmbjvtVv8tznTi5vusdx9Zllc2EYZ2UWZwVepBkItJZavN3nEPhrU0zssG7UUPyNNPPQIsQylWr6NZSst8R9zbaX+MZZWEO6rZfiuHVPbdcCOZ683edp/NuLHmjzCTpqGxLIOxdi+de06HGvNatvkOR+W3MQ5VSs7LTU8KaaqTKJUakIt4TrM5AhLsQ/ciNU+lh6OphEja0xPi1iDpfSpmJHqTi3/KUHEDzN0e3PIZC28EcfN8zaP9jsovl9rlwkQyaGWeC1BVCh3fUkQNR8KVGJmprsa3BXXWrlxXcfaiulabGZOEp4Ty+ZzD4yYI2Lg/XAGgVkUqmlAu1zVFeAPmir4YfuHWG72ScWQBoklFI0Qb9hJV1Zsg6U8aunisV5iCfcVXOcrpuzT6fTX2z1q7Mh5YbjgVSXmwuKo8J0AzsCsPK8KAMsyX7FIeG9fFytM3dTQpZNicbx8UWtXm96EzIl3w4mPBNjrTzp9g6W61gxfjzUjLEAtncQw3MJkdeEaLtzbs2G5NERD3Muj0tCctaN5tZg1tTZAAhnAtXZybEOnils4HizJOlrU7SCBPu6T+DVbLX29zpE3qBeaoqEtjLVegoDCUQ08qhYjkC+wjPPcgFNxwpNjOXvNYPLK9gucSIYLeoFzy6AV6hVFAvKuFnau5z544RC+Mx2uwF/KFfhra4pnmo/F4S+QpRpu88v9PstQK/jrtrInfeKbfgymYh8/DyMrizhTw6YfBRfqvV6ejrFM/Sa8iJUV0FkhJ5meewXqhprmoA2oj3KpWluqvm76xPXCavYpsQPDX5tVgW4Ti67DqrDCXB465Dr+Ao+6xi4EWaxyTLmEtyzdnkULI4heGkww+hZYDLfONA8zdFDlhpoWoJOooF5zVGYVSGJTkYssF640xZHWBIvjjmUit+kHnf120E9b+dYIoteTB+fCcu9h5ft+a3OWlgkLcv7Vdjr/UZl9P7a3iKqxO3Lzi4P/jo51ZOFOieXLZ1GnOF+MZZGKk8WEEbYyDatdUDkQ/ljMm9hiKbNcuCKL40QzABSTF1A8VlI4/WbyWXM1K1tX+2krPzbe8lxY/kuuQzfCYyEY5DDgY4O5HQogF7if1JnoGcCfYhvHOrvBUma5cKUSzTLuJWWWiOLws1q6KPT2rvWm6vbxILHe2EqJ5XtHyv6nl1iyWGtm9Q8cy2ODqdvR/gJwBliuN1iKbTJvuRZLIsuFKw3F+SGWjo6xHdlnFrZu9dVWivj596/3xe9+YsmjwnszNTyoKWaHBrNaIqMqmFu5YLjmDku5Ldio5SbLhSuyflehsbfDUm7bO+PCXvHe2krxR/rzvT3cP/uJ5cemRvQaywODGYi04srP5AK0gNgOy3hZCXIlltssF67I/gW0oTssIxsb3Wocbhv5aY9t5R9G77AcxRSzY4MJCpiGqeZZFixkUQ7t5nCLZekmcZgaTZMnsH0cMVvKbp8ciofYAtphaTn2Kgt1e7Vp5PuBGFfNe2krCcu+YblvMMNc0zQvxBHj2Puf8j21ZLFrJ0aVSCz1pRghkFuC28zB4uAGtlhyVjoabNzYyXipiFkozatm+Dge9kJYtoblgcG0okBOCrNCnCK2GSAkf9ZBUKqRHEGUBUEQB3HEmwIyzwz7i7UobHLPGd8O8Zch89V9s5WEZR+xfO1tepzxd845e8fWXQ52NLaSsGwdy46HBo/CVhKWHWA5+8wYzA/mMEb0DEHCsl0sLz4zBvOD08ns8TxxlbBsHctZJ5N0R2MrCctusBSPNGjbYI7HVraPJb1cr4m2DSYf26OpW8WSXkW6rchbNZijspXtY3k3wBc32+3c3zYN5rhsZftYPirpwKhs8zX3bRnMkdnK9rF8ujbqoYnlbWufRjsGk4/yjSetYnnx/PDuR6X2IkL3usV3h7RhMMdnKzvAcvaoFOVgoOSBMW/Vo53eYIKtHOXLTtrFUlRcaWaqvPeh1tG6/dE3JzaYY7SVXWAJFdfdg2b4AwjX/nLb/tu/Tmkw+XhfpNc2lhcX3xaPN3cnfgTYtXJ16qeK3d0+P3XxuqLTGcyR2sqOsBT34sTx7erm5MeEs+zkEz+VwRyrrewQy5Mr8NXNgD/zkxjM0dpKwvJc8XmDyUf+fmbC8hzxWYM5ZltJWJ6Ry08ZzFHbSsJyoAZz3LaSsBykwRy7rSQszxzPf2IwR28rCctzxx8YzPHbSsJyeAZzAraSsByawZyErSQsB2Ywp2ErCcthGcyJ2ErCclAGcyq2krAckMGcjq0kLIdjMCdkKwnLwRhMaStnhCVh2SODOSlbSVgOw2BOzFYSloMwmFOzlYTlEAzm5GwlYTkAgzk9W0lY9t5gTtFWEpZ9N5iTtJWEZc8N5jRtJWHZb4M5UVtJWPbaYE7VVhKWPY0ZGsxqqraSsOyzwZysrSQse2ww59+fLiYchGU/6/HrywvCkrDsH5YzwpKwJCwJS8KSsCQsCUvCkrAkLAlLwpKwJCwJS8KSsCQsCUvCkrAkLAlLwpKwJCwJS8KSsCQsCUvCkrAkLAlLwpKwJCwJS8KSsCQsCUvCkrD8WPz+9evX3/v/guB4y2/CkrDsGkvGXzzW8mALZ4QlYdlx/Pz972+aICwJy87VMgqlOPIw5K8/E5iwJCw7V0vHLQV9ZVJwUkvCsh8N79+xnQr4VvYbb+ghtSQsu1dL0/DwsZaWb5gsWudOajFe6YETMyt18iKgJg9heY6WeGVHgGVkVyxI8mqdFBZ3Es+L1UIrqlxLSS0JyzO0xENNByzXWmb5nsVYCpW5o6ScBQAqszyjJiwJy+7VUnXcmtWuA3wWQRCkQKOTQDOoskNhOSPCkrDsXi1ZbMdCIyNbczEq7oDPZGtkk8dKQFgSlt2rJTMNx8oNC+2lWde1Cd4S1piu4ROrU8KSsDyLWrIqiZNKZC7xJROZKrFMRcYI4CQsCcszqCULEyMBZeSFFpu1bmRMYJkleWkFiaMSloTlOdSSO0vRw1M7iWG4VaOWLDYM380zShARlmdRS5bFsgPSiuI4A0CjQLw4qg7iyKJeHsLyPGr5ZnAxxo2wJCzPopb/GKSWhGW/1JJGEBGWZ1LLv44iio63EJaEZecx+3n4dXl5tGFaM84Iy35SSjMfCUvCkrAkLAlLwshkfqgAABCASURBVJKwJCwJS8KSsBwlkD8Wsw2Ws8WPycH5Q1yyxPLp+Sth2ZN4nt8CmNeXAOXt/HlyOrmY3wOYiOXT4/yR1LI313a5vLpdXF8vbq+Wl1+nRuVsdrN8uF/cXC0e58v5E2HZH7lUlsurh4er5VKZnliCXMKFPzwoX5bL5cDEctxYglw2MT2xlHLZxNDEcuQtcZRLjEmKpZRLEUMTy5FjuZHLKYrlnlwOTizHnreUcjlRsdzK5eDEcuxYSrmcplhu5XJ4Yjn6Xh6Uy8mKZSOXwxPL0WOJcjlVsWzkcoBiOf4+8WdlwmIJcvkwRLEcP5bfLqcrlqiXN0MUy35hOVs83tzfnTjm81Mf8f7mcdHKwI+n59Nf/verUx/xrq3L7ymWi9srOzEGEIn95fb0GvT0OFcSdwCX79oP94vJYPljbhdBbam9D6sOCvv/7J3pcqO8EobzFYkzSxbHk98oQgKxCbEauP8bO90CHCbLjKsO8YS4NRlKQLes5eFVywv82C19UW5UbdpVND/z+NXj9Xlg+XglU+GuIwmRyqtluby/Kwxz3VX0gHB1vX04Cyzv75LWXVGqkrslJ7JfmyhzxXqa74fb3RlgeXnLM3dVKeO3yy3xrx+UWVfzW7n59vWxvN966xoWV3jb5eTy113IVtb+cvv45bEEtdArGxY3U4uFV9c7x6yt+X108/WxvMGb7q8r+fJ2sdXoT3tf91UlFl59eSwvNzFb3bgky/3U93uxuqvS3TtfH8sf9eqGxY03i615bqNgdc33nr7+JE5YEpakloQlYUlqSViSWhKWhCWpJWFJaklYEpakloQlqSVhSViSWhKWhCWpJWFJaklYEpakloQlqSVhSVj+Q7X0szHpY0dM5E0/5Mop8/dUNu3fjvs6q9jJsGS6Ovo3PWmojz3+numfCs9ILV9hWTpqSMXR/elNv1Lz5j9XC8o/Mdol1V+Om4QrHlanwrKN6tk1wMyfvh9cyuzY47ljXGGO7EqWgqGRKanlayyfGmNTevT8xgLxIoOpKtJjfN47nnFZpp6Kg1NhWcy/Ed1H5f9T+RmWyri+zI/ryCDpsBBGavkGlrMBCapM94cZ1fa5qCDTa+a2GruvPeTGncmn75xcs3b6G89WQ4AQjD7TPA3l+dq+Uj/FDnsFVItQZSfFkkEFW+H6pfJ00E9/Y73aofI+VBsPBXoIdGAPsuA1Hp/6y+4AloFRe8yDUTXaQ2nPXgdj36gGT/h+5g/xlP/8Kmevls9Y6rooQLQETEOyKAqMHAOvKKS3Lyq3iWDGFrjFPUssZir0iXKRqyce916UF1E7GFgnDkkBa3uIEYZScZ72ojIuVGQgN8UOWYq8dio9JZZ9g5XvmOFPSlZ5kctCd/Yny7j1bOWd0s051CpNoPIxnCuLMoxUkYvhuO2JElrG68pimRZQmHazGOxrjfa55FnJwYujl+0GDmesIZwwqeosgNB4HAL7KqSWhzmpLsosrWFAUl6nulMNg1ipwUNAWFhYLC1rI5aQESEHHxC5wHPKVuyV9EwwGOAWxEiXSvbunsMwqDjVOY99GIAkh/GQvj0+mxXroj0llp7Ks6wBgcudrmW5kk3pd1aw8fpAtTQFXDe4owtpdFnI1oX2eJmJoKb5dBFpLtMsVyFDLFnpeC1rowjso6RHeyh29II+AWOT5bxmYLivWKmMHyWorlIGvQQvE8me1DJpbIKYKIpx+jK9GOjYK80SzGnO38MyiBKczQyMkZNiH3ojkNPWZSEOHuIXWgQ9sPOeOmugX2AJc6k4IZYsxv0AljspaKKbP8F16D5jaScEVQ47nj2QOzlG42KQtgOWVYetCHlvY8sUjMYCSnAvn8IA+zm0hRswzmzjWzdDlQQssafxl8eedYdVkMpJLXlkU4cAeTbK6QuJQVX3ZPoihiFgMX9fLUefEUvc/I5l5yBqgJ8fSZynU0DSs0OP2zmWouSh755ULZ0m7fFCMBZL3Ig5lsKogdSUxfZHk1rt3RLNLEAHLF2mYdGYQIMnLFmtDHQh6CHY5/Ydj3zEFIxTY2Ig8YClncWhO6A30QteVZy9WubDDcKg+6uQK7nXbsUdiHAKzsuKhyN/72DptujT6AlLe3uEOZYZTtoWywFxN3O8t7FknXqLyo/E0t9DhBumYsTSStUcyyqSrUUwxRkWvXgoSmtWzrHsGx5JqWZYBskTxy5Ue2FRdJ+3gzGfY+nLmAVJErB49GoYxZaz2E6XoYp0yxNYD2Za+wOWMD1NWIYvsbQ+vMhGLPkLLP1kWNMcsBTvYck85QXuabF0RVU2BTcTlunvahmEA3ewEyTWtVIjluI3LD3H6wPWqBmWMU81dmHrThhPWML00aLxDEvotwp3WD15kVoesBT4NhzMW14wTLdCuANKAU5PA4PxSywnn1dqKWrYir0zFA/4BTJCMTTwgm9gCTh0zD0xloxZPQ/FM5ajTtr3q3JnCHXxUMjbUepfq2WQ4AzP4hmWAhl17R0LX6gldGGPi7vfsExV3mFPNMPNeBitxJ+x1DX2N0bee+wq1jW+iLGzDE5PNmxM+Qssq7q0K9E9LBgOWHp4q58M10lmmo4QPw9LDWqbe4Vl+tZq54Ox9MNO4Oc9obCrlIEyGwRWEeTH+GPAEhc7uAJK3ddqGVjSDM7LA5ZIm0Xa1PollnC5tqMxdvVQXCDrBD91MtYrrTNaiY8r8Sb1E950noQJuZJ834WIlFGy28cSYExV5O3j5OVKPFajj3GSrh+wHE155Uun6SBpu9ZsZeF1tQIUZliO9+pi9VNta3Gyt9M5rMQbFXZeApO4hhpXA2VVwfdenOAq5ynEymcWSz+eumQIQUtnNol3Tp03deOEFZ6soDANAUDYNdy+QTTDEt8FReMYjCFYKjw9iK+n7JIoaAav9tzVMo2mVLqtl8jEglFBLs5hDFkZyzBDEG0uzePW7eKx1zDTDz4Clg+ybnP7EbewpmXctvFwk3IDptVQal2CKAxmeaLHHI7HWAtzIiz7eA9Lni6WEpc8rJOxNgk2XaS1rGFZnQWhrXyUuyWe6LuxS0ySusN2cMDad0nS6DaUKR6CwmCLZSdei+/Do/3zdjDuG2lEDobDCS0HFP189DpztRQBC2xiwn7Ky4apVDAbd+EBOGKXOy7mBPxnbPpM/DcfcBHTKfQGUzGWPfkcSh335mUFw79TvW/pTjV5rrx4r/LjibHy4lD5ycEd2yHGMsZueGU/bSfj2asKxg71YvSZ+IzPt78kg9dyNX6tYeG7Ox9Z3Md+31IcUR/xxp5420Ec3cxjO/M81fIvKYPwx5P8X96tlL4GfM5q+c41nYVD9EVYEpafRy0PgRJhSVh+HrV0//0zbAhLUkv6iRlhuQ61JCwJS1JLwpLUkrAkLEktCUvCktSSsCS1JCwJS1JLwvILqeUmFmsbFhEv+HC9iB6u9xnV8iZZnVws+ijSol3dVXkGjyK9eFjfI2I1X+zBzRePKl3fVXkGD27ebbu1jUu33S3W/F9XzdqCGLPc49Q/r1p++y9a2TRWFTeXy12WP9cml37y49fXx/JidxWuKur366vdgs2//5Gs6rJk3vbx4gywvHjYhisamCpceFh2V4le0UW5d35enwWW1w/bqGyDFYRYImjL6Oph4WF5vCu6ag3Nd1lvku3Py4uzwBIE479tkdThp091Umxvdos3//52y1fR/Djabh6vL84Fy4vL3cPt5sfCydkuXeLm9mH3EVpxef8Bzd86d0s3/+bn7ttHr4A/E5Y4NEunb5vN4mV+lFJcX1wvXtfvV7/W0vxPjOXyQ7357/rijNP3q28rrDVhSVgSloQlYUlYEpaEJWFJWBKWhCVhSVgSloQlYUlYEpaEJWFJWBKWhCVhSVgSloQlYUlYEpaEJWFJWBKWhCVhSVgSloQlYUlYEpaEJWFJWBKWhCVhSVgSloQlYUlYEpaEJWFJWBKWhCVhSVgSloQlYUlYEpaEJWFJWP6vvTtrTlQJAzCs4BYNq1wjKIsYF2QMy///Y4OCOcvNqTqTit3N+6ZmKpOLVCX91NcsI8ISlrCEJSxhCUtYwhKWsIQlLGEJS1jCEpawhCUsYQlLWMISlrCEJSxhCUtYwhKWsIQlLGEJS1jCEpawhCUsYQlLWMISlrCEJSxhCUtYwhKWsIQlLGEJS1jCEpawhCUsYQlLWMISlrCEJSxhCUtYwhKWsIQlLGEJS1jCEpawhCUsYQlLWMISlrCEJSxhCUtYwhKWsIQlLGEJS1jCEpawhCUsYQlLWMISlrCEJSxhCUtYwhKWsIQlLGEJSwlYTlxLbZZzy4WlZCwnrrFUmuXcejNhKRfLFqUdrObqsmxRToP3CSwlYvlAGUzVG5ZPlg+UgT24YSkzyw5loOKw7Fh2KIMBDkt5Wc57lIFmqbguLcse5RCHpawstVmPsmX5pmK22aNsWRpvg8uUlKWmBc9V05RsuXz+gPpUG15jSTfx9aqHubQWSrZ2ephTdzHARnKyHI2sDqbuqXqA9YS5GpFMF4g6mLPFSG2Yap7Uqcuyh+ko/JM+YDIuJWP5gDlbj5SGaTIupWPZwnQUv7C3djyWXDqWo7nyd0EmLLl8LIlgSQRLgiURLAmWRLAkWBLBkgiWBEsiWBIsiWBJsCSCJREsCZZEsCRYEsGSYEkES6K+ibv4i6XF0yZIjFYzb/F8YtvS5fdBQmRN9Zlndc+3NHjaBInRfBUE+tLWzGE+VJxEHZdfj6dmWJJQ43Kw78BAwo9LhiWJNy4ZliTguGRYknjjkmFJAo5LhiWJ1ophSSKOS2POb4H+pLXnrL47c/zt39JxF6zVcFCuTD2UodQeexyvDuSk2TXTfXFqYuGrzvWH/r5myYaQZ0fHjX9v136I/FdbXIczXA4gVztUvkRdwncOMJVvMc5OvlTlusOyqb+F53Kp9JPDknGpesa1koylX3CdXvm020Y2lqeQXVz19FI2lX5z5aW+qhdspWOZZAbrBktYEixhSbAkWMKSYEmwhCXBkmAJS4IlLGEJS4IlLAmWBEtYkmAsd03V1fi/tmdYkhAs4yjtXst9SI7XApYkBMsmzOo8r/P6stlUCSxJEJa354u5N03S/tns4iru9ve4ajawpJewPDzp3TfxY1bU0TUqWqhNGV2z/QmW9FKWlzT3j2m0L/IsPPnJPtxe8iyqYEmv2cT/zvKj3cELvWj/VT++VsOSXsDyWj669Czv3/jYYtzqx6qqzuF+B0v6eZb69V647VnWHcvdPgjvX09vCSzpBceW1eNxf8m/WH6m+eXemWlJrzi2/OcpT/21iX/zPR9YwvL/n4k/WV7Ssp2Tv8ozLEkclsk+LYs8usKSfp5lHH1+XU7PCv+c3e+Ln7O8Bbu9X04/s4nTz7PcxfHznKa7+Zj0n93JNjE3H+kVLPn/lgRLgiUsCZawhCUsCZawJFgSLGFJsCRYwpJgCUtYwpJgCUv6ryR8c7044831VM/+3MnGsrquWDfFG0exbCyPqce6KZ6THiVTuSunFuumeJZ5S+RieQqNCeum/LjUa6mOLuODxrBUv4mR1hLNy+pmc2Q5hBaGvj8nUkzMTVxEU2/Omg2g+cQxw4/Pcit85T6yxy4rNpjzHmes6YHw2UvDW7BaA+g3nCoDBUESlA4AAAAASUVORK5CYII=)"
      ],
      "metadata": {
        "id": "yMEl_-rrKOkr"
      }
    },
    {
      "cell_type": "markdown",
      "source": [
        "## Esempio"
      ],
      "metadata": {
        "id": "ZZZlmQlUKawK"
      }
    },
    {
      "cell_type": "code",
      "source": [
        "x = 10\n",
        "\n",
        "if x > 5:\n",
        "    print(\"x è maggiore di 5\")\n",
        "elif x == 5:\n",
        "    print(\"x è uguale a 5\")\n",
        "else:\n",
        "    print(\"x è minore di 5\")"
      ],
      "metadata": {
        "id": "S7O2ChYQmtKQ"
      },
      "execution_count": null,
      "outputs": []
    },
    {
      "cell_type": "markdown",
      "source": [
        "In questo caso, verrà eseguito solo uno dei blocchi di codice, a seconda della prima condizione vera. Se `x` è maggiore di 5, verrà stampato il primo messaggio. Se `x` è uguale a 5, verrà stampato il secondo messaggio. Altrimenti, se nessuna delle condizioni precedenti è vera, verrà eseguito il blocco di codice nell'istruzione `else`.\n",
        "\n",
        "L'indentazione del codice è fondamentale in Python, poiché definisce i blocchi di codice. Tutte le istruzioni all'interno dello stesso blocco devono essere indentate allo stesso livello."
      ],
      "metadata": {
        "id": "W__p2J2cmtwm"
      }
    },
    {
      "cell_type": "markdown",
      "source": [
        "## Condizioni annidate\n",
        "I blocchi condizionali possono anche contenere altri blocchi condizionali annidati per creare alternative più complesse\n",
        "\n",
        "![if_else_nested_condition (1).png](data:image/png;base64,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)\n",
        "\n",
        "Le condizioni annidate, anche se visualmente rendono l’idea delle diverse alternative, in pochissimo tempo diventano molto difficili da seguire logicamente."
      ],
      "metadata": {
        "id": "9Ex2p6iHKgIi"
      }
    },
    {
      "cell_type": "code",
      "source": [
        "if condizione_1 :\n",
        "    if condizione_2 :                                       #\n",
        "        # Blocco eseguito se condizione_2 è vera            # Blocco eseguito se condizione_1 è vera\n",
        "    else:                                                   # o completamente ignorato se false\n",
        "        # Blocco eseguito se condizione_2 è false           #\n",
        "else :\n",
        "    # Blocco eseguito se condizione_1 è falsa"
      ],
      "metadata": {
        "id": "oNjlNhDJKzfo"
      },
      "execution_count": null,
      "outputs": []
    },
    {
      "cell_type": "markdown",
      "source": [
        "# Operatori logici **OR** e **AND**\n",
        "Gli operatori logici `or` e `and` sono utilizzati per combinare condizioni booleane nelle istruzioni condizionali.\n",
        "\n",
        "1. **`or` (o):**\n",
        "   L'operatore `or` restituisce True se almeno una delle condizioni è vera. Se entrambe le condizioni sono false, il risultato è False."
      ],
      "metadata": {
        "id": "C6TAmrhrrjAu"
      }
    },
    {
      "cell_type": "code",
      "source": [
        "condizione1 = True\n",
        "condizione2 = False\n",
        "\n",
        "if condizione1 or condizione2:\n",
        "    print(\"Almeno una delle condizioni è vera.\")\n",
        "else:\n",
        "    print(\"Entrambe le condizioni sono false.\")"
      ],
      "metadata": {
        "id": "Ij2lHFtBrrMQ"
      },
      "execution_count": null,
      "outputs": []
    },
    {
      "cell_type": "markdown",
      "source": [
        "  In questo esempio, il messaggio \"Almeno una delle condizioni è vera.\" verrà stampato perché `condizione1` è vera.\n",
        "\n",
        "2. **`and` (e):**\n",
        "   L'operatore `and` restituisce True solo se entrambe le condizioni sono vere. Se almeno una delle condizioni è falsa, il risultato è False."
      ],
      "metadata": {
        "id": "pYjUy_Lprrpg"
      }
    },
    {
      "cell_type": "code",
      "source": [
        "condizione1 = True\n",
        "condizione2 = False\n",
        "\n",
        "if condizione1 and condizione2:\n",
        "    print(\"Entrambe le condizioni sono vere.\")\n",
        "else:\n",
        "    print(\"Almeno una delle condizioni è falsa.\")"
      ],
      "metadata": {
        "id": "EKTAkku9r0FG"
      },
      "execution_count": null,
      "outputs": []
    },
    {
      "cell_type": "markdown",
      "source": [
        "   In questo esempio, il messaggio \"Almeno una delle condizioni è falsa.\" verrà stampato perché `condizione2` è falsa.\n",
        "\n",
        "Questi operatori sono spesso utilizzati per costruire condizioni più complesse all'interno delle istruzioni `if`, `elif`, e `else`. Ad esempio, è possibile combinare più condizioni usando `and` o `or` per controllare il flusso del programma in base a più criteri."
      ],
      "metadata": {
        "id": "KTW7MQ2sr5uw"
      }
    },
    {
      "cell_type": "markdown",
      "source": [
        "# Keyword `match`\n",
        "\n",
        "L'operatore `match` è utilizzato all'interno delle espressioni `match-case` per la corrispondenza di modelli.\n",
        "\n",
        "### Sintassi di Base:"
      ],
      "metadata": {
        "id": "SuWaKxbL0HWE"
      }
    },
    {
      "cell_type": "code",
      "source": [
        "match valore:\n",
        "    case modello1:\n",
        "        # Codice da eseguire se il valore corrisponde a modello1\n",
        "    case modello2:\n",
        "        # Codice da eseguire se il valore corrisponde a modello2\n",
        "    case _:\n",
        "        # Codice da eseguire se nessun modello corrisponde"
      ],
      "metadata": {
        "id": "gmDWi9sA0Q2S"
      },
      "execution_count": null,
      "outputs": []
    },
    {
      "cell_type": "markdown",
      "source": [
        "### Esempio:"
      ],
      "metadata": {
        "id": "WfTXpstQ0R5a"
      }
    },
    {
      "cell_type": "code",
      "source": [
        "def giorno_della_settimana(giorno):\n",
        "    match giorno:\n",
        "        case \"lunedì\":\n",
        "            print(\"Inizio della settimana!\")\n",
        "        case \"mercoledì\":\n",
        "            print(\"Metà settimana!\")\n",
        "        case \"venerdì\":\n",
        "            print(\"Quasi weekend!\")\n",
        "        case _:\n",
        "            print(\"Altro giorno della settimana.\")"
      ],
      "metadata": {
        "id": "fUy6ZkvU0bSy"
      },
      "execution_count": null,
      "outputs": []
    },
    {
      "cell_type": "markdown",
      "source": [
        "In questo esempio, `match` viene utilizzato per corrispondere ai vari giorni della settimana. Il caso `_` funge da fallback se nessun modello corrisponde.\n",
        "\n",
        "### Limitazioni:\n",
        "\n",
        "- L'operatore `match` è disponibile solo nelle versioni di Python 3.10 e successive.\n",
        "- Il supporto a `match` deve essere abilitato con `from __future__ import match_case` nelle versioni precedenti di Python 3.10."
      ],
      "metadata": {
        "id": "_6RhPxKA0boe"
      }
    }
  ]
}
