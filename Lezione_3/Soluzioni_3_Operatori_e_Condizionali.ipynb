{
  "nbformat": 4,
  "nbformat_minor": 0,
  "metadata": {
    "colab": {
      "provenance": []
    },
    "kernelspec": {
      "name": "python3",
      "display_name": "Python 3"
    },
    "language_info": {
      "name": "python"
    }
  },
  "cells": [
    {
      "cell_type": "markdown",
      "source": [
        "# Esercizio 1"
      ],
      "metadata": {
        "id": "6EwrooqjPKVA"
      }
    },
    {
      "cell_type": "code",
      "source": [
        "numero = int(input(\"Inserisci un numero intero: \"))\n",
        "\n",
        "if numero > 0:\n",
        "    print(\"Il numero è positivo.\")\n",
        "elif numero < 0:\n",
        "    print(\"Il numero è negativo.\")\n",
        "else:\n",
        "    print(\"Il numero è zero.\")"
      ],
      "metadata": {
        "id": "8XK8xtKUO0O3"
      },
      "execution_count": null,
      "outputs": []
    },
    {
      "cell_type": "markdown",
      "source": [
        "# Esercizio 2"
      ],
      "metadata": {
        "id": "8OroOwxDPHzS"
      }
    },
    {
      "cell_type": "code",
      "source": [
        "numero1 = int(input(\"Inserisci il primo numero: \"))\n",
        "numero2 = int(input(\"Inserisci il secondo numero: \"))\n",
        "\n",
        "if numero1 % 2 == 0 and numero2 % 2 == 0:\n",
        "    print(\"Entrambi i numeri sono pari.\")\n",
        "elif numero1 % 2 != 0 and numero2 % 2 != 0:\n",
        "    print(\"Entrambi i numeri sono dispari.\")\n",
        "else:\n",
        "    print(\"Uno è pari e l'altro è dispari.\")"
      ],
      "metadata": {
        "id": "ZaBEXIjzO6bg"
      },
      "execution_count": null,
      "outputs": []
    },
    {
      "cell_type": "markdown",
      "source": [
        "# Esercizio 3"
      ],
      "metadata": {
        "id": "jdKgQO2ePEHx"
      }
    },
    {
      "cell_type": "code",
      "source": [
        "def valuta_voto(voto):\n",
        "    match voto:\n",
        "        case \"A\":\n",
        "            return \"Ottimo\"\n",
        "        case \"B\":\n",
        "            return \"Buono\"\n",
        "        case \"C\":\n",
        "            return \"Sufficiente\"\n",
        "        case \"D\":\n",
        "            return \"Scarse prestazioni\"\n",
        "        case \"F\":\n",
        "            return \"Fallito\"\n",
        "        case _:\n",
        "            return \"Voto non valido\""
      ],
      "metadata": {
        "id": "30xP-5MRO9SO"
      },
      "execution_count": null,
      "outputs": []
    },
    {
      "cell_type": "code",
      "source": [
        "voto_inserito = input(\"Inserisci il voto (A, B, C, D, F): \")\n",
        "risultato_valutazione = valuta_voto(voto_inserito)\n",
        "print(f\"Il voto {voto_inserito} è considerato: {risultato_valutazione}\")"
      ],
      "metadata": {
        "id": "Q60OSyphPCrq"
      },
      "execution_count": null,
      "outputs": []
    },
    {
      "cell_type": "markdown",
      "source": [
        "# Esercizio 4"
      ],
      "metadata": {
        "id": "DNgc1nHrPdbv"
      }
    },
    {
      "cell_type": "code",
      "execution_count": null,
      "metadata": {
        "id": "_UE3aLJxLoAw"
      },
      "outputs": [],
      "source": [
        "eta = int(input(\"Inserisci la tua età: \"))\n",
        "\n",
        "if eta <= 12:\n",
        "    print(\"Sei un bambino.\")\n",
        "elif 12 < eta <= 18:\n",
        "    print(\"Sei un adolescente.\")\n",
        "elif 18 < eta <= 30:\n",
        "    print(\"Sei un adulto giovane.\")\n",
        "else:\n",
        "    print(\"Sei un adulto.\")"
      ]
    },
    {
      "cell_type": "markdown",
      "source": [
        "# Esercizio 5"
      ],
      "metadata": {
        "id": "_xJiSd5bPfCk"
      }
    },
    {
      "cell_type": "code",
      "source": [
        "def verifica_credenziali(username, password):\n",
        "    if username == \"admin\" and password == \"admin123\":\n",
        "        return \"Accesso consentito\"\n",
        "    else:\n",
        "        return \"Credenziali errate\""
      ],
      "metadata": {
        "id": "GBgr_TPuPgN9"
      },
      "execution_count": null,
      "outputs": []
    },
    {
      "cell_type": "code",
      "source": [
        "nome_utente = input(\"Inserisci il nome utente: \")\n",
        "password_utente = input(\"Inserisci la password: \")\n",
        "\n",
        "risultato_accesso = verifica_credenziali(nome_utente, password_utente)\n",
        "print(risultato_accesso)"
      ],
      "metadata": {
        "id": "Eq7KWnMjPlOn"
      },
      "execution_count": null,
      "outputs": []
    }
  ]
}