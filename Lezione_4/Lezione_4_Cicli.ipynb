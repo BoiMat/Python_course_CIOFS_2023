{
  "nbformat": 4,
  "nbformat_minor": 0,
  "metadata": {
    "colab": {
      "provenance": []
    },
    "kernelspec": {
      "name": "python3",
      "display_name": "Python 3"
    },
    "language_info": {
      "name": "python"
    }
  },
  "cells": [
    {
      "cell_type": "markdown",
      "source": [
        "[![Open in Colab](https://colab.research.google.com/assets/colab-badge.svg)](https://colab.research.google.com/github/BoiMat/Python_course_CIOFS_2023/blob/main/Lezione_4/Lezione_4_Cicli.ipynb)"
      ],
      "metadata": {
        "id": "U5vfnySp3weK"
      }
    },
    {
      "cell_type": "markdown",
      "source": [
        "# `while` loop"
      ],
      "metadata": {
        "id": "05e6ZKLutLmU"
      }
    },
    {
      "cell_type": "markdown",
      "source": [
        "Viene utilizzato per eseguire un blocco di istruzioni ripetutamente finché una condizione specifica rimane vera. La struttura generale di un loop `while` è la seguente:"
      ],
      "metadata": {
        "id": "1IJNTZ2-ob4H"
      }
    },
    {
      "cell_type": "code",
      "execution_count": null,
      "metadata": {
        "id": "60FhkzQ3kKQp"
      },
      "outputs": [],
      "source": [
        "while condizione:\n",
        "    # Blocco di codice da eseguire finché la condizione è vera\n",
        "    # ...\n",
        "    # Aggiornamento della condizione, in modo che alla fine diventi falsa"
      ]
    },
    {
      "cell_type": "markdown",
      "source": [
        "- **condizione:** È l'espressione booleana che determina se il blocco di codice all'interno del loop deve essere eseguito. Se la condizione è vera, il blocco di codice viene eseguito; altrimenti, il programma esce dal loop.\n",
        "\n",
        "- **Blocco di Codice:** È l'insieme di istruzioni che vengono eseguite ripetutamente finché la condizione è vera. Assicurati di includere un modo per modificare la condizione in modo che alla fine diventi falsa, altrimenti il loop potrebbe eseguirsi all'infinito."
      ],
      "metadata": {
        "id": "9l2WeaFIoiUi"
      }
    },
    {
      "cell_type": "markdown",
      "source": [
        "\n",
        "### Esempio di Loop While:"
      ],
      "metadata": {
        "id": "WJPhAvDYopFg"
      }
    },
    {
      "cell_type": "code",
      "source": [
        "i = 0\n",
        "while i < 3:\n",
        "  print(\"meow\")\n",
        "  i += 1"
      ],
      "metadata": {
        "id": "OVkdPv4bomPY"
      },
      "execution_count": null,
      "outputs": []
    },
    {
      "cell_type": "markdown",
      "source": [
        "In questo esempio, il loop while continua a eseguire il blocco di codice finché il valore del contatore `i` è minore di 3. Ad ogni iterazione, il contatore viene incrementato di 1.\n",
        "\n",
        "Può essere rappresentato dalla seguente flow chart:"
      ],
      "metadata": {
        "id": "mNAlF_P3oqzx"
      }
    },
    {
      "cell_type": "markdown",
      "source": [
        "![flow_chart_4.png](data:image/png;base64,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)"
      ],
      "metadata": {
        "id": "-NMufW7FqTBf"
      }
    },
    {
      "cell_type": "markdown",
      "source": [
        "I loop `while` sono utilizzati quando non si conosce a priori il numero esatto di iterazioni necessarie, ma si desidera continuare fino a quando una condizione specifica è soddisfatta."
      ],
      "metadata": {
        "id": "I6k-FIVdqR_w"
      }
    },
    {
      "cell_type": "markdown",
      "source": [
        "# `for` loop"
      ],
      "metadata": {
        "id": "74CQb0VNvdKn"
      }
    },
    {
      "cell_type": "markdown",
      "source": [
        "Viene utilizzato per iterare su una sequenza (come una lista, una tupla, una stringa o un altro oggetto iterabile) e eseguire un blocco di codice per ogni elemento della sequenza. La struttura generale di un loop `for` è la seguente:"
      ],
      "metadata": {
        "id": "yxM39BXhBkiO"
      }
    },
    {
      "cell_type": "code",
      "source": [
        "for elemento in sequenza:\n",
        "    # Blocco di codice da eseguire per ogni elemento nella sequenza\n",
        "    # ..."
      ],
      "metadata": {
        "id": "yyIW6pgFvlYf"
      },
      "execution_count": null,
      "outputs": []
    },
    {
      "cell_type": "markdown",
      "source": [
        "- **elemento:** Variabile che assume il valore di ciascun elemento nella sequenza ad ogni iterazione del loop.\n",
        "\n",
        "- **sequenza:** Oggetto iterabile, come una lista, una tupla, una stringa o altri oggetti che possono essere iterati.\n",
        "\n",
        "- **Blocco di Codice:** Contiene le istruzioni da eseguire per ciascun elemento nella sequenza."
      ],
      "metadata": {
        "id": "7B2HAR12vl9i"
      }
    },
    {
      "cell_type": "markdown",
      "source": [
        "\n",
        "### Esempio di Loop For:"
      ],
      "metadata": {
        "id": "9rqYY4Lhvp4n"
      }
    },
    {
      "cell_type": "code",
      "source": [
        "frutta = [\"mela\", \"banana\", \"kiwi\", \"arancia\"]\n",
        "\n",
        "for frutto in frutta:\n",
        "    print(frutto)"
      ],
      "metadata": {
        "id": "eCYcDFV_vpWl"
      },
      "execution_count": null,
      "outputs": []
    },
    {
      "cell_type": "markdown",
      "source": [
        "In questo esempio, il loop `for` itera attraverso la lista `frutta` e stampa ciascun elemento della lista.\n",
        "\n",
        "I loop `for` sono particolarmente utili quando si conosce il numero di iterazioni necessarie e si desidera eseguire un blocco di codice per ciascun elemento in una sequenza. Possono anche essere utilizzati con la funzione `range()` per generare sequenze di numeri da iterare."
      ],
      "metadata": {
        "id": "hJTjDkXfvr2f"
      }
    },
    {
      "cell_type": "markdown",
      "source": [
        "## Funzione `range()`"
      ],
      "metadata": {
        "id": "y5WroHBfv_-e"
      }
    },
    {
      "cell_type": "markdown",
      "source": [
        "utilizzata per generare una sequenza di numeri che può essere iterata. La sintassi generale di `range()` è la seguente:"
      ],
      "metadata": {
        "id": "Ltwp6OhTwKG3"
      }
    },
    {
      "cell_type": "code",
      "source": [
        "range(inizio, fine, passo)"
      ],
      "metadata": {
        "id": "M11E_YfRvw5i"
      },
      "execution_count": null,
      "outputs": []
    },
    {
      "cell_type": "markdown",
      "source": [
        "Dove:\n",
        "- **inizio:** Il valore di partenza della sequenza (incluso). Di default = 0\n",
        "- **fine:** Il valore di fine della sequenza (escluso).\n",
        "- **passo:** L'incremento tra i valori della sequenza. Di default = 1\n",
        "\n",
        "Ecco un esempio di come `range()` può essere utilizzato con un ciclo `for`:"
      ],
      "metadata": {
        "id": "gAnAx7KrwP_J"
      }
    },
    {
      "cell_type": "code",
      "source": [
        "for numero in range(1, 6):\n",
        "    print(numero)"
      ],
      "metadata": {
        "id": "N2HUqcaVwgXF"
      },
      "execution_count": null,
      "outputs": []
    },
    {
      "cell_type": "markdown",
      "source": [
        "Questo esempio stamperebbe i numeri da 1 a 5, perché `range(1, 6)` genera una sequenza che inizia da 1 (incluso) e termina a 6 (escluso).\n",
        "\n",
        "Ecco un esempio più complesso che utilizza `range()` con un passo:"
      ],
      "metadata": {
        "id": "IK283zF0wg8f"
      }
    },
    {
      "cell_type": "code",
      "source": [
        "for numero in range(2, 11, 2):\n",
        "    print(numero)"
      ],
      "metadata": {
        "id": "6CgeS6SAwmYo"
      },
      "execution_count": null,
      "outputs": []
    },
    {
      "cell_type": "markdown",
      "source": [
        "Questo stamperebbe i numeri pari da 2 a 10, incrementando di 2 ad ogni iterazione.\n",
        "\n",
        "La funzione `range()` è molto utile quando si vuole eseguire un ciclo per un numero specifico di volte o quando si desidera generare una sequenza di numeri."
      ],
      "metadata": {
        "id": "Jim6Wx_ywmy2"
      }
    },
    {
      "cell_type": "markdown",
      "source": [
        "# `continue` e `break`"
      ],
      "metadata": {
        "id": "nL43eG6az5rP"
      }
    },
    {
      "cell_type": "markdown",
      "source": [
        "Sono due istruzioni chiave utilizzate per controllare il flusso di esecuzione all'interno di cicli (`for` e `while`).\n",
        "\n",
        "1. **`break`:**\n",
        "   - L'istruzione `break` viene utilizzata per interrompere immediatamente l'esecuzione di un ciclo quando una certa condizione è soddisfatta.\n",
        "   - Dopo l'esecuzione di `break`, il controllo del programma passa alla prima istruzione successiva al ciclo."
      ],
      "metadata": {
        "id": "i_Gc5nBNBhK9"
      }
    },
    {
      "cell_type": "code",
      "source": [
        "for numero in range(1, 11):\n",
        "  if numero == 5:\n",
        "    break  # Interrompe il ciclo quando numero è uguale a 5\n",
        "  print(numero)"
      ],
      "metadata": {
        "id": "bQQzur070C03"
      },
      "execution_count": null,
      "outputs": []
    },
    {
      "cell_type": "markdown",
      "source": [
        "\n",
        "   In questo esempio, il ciclo si interrompe quando `numero` diventa uguale a 5, quindi la stampa viene eseguita solo per i numeri da 1 a 4.\n",
        "\n",
        "2. **`continue`:**\n",
        "   - L'istruzione `continue` viene utilizzata per interrompere l'iterazione corrente di un ciclo e passare alla successiva, ignorando il codice successivo nel blocco del ciclo.\n",
        "   - Dopo l'esecuzione di `continue`, il controllo del programma passa direttamente alla prossima iterazione del ciclo."
      ],
      "metadata": {
        "id": "AQWaDfWV0DPg"
      }
    },
    {
      "cell_type": "code",
      "source": [
        "for numero in range(1, 11):\n",
        "  if numero % 2 == 0:\n",
        "    continue  # Salta il resto del blocco e passa alla prossima iterazione per numeri pari\n",
        "  print(numero)"
      ],
      "metadata": {
        "id": "PqHOpRTe0IfD"
      },
      "execution_count": null,
      "outputs": []
    },
    {
      "cell_type": "markdown",
      "source": [
        "   In questo esempio, il ciclo stampa solo i numeri dispari, poiché `continue` salta l'iterazione corrente quando `numero` è pari.\n",
        "\n",
        "Entrambe le istruzioni sono utili per controllare il comportamento di un ciclo in base a determinate condizioni."
      ],
      "metadata": {
        "id": "M76VAGri0JA0"
      }
    },
    {
      "cell_type": "markdown",
      "source": [
        "## Esempio con funzioni e cicli"
      ],
      "metadata": {
        "id": "_JJwfGkT0S9B"
      }
    },
    {
      "cell_type": "code",
      "source": [
        "# Definizione della funzione principale\n",
        "def main():\n",
        "  number = get_number()       # Ottieni un numero positivo chiamando la funzione get_number()\n",
        "  meow(number)                # Chiamata alla funzione meow() con il numero ottenuto\n",
        "\n",
        "# Definizione della funzione get_number()\n",
        "def get_number():\n",
        "  while True:                 # Ciclo while infinito\n",
        "    n = int(input(\"Quanto vale n? \"))\n",
        "    if n > 0:                 # Verifica se il numero è positivo\n",
        "      return n                # Restituisci il numero positivo\n",
        "\n",
        "# Definizione della funzione meow()\n",
        "def meow(n):\n",
        "  for _ in range(n):          # Ciclo for che itera n volte\n",
        "    print(\"meow\")             # Stampa \"meow\" ad ogni iterazione\n",
        "\n",
        "# Chiamata alla funzione principale\n",
        "main()"
      ],
      "metadata": {
        "id": "JON0P7O10ZIO"
      },
      "execution_count": null,
      "outputs": []
    },
    {
      "cell_type": "markdown",
      "source": [
        "Questo codice definisce tre funzioni: `main()`, `get_number()`, e `meow(n)`. La funzione `main()` richiama le altre due funzioni per ottenere un numero positivo dall'utente (`get_number()`) e quindi stampa \"meow\" il numero di volte specificato (`meow()`). La funzione `get_number()` utilizza un ciclo `while` infinito per garantire che l'utente inserisca un numero positivo. La funzione `meow(n)` utilizza un ciclo `for` per stampare \"meow\" n volte. Infine, la funzione `main()` viene chiamata per eseguire l'intero processo."
      ],
      "metadata": {
        "id": "ZO08JZab0uNz"
      }
    },
    {
      "cell_type": "markdown",
      "source": [
        "# La struttura dati `list`"
      ],
      "metadata": {
        "id": "KyRLjVBHrmVr"
      }
    },
    {
      "cell_type": "markdown",
      "source": [
        "Una lista è una struttura dati molto versatile che consente di memorizzare una sequenza ordinata di elementi. Le liste sono definite utilizzando parentesi quadre `[]` e gli elementi all'interno sono separati da virgole.\n",
        "\n",
        "Esempio:"
      ],
      "metadata": {
        "id": "hSzi-bL9tJcE"
      }
    },
    {
      "cell_type": "code",
      "source": [
        "mia_lista = [1, 2, 3, 4, 5]"
      ],
      "metadata": {
        "id": "QHA3xRlLotzG"
      },
      "execution_count": null,
      "outputs": []
    },
    {
      "cell_type": "markdown",
      "source": [
        "Le liste in Python presentano le seguenti caratteristiche:\n",
        "\n",
        "1. **Ordine:** Gli elementi di una lista sono ordinati e possono essere indicizzati utilizzando indici interi positivi o negativi. L'indice 0 si riferisce al primo elemento, -1 al secondo da ultimo, -2 al terzo da ultimo e così via."
      ],
      "metadata": {
        "id": "OxukCgqusS3s"
      }
    },
    {
      "cell_type": "code",
      "source": [
        "primo_elemento = mia_lista[0]  # Restituisce 1\n",
        "ultimo_elemento = mia_lista[-1]  # Restituisce 5"
      ],
      "metadata": {
        "id": "NPMXjsWBsvWK"
      },
      "execution_count": null,
      "outputs": []
    },
    {
      "cell_type": "markdown",
      "source": [
        "2. **Mutabilità:** Le liste sono oggetti mutabili, il che significa che è possibile modificare, aggiungere o rimuovere elementi dopo la creazione della lista."
      ],
      "metadata": {
        "id": "elL3wJT1sv5g"
      }
    },
    {
      "cell_type": "code",
      "source": [
        "mia_lista[1] = 10  # Modifica il secondo elemento a 10\n",
        "mia_lista.append(6)  # Aggiunge il numero 6 alla fine della lista\n",
        "del mia_lista[2]  # Rimuove il terzo elemento dalla lista"
      ],
      "metadata": {
        "id": "KQhL3utxsz7v"
      },
      "execution_count": null,
      "outputs": []
    },
    {
      "cell_type": "markdown",
      "source": [
        "3. **Tipi Diversi:** Gli elementi di una lista possono essere di tipi diversi, inclusi numeri, stringhe, liste annidate e altri oggetti."
      ],
      "metadata": {
        "id": "jqbGsLKes0ib"
      }
    },
    {
      "cell_type": "code",
      "source": [
        "lista_mista = [1, \"due\", [3, 4], True]"
      ],
      "metadata": {
        "id": "1WjlToTzs5Dw"
      },
      "execution_count": null,
      "outputs": []
    },
    {
      "cell_type": "markdown",
      "source": [
        "4. **Metodi Integrati:** Le liste forniscono vari metodi integrati per eseguire operazioni come l'aggiunta, la rimozione e la ricerca di elementi."
      ],
      "metadata": {
        "id": "fx7abKIDs5jy"
      }
    },
    {
      "cell_type": "code",
      "source": [
        "mia_lista.append(6)  # Aggiunge il numero 6 alla fine della lista\n",
        "mia_lista.remove(3)  # Rimuove il primo elemento con valore 3\n",
        "lunghezza_lista = len(mia_lista)  # Restituisce la lunghezza della lista"
      ],
      "metadata": {
        "id": "RVRKS0mls_Mz"
      },
      "execution_count": null,
      "outputs": []
    },
    {
      "cell_type": "markdown",
      "source": [
        "Le liste sono uno degli strumenti più utilizzati in Python e forniscono una flessibilità significativa per gestire dati strutturati in modo dinamico."
      ],
      "metadata": {
        "id": "E9LJb60Rs_sq"
      }
    },
    {
      "cell_type": "markdown",
      "source": [
        "# Funzione `len()`"
      ],
      "metadata": {
        "id": "7pAqLTn25tP1"
      }
    },
    {
      "cell_type": "markdown",
      "source": [
        "Viene utilizzata per restituire la lunghezza di un oggetto, che può essere una sequenza (come una stringa, una lista, una tupla, ecc.) o una collezione di elementi.\n",
        "\n",
        "### Sintassi:"
      ],
      "metadata": {
        "id": "uXY0wpn6BpGN"
      }
    },
    {
      "cell_type": "code",
      "source": [
        "len(oggetto)"
      ],
      "metadata": {
        "id": "rZ-tEqgJ50dZ"
      },
      "execution_count": null,
      "outputs": []
    },
    {
      "cell_type": "markdown",
      "source": [
        "- **oggetto:** L'oggetto di cui si desidera conoscere la lunghezza.\n",
        "\n",
        "### Esempi:\n",
        "#### 1. Lunghezza di una stringa:"
      ],
      "metadata": {
        "id": "B_VV2XBG509B"
      }
    },
    {
      "cell_type": "code",
      "source": [
        "testo = \"Hello, World!\"\n",
        "lunghezza = len(testo)\n",
        "print(\"La lunghezza della stringa è:\", lunghezza)  # Output: 13"
      ],
      "metadata": {
        "id": "5JixP8k-569U"
      },
      "execution_count": null,
      "outputs": []
    },
    {
      "cell_type": "markdown",
      "source": [
        "#### 2. Lunghezza di una lista:"
      ],
      "metadata": {
        "id": "CCWiuaXY57hR"
      }
    },
    {
      "cell_type": "code",
      "source": [
        "lista_numeri = [1, 2, 3, 4, 5]\n",
        "lunghezza_lista = len(lista_numeri)\n",
        "print(\"La lunghezza della lista è:\", lunghezza_lista)  # Output: 5"
      ],
      "metadata": {
        "id": "7vDj0sxG6FF8"
      },
      "execution_count": null,
      "outputs": []
    },
    {
      "cell_type": "markdown",
      "source": [
        "#### 3. Lista della spesa:"
      ],
      "metadata": {
        "id": "r_i6KL2n6M_l"
      }
    },
    {
      "cell_type": "code",
      "source": [
        "frutta = ['mela', 'banana', 'kiwi', 'arancia']\n",
        "\n",
        "# len() per ottenere la lunghezza della lista\n",
        "lunghezza_lista = len(frutta)\n",
        "\n",
        "# range() per generare una sequenza di indici da 0 a lunghezza_lista-1\n",
        "for indice in range(lunghezza_lista):\n",
        "    print(f\"Elemento alla posizione {indice}: {frutta[indice]}\")"
      ],
      "metadata": {
        "id": "18sCGW4T6WCx"
      },
      "execution_count": null,
      "outputs": []
    },
    {
      "cell_type": "markdown",
      "source": [
        "In questo esempio, `len(frutta)` restituisce la lunghezza della lista `frutta` (che è 4), e `range(lunghezza_lista)` genera una sequenza di indici da 0 a 3. Il ciclo `for` itera su questi indici, e all'interno del ciclo, gli elementi della lista vengono accessi utilizzando gli indici. L'output sarà:\n",
        "\n",
        "```\n",
        "Elemento alla posizione 0: mela\n",
        "Elemento alla posizione 1: banana\n",
        "Elemento alla posizione 2: kiwi\n",
        "Elemento alla posizione 3: arancia\n",
        "```\n",
        "\n",
        "Questo è un modo comune di iterare su una lista quando è necessario conoscere gli indici degli elementi."
      ],
      "metadata": {
        "id": "q7pi4lLY6Usl"
      }
    },
    {
      "cell_type": "markdown",
      "source": [
        "# La struttura dati `dict`"
      ],
      "metadata": {
        "id": "f2AJrmyr-EXW"
      }
    },
    {
      "cell_type": "markdown",
      "source": [
        "Un dizionario consente di memorizzare coppie chiave-valore. I dizionari sono definiti utilizzando le parentesi graffe `{}` e le coppie chiave-valore sono separate da virgole. Ecco un esempio di definizione di un dizionario:"
      ],
      "metadata": {
        "id": "QpdT2en_Bru_"
      }
    },
    {
      "cell_type": "code",
      "source": [
        "mio_dizionario = {'chiave1': 'valore1', 'chiave2': 'valore2', 'chiave3': 'valore3'}"
      ],
      "metadata": {
        "id": "92pQyAmJ6Jiu"
      },
      "execution_count": null,
      "outputs": []
    },
    {
      "cell_type": "markdown",
      "source": [
        "o per renderlo più ordinato:"
      ],
      "metadata": {
        "id": "T0S6Aipl-XEE"
      }
    },
    {
      "cell_type": "code",
      "source": [
        "mio_dizionario = {'chiave1': 'valore1',\n",
        "                  'chiave2': 'valore2',\n",
        "                  'chiave3': 'valore3'}"
      ],
      "metadata": {
        "id": "3RsmnV2o-bJP"
      },
      "execution_count": null,
      "outputs": []
    },
    {
      "cell_type": "markdown",
      "source": [
        "Le caratteristiche principali dei dizionari in Python sono:\n",
        "\n",
        "1. **Chiavi Uniche:** Le chiavi all'interno di un dizionario devono essere uniche. Se provi a definire più elementi con la stessa chiave, verrà mantenuto solo l'ultimo valore associato a quella chiave.\n",
        "\n",
        "2. **Mutabilità:** I dizionari sono oggetti mutabili, il che significa che è possibile modificare, aggiungere o rimuovere coppie chiave-valore dopo la creazione del dizionario.\n",
        "\n",
        "3. **Tipi Diversi:** Le chiavi e i valori possono essere di tipi diversi, consentendo la memorizzazione di dati eterogenei."
      ],
      "metadata": {
        "id": "Ex0yI0D5-Uaw"
      }
    },
    {
      "cell_type": "markdown",
      "source": [
        "### Esempio"
      ],
      "metadata": {
        "id": "9rcMJfwW-njv"
      }
    },
    {
      "cell_type": "code",
      "source": [
        "persona = {\n",
        "    'nome': 'Mario',\n",
        "    'cognome': 'Rossi',\n",
        "    'età': 30,\n",
        "    'professione': 'Programmatore',\n",
        "    }"
      ],
      "metadata": {
        "id": "q780fYy6-fUa"
      },
      "execution_count": null,
      "outputs": []
    },
    {
      "cell_type": "markdown",
      "source": [
        "È possibile accedere ai valori all'interno di un dizionario utilizzando le chiavi:"
      ],
      "metadata": {
        "id": "ndFd4qPN-i4S"
      }
    },
    {
      "cell_type": "code",
      "source": [
        "print(persona['nome'])  # Output: Mario\n",
        "print(persona['età'])   # Output: 30"
      ],
      "metadata": {
        "id": "sV0Q4fXB-siR"
      },
      "execution_count": null,
      "outputs": []
    },
    {
      "cell_type": "markdown",
      "source": [
        "Per aggiungere una nuova coppia chiave-valore o modificare un valore esistente:"
      ],
      "metadata": {
        "id": "1rn1QWwu-s_q"
      }
    },
    {
      "cell_type": "code",
      "source": [
        "persona['sesso'] = 'Maschio'\n",
        "persona['età'] = 31"
      ],
      "metadata": {
        "id": "IceTwwo_-vk8"
      },
      "execution_count": null,
      "outputs": []
    },
    {
      "cell_type": "markdown",
      "source": [
        "Per rimuovere una coppia chiave-valore:"
      ],
      "metadata": {
        "id": "czI9XnQ2-v9J"
      }
    },
    {
      "cell_type": "code",
      "source": [
        "del persona['professione']"
      ],
      "metadata": {
        "id": "NFAB1Q8B-1P1"
      },
      "execution_count": null,
      "outputs": []
    },
    {
      "cell_type": "markdown",
      "source": [
        "I dizionari sono estremamente utili quando si desidera associare informazioni correlate e accedere a tali informazioni utilizzando una chiave univoca."
      ],
      "metadata": {
        "id": "t-cl09QR-2ku"
      }
    }
  ]
}