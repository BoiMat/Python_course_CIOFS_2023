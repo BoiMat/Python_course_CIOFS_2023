{
 "cells": [
  {
   "cell_type": "markdown",
   "metadata": {},
   "source": [
    "[![Open in Colab](https://colab.research.google.com/assets/colab-badge.svg)](https://colab.research.google.com/github/BoiMat/Python_course_CIOFS_2023/blob/main/Lezione_4/Lezione_4_Containers.ipynb)"
   ]
  },
  {
   "cell_type": "markdown",
   "metadata": {},
   "source": [
    "# La struttura dati `list`"
   ]
  },
  {
   "cell_type": "markdown",
   "metadata": {},
   "source": [
    "Una lista è una struttura dati molto versatile che consente di memorizzare una sequenza ordinata di elementi. Le liste sono definite utilizzando parentesi quadre `[]` e gli elementi all'interno sono separati da virgole.\n",
    "\n",
    "Esempio:"
   ]
  },
  {
   "cell_type": "code",
   "execution_count": null,
   "metadata": {},
   "outputs": [],
   "source": [
    "mia_lista = [1, 2, 3, 4, 5]"
   ]
  },
  {
   "cell_type": "markdown",
   "metadata": {},
   "source": [
    "Le liste in Python presentano le seguenti caratteristiche:\n",
    "\n",
    "1. **Ordine:** Gli elementi di una lista sono ordinati e possono essere indicizzati utilizzando indici interi positivi o negativi. L'indice 0 si riferisce al primo elemento, -1 al secondo da ultimo, -2 al terzo da ultimo e così via."
   ]
  },
  {
   "cell_type": "code",
   "execution_count": null,
   "metadata": {},
   "outputs": [],
   "source": [
    "primo_elemento = mia_lista[0]  # Restituisce 1\n",
    "ultimo_elemento = mia_lista[-1]  # Restituisce 5"
   ]
  },
  {
   "cell_type": "markdown",
   "metadata": {},
   "source": [
    "2. **Mutabilità:** Le liste sono oggetti mutabili, il che significa che è possibile modificare, aggiungere o rimuovere elementi dopo la creazione della lista."
   ]
  },
  {
   "cell_type": "code",
   "execution_count": null,
   "metadata": {},
   "outputs": [],
   "source": [
    "mia_lista[1] = 10  # Modifica il secondo elemento a 10\n",
    "mia_lista.append(6)  # Aggiunge il numero 6 alla fine della lista\n",
    "del mia_lista[2]  # Rimuove il terzo elemento dalla lista"
   ]
  },
  {
   "cell_type": "markdown",
   "metadata": {},
   "source": [
    "3. **Tipi Diversi:** Gli elementi di una lista possono essere di tipi diversi, inclusi numeri, stringhe, liste annidate e altri oggetti."
   ]
  },
  {
   "cell_type": "code",
   "execution_count": null,
   "metadata": {},
   "outputs": [],
   "source": [
    "lista_mista = [1, \"due\", [3, 4], True]"
   ]
  },
  {
   "cell_type": "markdown",
   "metadata": {},
   "source": [
    "4. **Metodi Integrati:** Le liste forniscono vari metodi integrati per eseguire operazioni come l'aggiunta, la rimozione e la ricerca di elementi."
   ]
  },
  {
   "cell_type": "code",
   "execution_count": null,
   "metadata": {},
   "outputs": [],
   "source": [
    "mia_lista.append(6)  # Aggiunge il numero 6 alla fine della lista\n",
    "mia_lista.remove(3)  # Rimuove il primo elemento con valore 3\n",
    "lunghezza_lista = len(mia_lista)  # Restituisce la lunghezza della lista"
   ]
  },
  {
   "cell_type": "markdown",
   "metadata": {},
   "source": [
    "Le liste sono uno degli strumenti più utilizzati in Python e forniscono una flessibilità significativa per gestire dati strutturati in modo dinamico."
   ]
  },
  {
   "cell_type": "markdown",
   "metadata": {},
   "source": [
    "## Funzione `len()`"
   ]
  },
  {
   "cell_type": "markdown",
   "metadata": {},
   "source": [
    "Viene utilizzata per restituire la lunghezza di un oggetto, che può essere una sequenza (come una stringa, una lista, una tupla, ecc.) o una collezione di elementi.\n",
    "\n",
    "### Sintassi:"
   ]
  },
  {
   "cell_type": "code",
   "execution_count": null,
   "metadata": {},
   "outputs": [],
   "source": [
    "len(oggetto)"
   ]
  },
  {
   "cell_type": "markdown",
   "metadata": {},
   "source": [
    "- **oggetto:** L'oggetto di cui si desidera conoscere la lunghezza.\n",
    "\n",
    "### Esempi:\n",
    "#### 1. Lunghezza di una stringa:"
   ]
  },
  {
   "cell_type": "code",
   "execution_count": null,
   "metadata": {},
   "outputs": [],
   "source": [
    "testo = \"Hello, World!\"\n",
    "lunghezza = len(testo)\n",
    "print(\"La lunghezza della stringa è:\", lunghezza)  # Output: 13"
   ]
  },
  {
   "cell_type": "markdown",
   "metadata": {},
   "source": [
    "#### 2. Lunghezza di una lista:"
   ]
  },
  {
   "cell_type": "code",
   "execution_count": null,
   "metadata": {},
   "outputs": [],
   "source": [
    "lista_numeri = [1, 2, 3, 4, 5]\n",
    "lunghezza_lista = len(lista_numeri)\n",
    "print(\"La lunghezza della lista è:\", lunghezza_lista)  # Output: 5"
   ]
  },
  {
   "cell_type": "markdown",
   "metadata": {},
   "source": [
    "#### 3. Lista della spesa:"
   ]
  },
  {
   "cell_type": "code",
   "execution_count": null,
   "metadata": {},
   "outputs": [],
   "source": [
    "frutta = ['mela', 'banana', 'kiwi', 'arancia']\n",
    "\n",
    "# len() per ottenere la lunghezza della lista\n",
    "lunghezza_lista = len(frutta)\n",
    "\n",
    "# range() per generare una sequenza di indici da 0 a lunghezza_lista-1\n",
    "for indice in range(lunghezza_lista):\n",
    "    print(f\"Elemento alla posizione {indice}: {frutta[indice]}\")"
   ]
  },
  {
   "cell_type": "markdown",
   "metadata": {},
   "source": [
    "In questo esempio, `len(frutta)` restituisce la lunghezza della lista `frutta` (che è 4), e `range(lunghezza_lista)` genera una sequenza di indici da 0 a 3. Il ciclo `for` itera su questi indici, e all'interno del ciclo, gli elementi della lista vengono accessi utilizzando gli indici. L'output sarà:\n",
    "\n",
    "```\n",
    "Elemento alla posizione 0: mela\n",
    "Elemento alla posizione 1: banana\n",
    "Elemento alla posizione 2: kiwi\n",
    "Elemento alla posizione 3: arancia\n",
    "```\n",
    "\n",
    "Questo è un modo comune di iterare su una lista quando è necessario conoscere gli indici degli elementi."
   ]
  },
  {
   "cell_type": "markdown",
   "metadata": {},
   "source": [
    "# La struttura dati `tuple`"
   ]
  },
  {
   "cell_type": "markdown",
   "metadata": {},
   "source": [
    "Simili alle liste, ma con una differenza fondamentale: sono immutabili, il che significa che, una volta create, non è possibile modificarle. Le tuple vengono definite utilizzando parentesi tonde `()` e possono contenere elementi di diversi tipi. Ecco alcuni esempi di definizione e utilizzo delle tuple:"
   ]
  },
  {
   "cell_type": "code",
   "execution_count": null,
   "metadata": {},
   "outputs": [],
   "source": [
    "# Definizione di una tupla\n",
    "mia_tupla = (1, 2, \"ciao\", 3.14)\n",
    "\n",
    "# Accesso agli elementi di una tupla\n",
    "print(mia_tupla[0])    # Output: 1\n",
    "print(mia_tupla[2])    # Output: ciao\n",
    "\n",
    "# Lunghezza di una tupla\n",
    "lunghezza_tupla = len(mia_tupla)\n",
    "print(lunghezza_tupla)  # Output: 4\n",
    "\n",
    "# Iterazione attraverso una tupla\n",
    "for elemento in mia_tupla:\n",
    "    print(elemento)\n",
    "\n",
    "# Concatenazione di tuple\n",
    "tupla1 = (1, 2, 3)\n",
    "tupla2 = (\"a\", \"b\", \"c\")\n",
    "tupla_concatenata = tupla1 + tupla2\n",
    "print(tupla_concatenata)  # Output: (1, 2, 3, 'a', 'b', 'c')\n",
    "\n",
    "# Verifica di un elemento in una tupla\n",
    "elemento_da_verificare = \"ciao\"\n",
    "presente = elemento_da_verificare in mia_tupla\n",
    "print(presente)  # Output: True\n",
    "\n",
    "# Creazione di una tupla con un solo elemento\n",
    "tupla_singolo_elemento = (42,)"
   ]
  },
  {
   "cell_type": "markdown",
   "metadata": {},
   "source": [
    "Le tuple sono spesso utilizzate quando si desidera creare una collezione di dati che non dovrebbe essere modificata dopo la sua creazione, ad esempio, quando si desidera garantire l'integrità dei dati."
   ]
  },
  {
   "cell_type": "markdown",
   "metadata": {},
   "source": [
    "# La struttura dati `dict`"
   ]
  },
  {
   "cell_type": "markdown",
   "metadata": {},
   "source": [
    "Un dizionario consente di memorizzare coppie chiave-valore. I dizionari sono definiti utilizzando le parentesi graffe `{}` e le coppie chiave-valore sono separate da virgole. Ecco un esempio di definizione di un dizionario:"
   ]
  },
  {
   "cell_type": "code",
   "execution_count": null,
   "metadata": {},
   "outputs": [],
   "source": [
    "mio_dizionario = {'chiave1': 'valore1', 'chiave2': 'valore2', 'chiave3': 'valore3'}"
   ]
  },
  {
   "cell_type": "markdown",
   "metadata": {},
   "source": [
    "o per renderlo più ordinato:"
   ]
  },
  {
   "cell_type": "code",
   "execution_count": null,
   "metadata": {},
   "outputs": [],
   "source": [
    "mio_dizionario = {'chiave1': 'valore1',\n",
    "                  'chiave2': 'valore2',\n",
    "                  'chiave3': 'valore3'}"
   ]
  },
  {
   "cell_type": "markdown",
   "metadata": {},
   "source": [
    "Le caratteristiche principali dei dizionari in Python sono:\n",
    "\n",
    "1. **Chiavi Uniche:** Le chiavi all'interno di un dizionario devono essere uniche. Se provi a definire più elementi con la stessa chiave, verrà mantenuto solo l'ultimo valore associato a quella chiave.\n",
    "\n",
    "2. **Mutabilità:** I dizionari sono oggetti mutabili, il che significa che è possibile modificare, aggiungere o rimuovere coppie chiave-valore dopo la creazione del dizionario.\n",
    "\n",
    "3. **Tipi Diversi:** Le chiavi e i valori possono essere di tipi diversi, consentendo la memorizzazione di dati eterogenei."
   ]
  },
  {
   "cell_type": "markdown",
   "metadata": {},
   "source": [
    "### Esempio"
   ]
  },
  {
   "cell_type": "code",
   "execution_count": null,
   "metadata": {},
   "outputs": [],
   "source": [
    "persona = {\n",
    "    'nome': 'Mario',\n",
    "    'cognome': 'Rossi',\n",
    "    'età': 30,\n",
    "    'professione': 'Programmatore',\n",
    "    }"
   ]
  },
  {
   "cell_type": "markdown",
   "metadata": {},
   "source": [
    "È possibile accedere ai valori all'interno di un dizionario utilizzando le chiavi:"
   ]
  },
  {
   "cell_type": "code",
   "execution_count": null,
   "metadata": {},
   "outputs": [],
   "source": [
    "print(persona['nome'])  # Output: Mario\n",
    "print(persona['età'])   # Output: 30"
   ]
  },
  {
   "cell_type": "markdown",
   "metadata": {},
   "source": [
    "Per aggiungere una nuova coppia chiave-valore o modificare un valore esistente:"
   ]
  },
  {
   "cell_type": "code",
   "execution_count": null,
   "metadata": {},
   "outputs": [],
   "source": [
    "persona['sesso'] = 'Maschio'\n",
    "persona['età'] = 31"
   ]
  },
  {
   "cell_type": "markdown",
   "metadata": {},
   "source": [
    "Per rimuovere una coppia chiave-valore:"
   ]
  },
  {
   "cell_type": "code",
   "execution_count": null,
   "metadata": {},
   "outputs": [],
   "source": [
    "del persona['professione']"
   ]
  },
  {
   "cell_type": "markdown",
   "metadata": {},
   "source": [
    "I dizionari sono estremamente utili quando si desidera associare informazioni correlate e accedere a tali informazioni utilizzando una chiave univoca."
   ]
  }
 ],
 "metadata": {
  "language_info": {
   "name": "python"
  }
 },
 "nbformat": 4,
 "nbformat_minor": 2
}
