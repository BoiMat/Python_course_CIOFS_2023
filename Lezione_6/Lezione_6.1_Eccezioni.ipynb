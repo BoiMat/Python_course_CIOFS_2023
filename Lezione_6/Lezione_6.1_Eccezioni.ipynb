{
 "cells": [
  {
   "cell_type": "markdown",
   "metadata": {},
   "source": [
    "[![Open in Colab](https://colab.research.google.com/assets/colab-badge.svg)](https://colab.research.google.com/github/BoiMat/Python_course_CIOFS_2023/blob/main/Lezione_6/Lezione_6.1_Eccezioni.ipynb)"
   ]
  },
  {
   "cell_type": "markdown",
   "metadata": {},
   "source": [
    "# Eccezioni e Gestione degli Errori\n",
    "\n",
    "Le eccezioni in Python rappresentano situazioni anomale o errori che possono verificarsi durante l'esecuzione di un programma. Esse sono oggetti speciali che vengono generati e restituiti quando si verifica qualcosa di inatteso o non valido durante l'esecuzione di un'istruzione.\n",
    "\n",
    "A differenza degli oggetti restituiti tramite `return` nelle funzioni, le eccezioni si propagano attraverso il programma fino a quando non vengono catturate e gestite o fino a quando raggiungono il programma principale, interrompendo l'esecuzione.\n",
    "\n",
    "## Gestione delle eccezioni con `try` e `except`\n",
    "\n",
    "Quando si prevede la possibilità di un'eccezione in una particolare sezione di codice, è possibile gestirla utilizzando il costrutto `try - except`. Questo consente di catturare e gestire un'eccezione specifica senza interrompere il flusso normale del programma.\n",
    "\n",
    "Ad esempio, consideriamo l'operazione di divisione per zero:"
   ]
  },
  {
   "cell_type": "code",
   "execution_count": null,
   "metadata": {},
   "outputs": [],
   "source": [
    "try:\n",
    "    risultato = 5 / 0\n",
    "except ZeroDivisionError:\n",
    "    print(\"Non posso fare questa operazione\")"
   ]
  },
  {
   "cell_type": "markdown",
   "metadata": {},
   "source": [
    "In questo caso, il blocco `try` esegue le istruzioni normalmente. Se si verifica un'eccezione (nel caso specifico, `ZeroDivisionError`), il controllo passa al blocco `except`, dove è possibile definire come gestire l'eccezione. È anche possibile mantenere informazioni sull'errore:"
   ]
  },
  {
   "cell_type": "code",
   "execution_count": null,
   "metadata": {},
   "outputs": [],
   "source": [
    "try:\n",
    "    risultato = 5 / 0\n",
    "except ZeroDivisionError as testo_errore:\n",
    "    print(f\"Non posso fare questa operazione: {testo_errore}\")"
   ]
  },
  {
   "cell_type": "markdown",
   "metadata": {},
   "source": [
    "In questo esempio, `testo_errore` contiene i dettagli dell'eccezione, consentendo una gestione più informativa.\n",
    "\n",
    "Il costrutto `try - except` funziona nel modo seguente:\n",
    "\n",
    "1. Le istruzioni nel blocco `try` vengono eseguite normalmente.\n",
    "2. Se non si verificano eccezioni, il blocco `except` viene ignorato e il programma continua.\n",
    "3. Se si verifica un'eccezione, il controllo passa al blocco `except` corrispondente al tipo di eccezione.\n",
    "4. Se il blocco `except` viene eseguito, il programma continua normalmente dopo il blocco `except`.\n",
    "5. Se il tipo di eccezione non corrisponde a quello indicato nel blocco `except`, l'eccezione non è gestita e viene propagata al livello superiore del programma.\n",
    "\n",
    "La gestione corretta delle eccezioni è fondamentale per la scrittura di programmi robusti e resilienti agli errori."
   ]
  },
  {
   "cell_type": "markdown",
   "metadata": {},
   "source": [
    "## L'utilizzo di `except`"
   ]
  },
  {
   "cell_type": "markdown",
   "metadata": {},
   "source": [
    "\n",
    "Il blocco `try` può essere seguito da uno o più blocchi `except`, ciascuno dedicato a gestire una specifica eccezione. Ad esempio:"
   ]
  },
  {
   "cell_type": "code",
   "execution_count": null,
   "metadata": {},
   "outputs": [],
   "source": [
    "try: \n",
    "    1/0\n",
    "    1 + 'ciao'\n",
    "    int('ciao')\n",
    "except ZeroDivisionError:\n",
    "    print(f\"Non posso fare questa divisione\")\n",
    "except TypeError:\n",
    "    print(f\"Non posso sommare una stringa ed un numero\")\n",
    "except ValueError:\n",
    "    print(f\"Non posso trasformare una stringa in un numero\")"
   ]
  },
  {
   "cell_type": "markdown",
   "metadata": {},
   "source": [
    "In questo caso, il blocco `try` contiene tre operazioni potenzialmente problematiche, ognuna delle quali può generare un tipo diverso di eccezione. I blocchi `except` successivi catturano e gestiscono le eccezioni specificate.\n",
    "\n",
    "Le eccezioni sono raggruppate in diversi tipi e sottotipi. Il blocco `except` può catturare tutte le eccezioni del tipo specificato, inclusi tutti i sottotipi. Ad esempio, `except Exception` cattura tutte le eccezioni, poiché `Exception` è il tipo principale da cui derivano tutte le eccezioni più specifiche.\n",
    "\n",
    "Tuttavia, è importante fare attenzione a come si catturano le eccezioni. Ad esempio:"
   ]
  },
  {
   "cell_type": "code",
   "execution_count": null,
   "metadata": {},
   "outputs": [],
   "source": [
    "try:\n",
    "    5/0\n",
    "except Exception as testo_errore:\n",
    "    print(f\"Non posso fare questa divisione: {testo_errore}\")"
   ]
  },
  {
   "cell_type": "markdown",
   "metadata": {},
   "source": [
    "In questo caso, `Exception` è troppo generale, e potrebbe catturare eccezioni non previste. È spesso preferibile catturare le eccezioni in modo più specifico, partendo dal tipo più specifico."
   ]
  },
  {
   "cell_type": "code",
   "execution_count": null,
   "metadata": {},
   "outputs": [],
   "source": [
    "try:\n",
    "    5/0\n",
    "except ZeroDivisionError as testo_errore:\n",
    "    print(f\"Non posso fare questa divisione: {testo_errore}\")\n",
    "except Exception as testo_errore:\n",
    "    print(f\"Errore nel fare il conto: {testo_errore}\")"
   ]
  },
  {
   "cell_type": "markdown",
   "metadata": {},
   "source": [
    "Inoltre, una singola clausola `except` può gestire più tipi di eccezioni, elencandoli in una tupla:"
   ]
  },
  {
   "cell_type": "code",
   "execution_count": null,
   "metadata": {},
   "outputs": [],
   "source": [
    "try: \n",
    "    1/0\n",
    "    1 + 'ciao'\n",
    "    int('ciao')\n",
    "except (ZeroDivisionError, TypeError, ValueError):\n",
    "    print(\"Ops\")"
   ]
  },
  {
   "cell_type": "markdown",
   "metadata": {},
   "source": [
    "Questa costruzione è utile quando si desidera eseguire lo stesso blocco di codice per più tipi di eccezioni.\n",
    "\n",
    "Oltre al blocco `except`, il blocco `try` in Python può essere seguito da due altri blocchi opzionali: `finally` e `else`."
   ]
  },
  {
   "cell_type": "markdown",
   "metadata": {},
   "source": [
    "## Blocco `finally`\n",
    "\n",
    "Il blocco `finally` contiene istruzioni che verranno eseguite in ogni caso, sia che una eccezione si verifichi o meno. Ad esempio:"
   ]
  },
  {
   "cell_type": "code",
   "execution_count": null,
   "metadata": {},
   "outputs": [],
   "source": [
    "try:\n",
    "    1/2\n",
    "except ZeroDivisionError as testo_errore:\n",
    "    print(f\"Non posso fare questa divisione: {testo_errore}\")\n",
    "finally:\n",
    "    print(\"Ho finito l'operazione\")"
   ]
  },
  {
   "cell_type": "markdown",
   "metadata": {},
   "source": [
    "In questo caso, il blocco `finally` contiene istruzioni che saranno eseguite indipendentemente dal fatto che un'eccezione sia stata generata o meno durante l'esecuzione del blocco `try`."
   ]
  },
  {
   "cell_type": "code",
   "execution_count": null,
   "metadata": {},
   "outputs": [],
   "source": [
    "try:\n",
    "    1/0\n",
    "except ZeroDivisionError as testo_errore:\n",
    "    print(f\"Non posso fare questa divisione: {testo_errore}\")\n",
    "finally:\n",
    "    print(\"Ho finito l'operazione\")"
   ]
  },
  {
   "cell_type": "markdown",
   "metadata": {},
   "source": [
    "Il blocco `finally` è utile per eseguire operazioni di \"pulizia\" o \"cleanup\", come chiudere file o risorse, indipendentemente dal verificarsi di eccezioni.\n",
    "\n",
    "È importante notare che le istruzioni del blocco `finally` sono le ultime ad essere eseguite e potrebbero sovrascrivere le ultime istruzioni del blocco `try`."
   ]
  },
  {
   "cell_type": "code",
   "execution_count": null,
   "metadata": {},
   "outputs": [],
   "source": [
    "def return_nel_finally():\n",
    "    try:\n",
    "        return True\n",
    "    finally:\n",
    "        return False\n",
    "\n",
    "return_nel_finally()  # Restituisce False"
   ]
  },
  {
   "cell_type": "markdown",
   "metadata": {},
   "source": [
    "## Blocco `else`\n",
    "\n",
    "Il blocco `else` contiene istruzioni che verranno eseguite solo se non ci sono state eccezioni nel blocco `try`. Ad esempio:"
   ]
  },
  {
   "cell_type": "code",
   "execution_count": null,
   "metadata": {},
   "outputs": [],
   "source": [
    "for numero in [5, 0]:\n",
    "    try:\n",
    "        print(f'Provo divisione {numero}')\n",
    "        3/numero\n",
    "    except ZeroDivisionError as testo_errore:\n",
    "        print(f\"Non posso fare questa operazione: {testo_errore}\")\n",
    "    else:\n",
    "        print('Ok')\n",
    "    finally: \n",
    "        print('Continuo')"
   ]
  },
  {
   "cell_type": "markdown",
   "metadata": {},
   "source": [
    "In questo esempio, il blocco `else` contiene istruzioni che verranno eseguite solo se la divisione nel blocco `try` avviene senza generare eccezioni. Il blocco `finally` contiene istruzioni che verranno eseguite indipendentemente dalla presenza o meno di eccezioni.\n",
    "\n",
    "Questa costruzione consente di organizzare il codice in modo chiaro, distinguendo le azioni da eseguire in caso di eccezione da quelle da eseguire in caso di esecuzione senza problemi."
   ]
  },
  {
   "cell_type": "markdown",
   "metadata": {},
   "source": [
    "## Sollevamento di un'Eccezione:\n",
    "Un'eccezione può essere sollevata esplicitamente mediante l'istruzione `raise`. Ad esempio:"
   ]
  },
  {
   "cell_type": "code",
   "execution_count": null,
   "metadata": {},
   "outputs": [],
   "source": [
    "raise ValueError(\"Questo è un messaggio di errore.\")"
   ]
  },
  {
   "cell_type": "markdown",
   "metadata": {},
   "source": [
    "Gestire correttamente le eccezioni è una pratica importante per scrivere programmi robusti e gestire scenari imprevisti durante l'esecuzione del codice."
   ]
  }
 ],
 "metadata": {
  "kernelspec": {
   "display_name": "Python 3",
   "language": "python",
   "name": "python3"
  },
  "language_info": {
   "name": "python",
   "version": "3.11.2"
  }
 },
 "nbformat": 4,
 "nbformat_minor": 2
}
