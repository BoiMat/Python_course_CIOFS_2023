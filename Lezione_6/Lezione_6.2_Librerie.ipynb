{
  "cells": [
    {
      "cell_type": "markdown",
      "metadata": {},
      "source": [
        "[![Open in Colab](https://colab.research.google.com/assets/colab-badge.svg)](https://colab.research.google.com/github/BoiMat/Python_course_CIOFS_2023/blob/main/Lezione_6/Lezione_6.2_Librerie.ipynb)"
      ]
    },
    {
      "cell_type": "markdown",
      "metadata": {
        "id": "stQyBJqwBn-8"
      },
      "source": [
        "# Moduli"
      ]
    },
    {
      "cell_type": "markdown",
      "metadata": {
        "id": "xu9T-R56_1AA"
      },
      "source": [
        "Diverse librerie standard vengono fornite insieme all'interprete Python senza richiedere installazioni aggiuntive. Alcune di queste librerie standard includono:\n",
        "\n",
        "1. **`random`**: Fornisce funzionalità per generare numeri casuali."
      ]
    },
    {
      "cell_type": "code",
      "execution_count": null,
      "metadata": {
        "id": "jVA9QKoYAEOd"
      },
      "outputs": [],
      "source": [
        "import random"
      ]
    },
    {
      "cell_type": "markdown",
      "metadata": {
        "id": "CtqXuxIEAApu"
      },
      "source": [
        "2. **`math`**: Contiene funzioni matematiche di base."
      ]
    },
    {
      "cell_type": "code",
      "execution_count": null,
      "metadata": {
        "id": "InKrZK2oAJ3E"
      },
      "outputs": [],
      "source": [
        "import math"
      ]
    },
    {
      "cell_type": "markdown",
      "metadata": {
        "id": "eoBrMNtFAI0w"
      },
      "source": [
        "Queste librerie sono solo un esempio delle molte librerie utili fornite con Python. Quando inizi a scrivere codice più complesso, potresti scoprire che alcune di queste librerie diventano parte essenziale del tuo lavoro quotidiano.\n",
        "\n",
        "Una volta importata una libreria, possiamo utilizzare tutte le funzioni presenti al suo interno.\n",
        "Ecco un esempio che utilizza la funzione `choice()` presente nella libreria `random`.\n",
        "\n",
        "### Importare la libreria `random`:\n"
      ]
    },
    {
      "cell_type": "code",
      "execution_count": null,
      "metadata": {
        "id": "VWXLZZvlArEv"
      },
      "outputs": [],
      "source": [
        "import random"
      ]
    },
    {
      "cell_type": "markdown",
      "metadata": {
        "id": "LOUzPP2o_vTl"
      },
      "source": [
        "### Esempio con `choice()`:"
      ]
    },
    {
      "cell_type": "code",
      "execution_count": null,
      "metadata": {
        "id": "xqR_MNvKAu-H"
      },
      "outputs": [],
      "source": [
        "# Importa la libreria random\n",
        "import random\n",
        "\n",
        "# Una lista di elementi\n",
        "frutta = ['mela', 'banana', 'arancia', 'uva', 'pera']\n",
        "\n",
        "# Scegli casualmente un elemento dalla lista\n",
        "scelta = random.choice(frutta)\n",
        "\n",
        "# Stampa la scelta casuale\n",
        "print(\"Ho scelto:\", scelta)"
      ]
    },
    {
      "cell_type": "markdown",
      "metadata": {
        "id": "d1DBchuxAvX0"
      },
      "source": [
        "In questo esempio, `choice()` viene utilizzato per selezionare casualmente un elemento dalla lista `frutta`. La keyword `import` consente di utilizzare tutte le funzionalità di `random` nel codice, ma devi sempre precedere il nome della funzione con il nome del modulo `random.`.\n",
        "\n",
        "## Importare solo alcune funzioni con `from`:\n",
        "\n",
        "È possibile importare solo alcune funzioni specifiche da una libreria utilizzando la keyword `from`. Ecco un esempio:"
      ]
    },
    {
      "cell_type": "code",
      "execution_count": null,
      "metadata": {
        "id": "rQuqlHABA0Le"
      },
      "outputs": [],
      "source": [
        "# Importa solo la funzione choice dalla libreria random\n",
        "from random import choice\n",
        "\n",
        "# Una lista di elementi\n",
        "frutta = ['mela', 'banana', 'arancia', 'uva', 'pera']\n",
        "\n",
        "# Scegli casualmente un elemento dalla lista\n",
        "scelta = choice(frutta)\n",
        "\n",
        "# Stampa la scelta casuale\n",
        "print(\"Ho scelto:\", scelta)"
      ]
    },
    {
      "cell_type": "markdown",
      "metadata": {
        "id": "ZtgpQuHlA2mz"
      },
      "source": [
        "In questo caso, utilizzando `from random import choice`, puoi chiamare direttamente `choice()` senza dover utilizzare il prefisso `random.`. Questo può rendere il codice più conciso, ma è importante usarlo con parsimonia per evitare possibili conflitti di nomi."
      ]
    },
    {
      "cell_type": "markdown",
      "metadata": {
        "id": "09I0qXLiBBhV"
      },
      "source": [
        "# Input da linea di comando con `sys`.\n",
        "\n",
        "Un programma ha lo scopo di affrontare e risolvere un determinato problema. La sua efficacia aumenta quando è progettato in modo da generalizzare il problema, consentendo di risolvere situazioni simili con parametri diversi.\n",
        "\n",
        "Oltre a specificare le informazioni in un file di input, un altro metodo per passare valori a variabili di un programma generico consiste nel fornire all'interprete Python, all'avvio del programma, una lista di valori (argomenti) che il programma può leggere. In questo contesto, si dice che i parametri sono passati al programma come argomenti da linea di comando durante la sua esecuzione.\n",
        "\n",
        "Ad esempio, è possibile chiamare un programma con l'interprete Python utilizzando la seguente sintassi:\n",
        "\n",
        "```\n",
        "$ python3 programma.py argomento1 argomento2\n",
        "```\n",
        "\n",
        "Dove `argomento1`, `argomento2`, ecc. sono quantità (valori) che saranno disponibili al programma principale. Qualsiasi quantità specificata insieme alla chiamata del programma sarà memorizzata nella lista di argomenti (`argv`) all'interno del modulo `sys`, a cui possiamo accedere nel seguente modo:"
      ]
    },
    {
      "cell_type": "code",
      "execution_count": null,
      "metadata": {
        "id": "CMExrXP5A4dT"
      },
      "outputs": [],
      "source": [
        "import sys\n",
        "\n",
        "print(sys.argv)"
      ]
    },
    {
      "cell_type": "markdown",
      "metadata": {
        "id": "uCsibI02BzMr"
      },
      "source": [
        "All'interno del programma, è possibile utilizzare i valori passati come argomenti prelevandoli dalla lista `argv`, mantenendo l'ordine con cui sono stati inseriti nella riga di comando.\n",
        "\n",
        "### Esempio\n",
        "Supponiamo di avere uno script Python chiamato `programma.py` che accetta due argomenti da linea di comando e li stampa. Ecco un esempio di utilizzo:\n",
        "\n",
        "**programma.py**"
      ]
    },
    {
      "cell_type": "code",
      "execution_count": null,
      "metadata": {
        "id": "h8PcWSETB1S1"
      },
      "outputs": [],
      "source": [
        "import sys\n",
        "\n",
        "# Verifica che siano stati passati almeno due argomenti\n",
        "if len(sys.argv) < 3:\n",
        "    print(\"Usage: python3 programma.py argomento1 argomento2\")\n",
        "    sys.exit(1)\n",
        "\n",
        "# Prende gli argomenti dalla lista argv\n",
        "argomento1 = sys.argv[1]\n",
        "argomento2 = sys.argv[2]\n",
        "\n",
        "# Stampa gli argomenti\n",
        "print(\"Argomento 1:\", argomento1)\n",
        "print(\"Argomento 2:\", argomento2)"
      ]
    },
    {
      "cell_type": "markdown",
      "metadata": {
        "id": "wC2BvSYUB390"
      },
      "source": [
        "Ora, chiamiamo questo script da linea di comando fornendo due argomenti:\n",
        "\n",
        "```\n",
        "$ python3 programma.py valore1 valore2\n",
        "```\n",
        "\n",
        "Il risultato dovrebbe essere:\n",
        "\n",
        "```\n",
        "Argomento 1: valore1\n",
        "Argomento 2: valore2\n",
        "```\n",
        "\n",
        "In questo esempio, gli argomenti `valore1` e `valore2` vengono passati al programma da linea di comando e vengono successivamente stampati."
      ]
    },
    {
      "cell_type": "markdown",
      "metadata": {
        "id": "NX26snRnCUM5"
      },
      "source": [
        "# Installazione di librerie esterne con PyPI e pip"
      ]
    },
    {
      "cell_type": "markdown",
      "metadata": {
        "id": "FTH-xZcUClOK"
      },
      "source": [
        "- **PyPI (Python Package Index):** PyPI è un repository di pacchetti software Python. Contiene pacchetti Python distribuibili (moduli, librerie) che possono essere installati utilizzando pip.\n",
        "\n",
        "- **pip:** pip è uno strumento per la gestione dei pacchetti in Python. Consente di installare, aggiornare e rimuovere pacchetti Python da PyPI, nonché di gestire le dipendenze dei progetti Python.\n",
        "\n",
        "## Utilizzo di PyPI e pip:\n",
        "\n",
        "### 1. **Installare pip:**\n",
        "   Se non hai pip installato, puoi farlo eseguendo il seguente comando da linea di comando:\n",
        "\n",
        "   ```\n",
        "   $ python -m ensurepip --default-pip\n",
        "   ```\n",
        "\n",
        "### 2. **Aggiornare pip:**\n",
        "   Assicurati di avere l'ultima versione di pip eseguendo:\n",
        "\n",
        "   ```\n",
        "   $ python -m pip install --upgrade pip\n",
        "   ```\n",
        "\n",
        "### 3. **Installare un pacchetto da PyPI:**\n",
        "   Puoi installare un pacchetto Python utilizzando il comando `pip install`:\n",
        "\n",
        "   ```\n",
        "   $ pip install nome_pacchetto\n",
        "   ```\n",
        "\n",
        "   Ad esempio, per installare il pacchetto `requests`:\n",
        "\n",
        "   ```\n",
        "   $ pip install requests\n",
        "   ```\n",
        "\n",
        "### 4. **Installare una versione specifica di un pacchetto:**\n",
        "   Specifica la versione del pacchetto desiderata:\n",
        "\n",
        "   ```\n",
        "   $ pip install nome_pacchetto==versione\n",
        "   ```\n",
        "\n",
        "   Ad esempio:\n",
        "\n",
        "   ```\n",
        "   $ pip install requests==2.26.0\n",
        "   ```\n",
        "\n",
        "### 5. **Disinstallare un pacchetto:**\n",
        "   Per rimuovere un pacchetto, utilizza il comando `pip uninstall`:\n",
        "\n",
        "   ```\n",
        "   $ pip uninstall nome_pacchetto\n",
        "   ```\n",
        "\n",
        "### 6. **Listare pacchetti installati:**\n",
        "   Per visualizzare tutti i pacchetti Python installati, usa:\n",
        "\n",
        "   ```\n",
        "   $ pip list\n",
        "   ```\n",
        "\n",
        "### 7. **Creare un file dei requisiti:**\n",
        "   Puoi generare un file dei requisiti che elenca tutti i pacchetti installati:\n",
        "\n",
        "   ```\n",
        "   $ pip freeze > requirements.txt\n",
        "   ```\n",
        "\n",
        "### 8. **Installare pacchetti da un file dei requisiti:**\n",
        "   Per installare tutti i pacchetti elencati in un file dei requisiti:\n",
        "\n",
        "   ```\n",
        "   $ pip install -r requirements.txt\n",
        "   ```\n",
        "\n",
        "### 9. **Caricare un pacchetto su PyPI:**\n",
        "   Se sviluppi un pacchetto Python e desideri condividerlo con la comunità, puoi caricarlo su PyPI. Segui le istruzioni ufficiali per distribuire il tuo pacchetto: [Packaging on PyPI](https://packaging.python.org/tutorials/packaging-projects/)\n",
        "\n",
        "### 10. **Installare un pacchetto dalla sorgente:**\n",
        "   Se hai il codice sorgente di un pacchetto, puoi installarlo direttamente:\n",
        "\n",
        "   ```\n",
        "   $ pip install percorso_del_pacchetto\n",
        "   ```\n",
        "\n",
        "   Ad esempio:\n",
        "\n",
        "   ```\n",
        "   $ pip install ./mio_pacchetto\n",
        "   ```\n",
        "\n",
        "Questi sono solo alcuni comandi comuni di pip e operazioni relative a PyPI. Sperimenta e scopri ulteriori funzionalità di pip per semplificare la gestione delle dipendenze nei tuoi progetti Python."
      ]
    },
    {
      "cell_type": "markdown",
      "metadata": {
        "id": "7a6G-R5MCzJH"
      },
      "source": [
        "### Esempio"
      ]
    },
    {
      "cell_type": "markdown",
      "metadata": {
        "id": "a6O8AHEaC1qP"
      },
      "source": [
        "Ecco un esempio pratico utilizzando il pacchetto `cowsay` da PyPI:\n",
        "\n",
        "### 1. Installare il pacchetto `cowsay`:\n",
        "\n",
        "```bash\n",
        "$ pip install cowsay\n",
        "```\n",
        "\n",
        "### 2. Utilizzare `cowsay` da linea di comando:\n",
        "\n",
        "```bash\n",
        "$ cowsay \"Ciao da ChatGPT!\"\n",
        " _______\n",
        "< Ciao da ChatGPT! >\n",
        " -------\n",
        "        \\   ^__^\n",
        "         \\  (oo)\\_______\n",
        "            (__)\\       )\\/\\\n",
        "                ||----w |\n",
        "                ||     ||\n",
        "```\n",
        "\n",
        "### 3. Utilizzare `cowsay` in un programma Python:"
      ]
    },
    {
      "cell_type": "code",
      "execution_count": null,
      "metadata": {
        "id": "tKoS24OCCYlH"
      },
      "outputs": [],
      "source": [
        "import cowsay\n",
        "\n",
        "message = \"Salve dal mondo delle mucche!\"\n",
        "cowsay.cow(message)"
      ]
    },
    {
      "cell_type": "markdown",
      "metadata": {
        "id": "RutD4ZR9C61Z"
      },
      "source": [
        "Esegui questo script Python, e vedrai l'output stilizzato di una mucca che dice il messaggio specificato.\n",
        "\n",
        "Ricorda che `cowsay` è un esempio divertente, ma PyPI offre una vasta gamma di pacchetti utili e potenti che puoi integrare nei tuoi progetti Python. Esplora PyPI per trovare pacchetti adatti alle tue esigenze."
      ]
    }
  ],
  "metadata": {
    "colab": {
      "provenance": []
    },
    "kernelspec": {
      "display_name": "Python 3",
      "name": "python3"
    },
    "language_info": {
      "name": "python"
    }
  },
  "nbformat": 4,
  "nbformat_minor": 0
}
