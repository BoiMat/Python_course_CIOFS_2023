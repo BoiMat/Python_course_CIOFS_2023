{
  "nbformat": 4,
  "nbformat_minor": 0,
  "metadata": {
    "colab": {
      "provenance": []
    },
    "kernelspec": {
      "name": "python3",
      "display_name": "Python 3"
    },
    "language_info": {
      "name": "python"
    }
  },
  "cells": [
    {
      "cell_type": "markdown",
      "source": [
        "[![Open in Colab](https://colab.research.google.com/assets/colab-badge.svg)](https://colab.research.google.com/github/BoiMat/Python_course_CIOFS_2023/blob/main/Lezione_8/Lezione_8_Librerie.ipynb)"
      ],
      "metadata": {
        "id": "gBTYbIqf--VZ"
      }
    },
    {
      "cell_type": "markdown",
      "source": [
        "# sys\n",
        "\n",
        "Il modulo `sys` è una libreria di base di Python che fornisce accesso a alcune variabili utili e funzioni associate al sistema. Vediamo alcune delle funzionalità più comuni del modulo `sys`."
      ],
      "metadata": {
        "id": "EocbneB290fR"
      }
    },
    {
      "cell_type": "markdown",
      "source": [
        "\n",
        "## Importare il Modulo `sys`\n",
        "\n",
        "Per utilizzare le funzionalità di `sys`, dobbiamo importare il modulo."
      ],
      "metadata": {
        "id": "tmN9YolX9-iz"
      }
    },
    {
      "cell_type": "code",
      "source": [
        "import sys"
      ],
      "metadata": {
        "id": "lTplfUxy-Cwx"
      },
      "execution_count": null,
      "outputs": []
    },
    {
      "cell_type": "markdown",
      "source": [
        "## Variabili di `sys`\n",
        "\n",
        "### `sys.argv`\n",
        "\n",
        "`sys.argv` è una lista in Python che contiene gli argomenti passati al programma da linea di comando. L'elemento `sys.argv[0]` è il nome del programma stesso."
      ],
      "metadata": {
        "id": "JRHNKJ0k-Bew"
      }
    },
    {
      "cell_type": "code",
      "source": [
        "import sys\n",
        "\n",
        "# Stampa il nome del programma\n",
        "print(\"Nome del programma:\", sys.argv[0])\n",
        "\n",
        "# Stampa gli argomenti passati da linea di comando\n",
        "print(\"Argomenti:\", sys.argv[1:])"
      ],
      "metadata": {
        "id": "euSXEAqA-Gno"
      },
      "execution_count": null,
      "outputs": []
    },
    {
      "cell_type": "markdown",
      "source": [
        "### `sys.path`\n",
        "\n",
        "`sys.path` è una lista che contiene directory di ricerca per moduli Python. Aggiungere una directory a `sys.path` consente di importare moduli da quella directory."
      ],
      "metadata": {
        "id": "X14oIc7J-G4X"
      }
    },
    {
      "cell_type": "code",
      "source": [
        "import sys\n",
        "\n",
        "# Aggiungi una directory al percorso\n",
        "sys.path.append(\"/path/to/your/directory\")"
      ],
      "metadata": {
        "id": "PvwzS1n7-MrL"
      },
      "execution_count": null,
      "outputs": []
    },
    {
      "cell_type": "markdown",
      "source": [
        "## Funzioni di `sys`\n",
        "\n",
        "### `sys.exit()`\n",
        "\n",
        "`sys.exit()` termina immediatamente l'esecuzione del programma."
      ],
      "metadata": {
        "id": "dGFYCrQl-M7D"
      }
    },
    {
      "cell_type": "code",
      "source": [
        "import sys\n",
        "\n",
        "# Condizione di uscita\n",
        "if qualche_condizione:\n",
        "    sys.exit(\"Il programma viene terminato a causa di qualche condizione.\")"
      ],
      "metadata": {
        "id": "3gJZggpX-SC1"
      },
      "execution_count": null,
      "outputs": []
    },
    {
      "cell_type": "markdown",
      "source": [
        "### `sys.stdin`, `sys.stdout`, `sys.stderr`\n",
        "\n",
        "Queste sono le cosiddette \"stream objects\" standard in Python. `sys.stdin` è l'input standard, `sys.stdout` è l'output standard, e `sys.stderr` è l'output degli errori standard."
      ],
      "metadata": {
        "id": "seFfL1Jg-SRY"
      }
    },
    {
      "cell_type": "code",
      "source": [
        "import sys\n",
        "\n",
        "# Leggere da stdin\n",
        "dato_input = sys.stdin.readline()\n",
        "\n",
        "# Stampare su stdout\n",
        "sys.stdout.write(\"Messaggio su stdout\\n\")\n",
        "\n",
        "# Stampare su stderr (errori)\n",
        "sys.stderr.write(\"Errore su stderr\\n\")"
      ],
      "metadata": {
        "id": "eHz92Y8t-X97"
      },
      "execution_count": null,
      "outputs": []
    },
    {
      "cell_type": "markdown",
      "source": [
        "## Utilizzo Interattivo\n",
        "\n",
        "Una delle applicazioni più comuni di `sys.argv` è creare script che possono essere eseguiti da linea di comando e accettare argomenti."
      ],
      "metadata": {
        "id": "ILwk38Vr-Wmt"
      }
    },
    {
      "cell_type": "code",
      "source": [
        "import sys\n",
        "\n",
        "# Esempio: python script.py arg1 arg2\n",
        "# sys.argv[0] = script.py\n",
        "# sys.argv[1] = arg1\n",
        "# sys.argv[2] = arg2\n",
        "\n",
        "if len(sys.argv) > 1:\n",
        "    print(\"Argomenti forniti:\", sys.argv[1:])\n",
        "else:\n",
        "    print(\"Nessun argomento fornito.\")"
      ],
      "metadata": {
        "id": "VP1i4-Bt-ilA"
      },
      "execution_count": null,
      "outputs": []
    },
    {
      "cell_type": "markdown",
      "source": [
        "Con questa lezione, hai acquisito familiarità con alcune delle funzionalità principali del modulo `sys`. Puoi esplorare ulteriormente le possibilità di questo modulo in base alle tue esigenze specifiche."
      ],
      "metadata": {
        "id": "c9MYvYSf-gxg"
      }
    },
    {
      "cell_type": "markdown",
      "source": [
        "# Requests\n",
        "\n",
        "Requests è una libreria Python per inviare richieste HTTP. Per lavorare con API web, spesso dobbiamo inviare richieste HTTP per ottenere o inviare dati. Requests semplifica questo processo."
      ],
      "metadata": {
        "id": "B_0nzVyc8gv_"
      }
    },
    {
      "cell_type": "markdown",
      "source": [
        "## Esempio di Utilizzo di Requests con l'API di iTunes\n",
        "\n",
        "In questa lezione, useremo l'API di iTunes di Apple come esempio. L'API di iTunes consente di cercare informazioni su brani musicali, album, artisti e molto altro."
      ],
      "metadata": {
        "id": "dwSEnbKI9kwT"
      }
    },
    {
      "cell_type": "code",
      "source": [
        "# Importare la libreria requests\n",
        "import requests\n",
        "\n",
        "# URL dell'API di iTunes per la ricerca di brani\n",
        "itunes_api_url = \"https://itunes.apple.com/search\"\n",
        "\n",
        "# Parametri della richiesta (nel nostro caso, la ricerca di brani degli U2)\n",
        "params = {\"term\": \"U2\", \"media\": \"music\", \"entity\": \"song\"}\n",
        "\n",
        "# Eseguire la richiesta GET all'API di iTunes\n",
        "response = requests.get(itunes_api_url, params=params)\n",
        "\n",
        "# Verificare se la richiesta è stata eseguita con successo (codice di stato 200)\n",
        "if response.status_code == 200:\n",
        "    # Convertire la risposta JSON in un dizionario Python\n",
        "    data = response.json()\n",
        "\n",
        "    # Estrarre informazioni dai risultati\n",
        "    songs = data.get(\"results\", [])\n",
        "\n",
        "    # Stampare le prime tre canzoni trovate\n",
        "    for i, song in enumerate(songs[:3], start=1):\n",
        "        print(f\"{i}. {song['trackName']} by {song['artistName']}\")\n",
        "else:\n",
        "    print(f\"Errore nella richiesta: {response.status_code}\")"
      ],
      "metadata": {
        "colab": {
          "base_uri": "https://localhost:8080/"
        },
        "id": "P1kuzr1m9KjE",
        "outputId": "002ce173-8bd5-4c7a-8608-675dcc910b72"
      },
      "execution_count": 14,
      "outputs": [
        {
          "output_type": "stream",
          "name": "stdout",
          "text": [
            "1. I Still Haven't Found What I'm Looking For by U2\n",
            "2. With or Without You by U2\n",
            "3. Invisible (RED) Edit Version by U2\n"
          ]
        }
      ]
    },
    {
      "cell_type": "markdown",
      "source": [
        "In questo esempio, stiamo cercando brani degli U2 sull'API di iTunes. Modifica i parametri della richiesta (`params`) secondo le tue esigenze per ottenere diversi risultati.\n",
        "\n",
        "## Altre Possibili Richieste\n",
        "\n",
        "`Requests` supporta vari tipi di richieste HTTP come GET, POST, PUT, DELETE, ecc. Se lavori con un'API che richiede l'invio di dati, ad esempio con un POST, puoi farlo utilizzando il parametro `data` con `requests.post()`."
      ],
      "metadata": {
        "id": "NfmvC68a9IUp"
      }
    },
    {
      "cell_type": "code",
      "source": [
        "import requests\n",
        "\n",
        "# URL dell'API di destinazione\n",
        "api_url = \"https://example.com/api\"\n",
        "\n",
        "# Dati da inviare con la richiesta POST\n",
        "data_to_send = {\"key\": \"value\"}\n",
        "\n",
        "# Eseguire una richiesta POST con i dati\n",
        "response = requests.post(api_url, data=data_to_send)\n",
        "\n",
        "# Gestire la risposta..."
      ],
      "metadata": {
        "id": "3n7_u24Z9Sgx"
      },
      "execution_count": 15,
      "outputs": []
    },
    {
      "cell_type": "markdown",
      "source": [
        "Con questo esempio, hai una buona base per iniziare a lavorare con richieste HTTP in Python, specialmente quando si tratta di interagire con API web."
      ],
      "metadata": {
        "id": "lt8-Se5i9RUo"
      }
    },
    {
      "cell_type": "markdown",
      "source": [
        "# NumPy\n",
        "\n",
        "NumPy è una libreria in Python utilizzata per lavorare con array multidimensionali e matrici, insieme a una collezione di funzioni matematiche per operare su queste strutture dati. È una delle librerie più fondamentali per il calcolo scientifico in Python."
      ],
      "metadata": {
        "id": "_8x_bsRo51Yp"
      }
    },
    {
      "cell_type": "markdown",
      "source": [
        "## Importare NumPy\n",
        "\n",
        "Per utilizzare NumPy, è necessario importare la libreria. Di solito, viene convenzionalmente importato con l'alias `np`."
      ],
      "metadata": {
        "id": "H6rArq316ZdR"
      }
    },
    {
      "cell_type": "code",
      "execution_count": 4,
      "metadata": {
        "id": "McobGSIM5dKG"
      },
      "outputs": [],
      "source": [
        "import numpy as np"
      ]
    },
    {
      "cell_type": "markdown",
      "source": [
        "## Array NumPy\n",
        "\n",
        "Un array NumPy è una griglia di valori, tutti dello stesso tipo, ed è indicizzato da una tupla di interi non negativi. Possiamo creare un array NumPy utilizzando la funzione `np.array()`."
      ],
      "metadata": {
        "id": "sykfSk2O6GaN"
      }
    },
    {
      "cell_type": "code",
      "source": [
        "# Creare un array NumPy da una lista\n",
        "arr = np.array([1, 2, 3, 4, 5])\n",
        "print(arr)"
      ],
      "metadata": {
        "colab": {
          "base_uri": "https://localhost:8080/"
        },
        "id": "JnDEAjJr6NeU",
        "outputId": "16970df4-44e6-4b99-f9c7-11f0ae149359"
      },
      "execution_count": 5,
      "outputs": [
        {
          "output_type": "stream",
          "name": "stdout",
          "text": [
            "[1 2 3 4 5]\n"
          ]
        }
      ]
    },
    {
      "cell_type": "markdown",
      "source": [
        "## Operazioni sugli Array NumPy\n",
        "\n",
        "NumPy offre un'ampia gamma di operazioni per manipolare array. Ad esempio, possiamo eseguire operazioni aritmetiche su ciascun elemento dell'array."
      ],
      "metadata": {
        "id": "1RKFT5sn6N_R"
      }
    },
    {
      "cell_type": "code",
      "source": [
        "# Esempio di operazioni sugli array\n",
        "arr1 = np.array([1, 2, 3])\n",
        "arr2 = np.array([4, 5, 6])\n",
        "\n",
        "# Somma di due array\n",
        "result_sum = arr1 + arr2\n",
        "\n",
        "# Prodotto di due array\n",
        "result_prod = arr1 * arr2\n",
        "\n",
        "print(result_sum)\n",
        "print(result_prod)"
      ],
      "metadata": {
        "colab": {
          "base_uri": "https://localhost:8080/"
        },
        "id": "OJI-ID8M6dZZ",
        "outputId": "4ed63dc3-b7b9-4cbf-e455-c5ed50fff1ca"
      },
      "execution_count": 6,
      "outputs": [
        {
          "output_type": "stream",
          "name": "stdout",
          "text": [
            "[5 7 9]\n",
            "[ 4 10 18]\n"
          ]
        }
      ]
    },
    {
      "cell_type": "markdown",
      "source": [
        "## Funzioni NumPy\n",
        "\n",
        "NumPy fornisce molte funzioni incorporare per eseguire operazioni matematiche complesse su array. Ad esempio, la funzione `np.sin()` calcola il seno di ciascun elemento dell'array."
      ],
      "metadata": {
        "id": "8Q0vZVaL6d4Q"
      }
    },
    {
      "cell_type": "code",
      "source": [
        "# Applicare una funzione a un array\n",
        "angles = np.array([0, np.pi/2, np.pi])\n",
        "\n",
        "# Calcolare il seno di ciascun elemento\n",
        "sin_values = np.sin(angles)\n",
        "\n",
        "print(sin_values)"
      ],
      "metadata": {
        "colab": {
          "base_uri": "https://localhost:8080/"
        },
        "id": "e5Mopsh06kEB",
        "outputId": "9dde2288-f86c-4d36-e085-692c160e8ef0"
      },
      "execution_count": 7,
      "outputs": [
        {
          "output_type": "stream",
          "name": "stdout",
          "text": [
            "[0.0000000e+00 1.0000000e+00 1.2246468e-16]\n"
          ]
        }
      ]
    },
    {
      "cell_type": "markdown",
      "source": [
        "## Indicizzazione e Filtro degli Array NumPy\n",
        "\n",
        "È possibile accedere agli elementi specifici dell'array e filtrare gli elementi che soddisfano determinate condizioni."
      ],
      "metadata": {
        "id": "t6w_xRMK6kiD"
      }
    },
    {
      "cell_type": "code",
      "source": [
        "# Indicizzazione e filtro\n",
        "arr = np.array([1, 2, 3, 4, 5])\n",
        "\n",
        "# Accesso all'elemento all'indice 2\n",
        "print(arr[2])\n",
        "\n",
        "# Filtrare gli elementi maggiori di 3\n",
        "filtered_arr = arr[arr > 3]\n",
        "print(filtered_arr)"
      ],
      "metadata": {
        "colab": {
          "base_uri": "https://localhost:8080/"
        },
        "id": "SmVNs7_-6oN4",
        "outputId": "61ac5f54-0526-479a-9cbe-296776314ad3"
      },
      "execution_count": 8,
      "outputs": [
        {
          "output_type": "stream",
          "name": "stdout",
          "text": [
            "3\n",
            "[4 5]\n"
          ]
        }
      ]
    },
    {
      "cell_type": "markdown",
      "source": [
        "## Array Multidimensionali\n",
        "\n",
        "NumPy consente di lavorare con array multidimensionali, come matrici."
      ],
      "metadata": {
        "id": "Pb5MDNl46qB0"
      }
    },
    {
      "cell_type": "code",
      "source": [
        "# Array multidimensionale\n",
        "matrix = np.array([[1, 2, 3], [4, 5, 6]])\n",
        "\n",
        "# Dimensione della matrice\n",
        "print(matrix.shape)\n",
        "\n",
        "# Accesso agli elementi della matrice\n",
        "print(matrix[0, 1])"
      ],
      "metadata": {
        "colab": {
          "base_uri": "https://localhost:8080/"
        },
        "id": "Jqazd0Kq6xKt",
        "outputId": "03295a5c-8e26-48ec-a40e-3d0d69e363d9"
      },
      "execution_count": 9,
      "outputs": [
        {
          "output_type": "stream",
          "name": "stdout",
          "text": [
            "(2, 3)\n",
            "2\n"
          ]
        }
      ]
    },
    {
      "cell_type": "markdown",
      "source": [
        "## Funzioni di Generazione di Array\n",
        "\n",
        "NumPy fornisce funzioni per generare array comuni, come array di zeri, array di uno, array lineari, ecc."
      ],
      "metadata": {
        "id": "RliBHYqe6xso"
      }
    },
    {
      "cell_type": "code",
      "source": [
        "# Funzioni di generazione di array\n",
        "zeros_array = np.zeros((2, 3))\n",
        "ones_array = np.ones((2, 3))\n",
        "linear_array = np.linspace(0, 1, 5)\n",
        "\n",
        "print(zeros_array)\n",
        "print(ones_array)\n",
        "print(linear_array)"
      ],
      "metadata": {
        "colab": {
          "base_uri": "https://localhost:8080/"
        },
        "id": "i2UMMmz763we",
        "outputId": "d75bcd85-3669-4f33-a174-e78789314b99"
      },
      "execution_count": 10,
      "outputs": [
        {
          "output_type": "stream",
          "name": "stdout",
          "text": [
            "[[0. 0. 0.]\n",
            " [0. 0. 0.]]\n",
            "[[1. 1. 1.]\n",
            " [1. 1. 1.]]\n",
            "[0.   0.25 0.5  0.75 1.  ]\n"
          ]
        }
      ]
    },
    {
      "cell_type": "markdown",
      "source": [
        "## Algebra Lineare con NumPy\n",
        "\n",
        "NumPy supporta operazioni di algebra lineare, come il calcolo del prodotto scalare, l'inversione di una matrice, ecc."
      ],
      "metadata": {
        "id": "RElsZLKJ64RL"
      }
    },
    {
      "cell_type": "code",
      "source": [
        "# Algebra lineare con NumPy\n",
        "A = np.array([[1, 2], [3, 4]])\n",
        "B = np.array([[5, 6], [7, 8]])\n",
        "\n",
        "# Prodotto scalare\n",
        "dot_product = np.dot(A, B)\n",
        "\n",
        "# Inversione di una matrice\n",
        "inverse_A = np.linalg.inv(A)\n",
        "\n",
        "print(dot_product)\n",
        "print(inverse_A)"
      ],
      "metadata": {
        "colab": {
          "base_uri": "https://localhost:8080/"
        },
        "id": "kl4ILwqN67bP",
        "outputId": "fa971c50-13c2-41d2-b996-0d6dfb9f53e7"
      },
      "execution_count": 11,
      "outputs": [
        {
          "output_type": "stream",
          "name": "stdout",
          "text": [
            "[[19 22]\n",
            " [43 50]]\n",
            "[[-2.   1. ]\n",
            " [ 1.5 -0.5]]\n"
          ]
        }
      ]
    },
    {
      "cell_type": "markdown",
      "source": [
        "Questi sono solo alcuni degli aspetti fondamentali di NumPy. La libreria è estremamente potente e offre molte altre funzionalità che la rendono uno strumento essenziale per il calcolo scientifico in Python."
      ],
      "metadata": {
        "id": "dYp34vwY674C"
      }
    },
    {
      "cell_type": "markdown",
      "source": [
        "# Matplotlib\n",
        "\n",
        "Matplotlib è una libreria di visualizzazione dati in Python. Con essa, è possibile creare grafici di alta qualità, diagrammi e visualizzazioni in modo semplice e intuitivo. È ampiamente utilizzato nel campo scientifico e nell'analisi dei dati."
      ],
      "metadata": {
        "id": "8RiMcSsH7Hpi"
      }
    },
    {
      "cell_type": "markdown",
      "source": [
        "## Concetti fondamentali: Figure e Assi\n",
        "Matplotlib organizza i grafici all'interno di due concetti principali:\n",
        "- **Figure:** Rappresenta la finestra o la pagina in cui i grafici sono disegnati.\n",
        "- **Assi:** Sono gli assi x e y su cui i dati sono rappresentati.\n",
        "\n",
        "## Creare un semplice grafico con Matplotlib:"
      ],
      "metadata": {
        "id": "f-utEH6s7Ubu"
      }
    },
    {
      "cell_type": "code",
      "source": [
        "import matplotlib.pyplot as plt\n",
        "\n",
        "# Dati di esempio\n",
        "x = [1, 2, 3, 4, 5]\n",
        "y = [2, 4, 6, 8, 10]\n",
        "\n",
        "# Creare una figura e assi\n",
        "plt.figure()\n",
        "\n",
        "# Disegnare un grafico a linee\n",
        "plt.plot(x, y)\n",
        "\n",
        "# Aggiungere etichette agli assi\n",
        "plt.xlabel('Asse X')\n",
        "plt.ylabel('Asse Y')\n",
        "\n",
        "# Aggiungere un titolo al grafico\n",
        "plt.title('Grafico di esempio')\n",
        "\n",
        "# Visualizzare il grafico\n",
        "plt.show()"
      ],
      "metadata": {
        "colab": {
          "base_uri": "https://localhost:8080/",
          "height": 472
        },
        "id": "5l0w2EKl6_sO",
        "outputId": "493af25d-b39d-45bd-8484-48d502a9023a"
      },
      "execution_count": 1,
      "outputs": [
        {
          "output_type": "display_data",
          "data": {
            "text/plain": [
              "<Figure size 640x480 with 1 Axes>"
            ],
            "image/png": "[encoded data removed]"
          },
          "metadata": {}
        }
      ]
    },
    {
      "cell_type": "markdown",
      "source": [
        "In questo esempio, `plt.plot(x, y)` crea un grafico a linee utilizzando i dati forniti. `plt.xlabel`, `plt.ylabel` e `plt.title` aggiungono rispettivamente etichette agli assi x e y e un titolo al grafico.\n",
        "\n",
        "## Altri tipi di grafico:\n",
        "Matplotlib supporta vari tipi di grafici, tra cui:\n",
        "- Grafico a dispersione (`plt.scatter`)\n",
        "- Istogramma (`plt.hist`)\n",
        "- Grafico a barre (`plt.bar`)\n",
        "- Grafico a torta (`plt.pie`)\n",
        "\n",
        "### Grafico a Dispersione:"
      ],
      "metadata": {
        "id": "10i0__vU7cFV"
      }
    },
    {
      "cell_type": "code",
      "source": [
        "# Dati di esempio\n",
        "x = [1, 2, 3, 4, 5]\n",
        "y = [2, 4, 6, 8, 10]\n",
        "\n",
        "# Creare una figura e assi\n",
        "plt.figure()\n",
        "\n",
        "# Disegnare un grafico a dispersione\n",
        "plt.scatter(x, y, color='red', marker='o')\n",
        "\n",
        "# Aggiungere etichette agli assi\n",
        "plt.xlabel('Asse X')\n",
        "plt.ylabel('Asse Y')\n",
        "\n",
        "# Aggiungere un titolo al grafico\n",
        "plt.title('Grafico a Dispersione')\n",
        "\n",
        "# Visualizzare il grafico\n",
        "plt.show()"
      ],
      "metadata": {
        "colab": {
          "base_uri": "https://localhost:8080/",
          "height": 472
        },
        "id": "EJepKPBj7wCc",
        "outputId": "91154ac5-8ee6-4f5a-c3dc-9dff97d2b3d9"
      },
      "execution_count": 2,
      "outputs": [
        {
          "output_type": "display_data",
          "data": {
            "text/plain": [
              "<Figure size 640x480 with 1 Axes>"
            ],
            "image/png": "[encoded data removed]"
          },
          "metadata": {}
        }
      ]
    },
    {
      "cell_type": "markdown",
      "source": [
        "### Istogramma:"
      ],
      "metadata": {
        "id": "CafmHoK97we2"
      }
    },
    {
      "cell_type": "code",
      "source": [
        "# Dati di esempio\n",
        "data = [1, 2, 2, 3, 3, 3, 4, 4, 5, 5, 5, 5]\n",
        "\n",
        "# Creare una figura e assi\n",
        "plt.figure()\n",
        "\n",
        "# Disegnare un istogramma\n",
        "plt.hist(data, bins=5, color='green', edgecolor='black')\n",
        "\n",
        "# Aggiungere etichette agli assi\n",
        "plt.xlabel('Valore')\n",
        "plt.ylabel('Frequenza')\n",
        "\n",
        "# Aggiungere un titolo al grafico\n",
        "plt.title('Istogramma')\n",
        "\n",
        "# Visualizzare il grafico\n",
        "plt.show()"
      ],
      "metadata": {
        "colab": {
          "base_uri": "https://localhost:8080/",
          "height": 472
        },
        "id": "CpU4Vp8E746H",
        "outputId": "486cae9f-b961-443c-c6c2-f9b514478345"
      },
      "execution_count": 3,
      "outputs": [
        {
          "output_type": "display_data",
          "data": {
            "text/plain": [
              "<Figure size 640x480 with 1 Axes>"
            ],
            "image/png": "[encoded data removed]"
          },
          "metadata": {}
        }
      ]
    },
    {
      "cell_type": "markdown",
      "source": [
        "### Grafico a Barre:"
      ],
      "metadata": {
        "id": "Y1CrVnnQ75Z_"
      }
    },
    {
      "cell_type": "code",
      "source": [
        "# Dati di esempio\n",
        "categories = ['A', 'B', 'C', 'D']\n",
        "values = [3, 7, 1, 5]\n",
        "\n",
        "# Creare una figura e assi\n",
        "plt.figure()\n",
        "\n",
        "# Disegnare un grafico a barre\n",
        "plt.bar(categories, values, color='blue')\n",
        "\n",
        "# Aggiungere etichette agli assi\n",
        "plt.xlabel('Categorie')\n",
        "plt.ylabel('Valori')\n",
        "\n",
        "# Aggiungere un titolo al grafico\n",
        "plt.title('Grafico a Barre')\n",
        "\n",
        "# Visualizzare il grafico\n",
        "plt.show()"
      ],
      "metadata": {
        "colab": {
          "base_uri": "https://localhost:8080/",
          "height": 472
        },
        "id": "1di3AGZt793c",
        "outputId": "566c4dd9-6afd-4d6c-d868-ac27975aa778"
      },
      "execution_count": 12,
      "outputs": [
        {
          "output_type": "display_data",
          "data": {
            "text/plain": [
              "<Figure size 640x480 with 1 Axes>"
            ],
            "image/png": "[encoded data removed]"
          },
          "metadata": {}
        }
      ]
    },
    {
      "cell_type": "markdown",
      "source": [
        "### Grafico a Torta:"
      ],
      "metadata": {
        "id": "VjI3OMxa7-Yh"
      }
    },
    {
      "cell_type": "code",
      "source": [
        "# Dati di esempio\n",
        "labels = ['A', 'B', 'C', 'D']\n",
        "sizes = [15, 30, 45, 10]\n",
        "\n",
        "# Creare una figura\n",
        "plt.figure()\n",
        "\n",
        "# Disegnare un grafico a torta\n",
        "plt.pie(sizes, labels=labels, autopct='%1.1f%%', startangle=90, colors=['gold', 'lightcoral', 'lightskyblue', 'lightgreen'])\n",
        "\n",
        "# Aggiungere un titolo al grafico\n",
        "plt.title('Grafico a Torta')\n",
        "\n",
        "# Visualizzare il grafico\n",
        "plt.show()"
      ],
      "metadata": {
        "colab": {
          "base_uri": "https://localhost:8080/",
          "height": 428
        },
        "id": "Xed3Klzt8ThU",
        "outputId": "a50e7dfe-c269-4084-f3b0-19955578ae00"
      },
      "execution_count": 13,
      "outputs": [
        {
          "output_type": "display_data",
          "data": {
            "text/plain": [
              "<Figure size 640x480 with 1 Axes>"
            ],
            "image/png": "[encoded data removed]"
          },
          "metadata": {}
        }
      ]
    },
    {
      "cell_type": "markdown",
      "source": [
        "**Nota:** Matplotlib offre una vasta gamma di opzioni di personalizzazione per i grafici. Esplora la [documentazione ufficiale di Matplotlib](https://matplotlib.org/stable/contents.html) per ulteriori dettagli."
      ],
      "metadata": {
        "id": "GfCgMAjX8T8L"
      }
    }
  ]
}