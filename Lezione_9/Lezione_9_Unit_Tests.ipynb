{
  "cells": [
    {
      "cell_type": "markdown",
      "metadata": {},
      "source": [
        "[![Open in Colab](https://colab.research.google.com/assets/colab-badge.svg)](https://colab.research.google.com/github/BoiMat/Python_course_CIOFS_2023/blob/main/Lezione_9/Lezione_9_Unit_Tests.ipynb)"
      ]
    },
    {
      "cell_type": "markdown",
      "metadata": {
        "id": "M-zEUwUJ83fQ"
      },
      "source": [
        "# Lezione su Unit Tests con `pytest`\n",
        "\n",
        "## Introduzione a Unit Testing\n",
        "\n",
        "Il testing delle unità è una pratica fondamentale nello sviluppo del software. Consiste nell'esaminare porzioni di codice (unità) per assicurarsi che funzionino correttamente. In Python, `pytest` è una delle librerie più comuni per eseguire test automatizzati.\n",
        "\n",
        "## Installazione di `pytest`\n",
        "\n",
        "```bash\n",
        "pip install pytest\n",
        "```\n",
        "\n",
        "## Struttura del Progetto\n",
        "\n",
        "Supponiamo di avere il seguente modulo Python con una funzione che desideriamo testare."
      ]
    },
    {
      "cell_type": "code",
      "execution_count": null,
      "metadata": {
        "id": "SlKW3bOr8ydd"
      },
      "outputs": [],
      "source": [
        "# modulo.py\n",
        "\n",
        "def square(n):\n",
        "    return n * n"
      ]
    },
    {
      "cell_type": "markdown",
      "metadata": {
        "id": "nr8XSJ9788J-"
      },
      "source": [
        "Creiamo ora una directory per il nostro progetto e aggiungiamo una directory `tests` al suo interno. All'interno della directory `tests`, creiamo un file denominato `test_modulo.py` per i nostri test.\n",
        "\n",
        "```\n",
        "project/\n",
        "|-- modulo.py\n",
        "|-- tests/\n",
        "    |-- test_modulo.py\n",
        "```\n",
        "\n",
        "## Scrivere i Test"
      ]
    },
    {
      "cell_type": "code",
      "execution_count": null,
      "metadata": {
        "id": "GCOc9Mgd9Atd"
      },
      "outputs": [],
      "source": [
        "# test_modulo.py\n",
        "\n",
        "from modulo import square\n",
        "\n",
        "def test_square_positive_number():\n",
        "    assert square(4) == 16\n",
        "\n",
        "def test_square_negative_number():\n",
        "    assert square(-3) == 9\n",
        "\n",
        "def test_square_zero():\n",
        "    assert square(0) == 0"
      ]
    },
    {
      "cell_type": "markdown",
      "metadata": {
        "id": "FiFrOJvI9BM2"
      },
      "source": [
        "Ogni funzione di test inizia con \"test_\" e utilizza l'asserzione `assert` per verificare che una condizione sia vera. Se la condizione è falsa, l'assertion fallisce e il test viene segnalato come non valido.\n",
        "\n",
        "## Esecuzione dei Test\n",
        "\n",
        "Per eseguire i test, apriamo un terminale nella directory principale del progetto e eseguiamo il comando:\n",
        "\n",
        "```bash\n",
        "pytest\n",
        "```\n",
        "\n",
        "`pytest` cercherà automaticamente tutti i file di test nella directory corrente e nelle sue sotto-directory e eseguirà i test in essi contenuti.\n",
        "\n",
        "## Output di Esempio\n",
        "\n",
        "```\n",
        "============================= test session starts ==============================\n",
        "platform darwin -- Python 3.x.y, pytest-7.x.y, pluggy-1.x.y\n",
        "rootdir: /path/to/your/project\n",
        "collected 3 items                                                               \n",
        "\n",
        "tests/test_modulo.py ...                                                [100%]\n",
        "\n",
        "========================== 3 passed in 0.20 seconds ===========================\n",
        "```\n",
        "\n",
        "Se tutti i test passano, vedrai un output simile a questo. In caso di problemi, `pytest` fornirà informazioni dettagliate su quali test sono falliti e perché.\n",
        "\n",
        "## Vantaggi dell'Unit Testing\n",
        "\n",
        "- **Rilevare Bug Precocemente:** I test delle unità consentono di individuare e risolvere i bug mentre il codice viene scritto, risparmiando tempo e sforzi.\n",
        "- **Facilità di Manutenzione:** I test servono da documentazione vivente e consentono di apportare modifiche al codice con maggiore sicurezza, sapendo che i test rileveranno eventuali problemi.\n",
        "- **Incremento della Confindenza:** I test aumentano la fiducia nello sviluppo e forniscono una rete di sicurezza durante le fasi di sviluppo.\n",
        "\n",
        "## Conclusione\n",
        "\n",
        "La scrittura e l'esecuzione di test è una pratica chiave nello sviluppo di software di alta qualità. `pytest` semplifica questo processo, fornendo un modo efficace ed efficiente per scrivere e gestire test automatizzati."
      ]
    }
  ],
  "metadata": {
    "colab": {
      "provenance": []
    },
    "kernelspec": {
      "display_name": "Python 3",
      "name": "python3"
    },
    "language_info": {
      "name": "python"
    }
  },
  "nbformat": 4,
  "nbformat_minor": 0
}
